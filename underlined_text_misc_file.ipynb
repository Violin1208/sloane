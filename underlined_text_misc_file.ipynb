{
 "cells": [
  {
   "cell_type": "code",
   "execution_count": 3,
   "metadata": {},
   "outputs": [],
   "source": [
    "from lxml import etree\n",
    "import re\n",
    "import csv\n",
    "import pandas as pd"
   ]
  },
  {
   "cell_type": "code",
   "execution_count": 4,
   "metadata": {},
   "outputs": [],
   "source": [
    "path = '/Users/deborahleem/Documents/1_PhD/XMLSloane2021/output_person_place_misc_cleaned_up_25042021.xml'\n",
    "doc = etree.parse(open(path))\n",
    "root = doc.getroot()"
   ]
  },
  {
   "cell_type": "code",
   "execution_count": 5,
   "metadata": {},
   "outputs": [],
   "source": [
    "excluded = {\n",
    "  \"EPF108491027v\": [\"2108\",\"2109\",\"2110\",\"2111\"], # \"Miscellanies\"\n",
    "  \"EPF108491177v\": [\"1\",\"2\"], # \"Antiquities\"\n",
    "  \"EPF108491178v\": [\"1\",\"2\",\"3\",\"4\"], # \"Antiquities\"\n",
    "  \"EPF108491179v\": [\"4\",\"5\",\"6\",\"7\",\"8\",\"1\"], # \"Antiquities\"\n",
    "  \"EPF108491180v\": [\"2\",\"3\"], # \"Antiquities\"\n",
    "  \"EPF108491181v\": [\"4\",\"5\"], # \"Antiquities\"\n",
    "  \"EPF108491182v\": [\"1\",\"2\",\"3\",\"4\",\"5\"], # \"Antiquities\"\n",
    "  \"EPF108491183v\": [\"6\",\"7\",\"8\",\"9\",\"10\",\"11\",\"12\"], # \"Antiquities\"\n",
    "  \"EPF108491184v\": [\"13\",\"14\",\"1\",\"2\",\"3\",\"4\",\"5\",\"1\"], # \"Antiquities\"\n",
    "  \"EPF108491186v\": [\"1\",\"2\",\"3\",\"4\",\"5\",\"6\",\"7\",\"8\",\"9\",\"10\",\"11\",\"12\",\"13\",\"14\",\"15\",\"16\",\"17\",\"18\",\"19\"], # \"Antiquities\"\n",
    "  \"EPF108491187v\": [\"20\",\"21\",\"22\",\"23\",\"24\",\"25\",\"26\",\"27\",\"28\",\"29\",\"30\",\"31\",\"32\",\"33\",\"34\",\"35\",\"36\",\"37\",\"38\",\"39\"], # \"Antiquities\"\n",
    "  \"EPF108491188v\": [\"40\",\"41\",\"42\",\"43\",\"44\",\"45\",\"46\",\"47\",\"48\",\"1\",\"2\",\"3\",\"4\",\"5\",\"6\",\"7\",\"8\",\"9\"], # \"Antiquities\"\n",
    "  \"EPF108491189v\": [\"10\",\"11\",\"12\",\"1\",\"2\",\"3\",\"4\",\"5\",\"6\"], # \"Antiquities\"\n",
    "  \"EPF108491190v\": [\"7\",\"8\",\"9\",\"10\",\"11\"], # \"Antiquities\"\n",
    "}"
   ]
  },
  {
   "cell_type": "code",
   "execution_count": 6,
   "metadata": {},
   "outputs": [
    {
     "name": "stderr",
     "output_type": "stream",
     "text": [
      "/Users/deborahleem/scripts/venvs/deb_1.0/lib/python3.7/site-packages/ipykernel_launcher.py:6: FutureWarning: The behavior of this method will change in future versions. Use specific 'len(elem)' or 'elem is not None' test instead.\n",
      "  \n"
     ]
    }
   ],
   "source": [
    "#To remove some elements\n",
    "def remove_element(el):\n",
    "    parent = el.getparent()\n",
    "    if el.tail:\n",
    "        prev = el.getprevious()\n",
    "        if prev:\n",
    "            prev.tail = (prev.tail or '') + el.tail\n",
    "        else:\n",
    "            parent.text = (parent.text or '') + el.tail\n",
    "    parent.remove(el)\n",
    "\n",
    "# Remove every <add rend=\"del\"> and <add rend=\"pencil\"> from document before the rest of analysis.\n",
    "#Confusing to have these with catnum\n",
    "for e in list(root.iterfind('.//{*}add')):\n",
    "    if ('rend' in e.attrib) and (e.attrib['rend'] == 'del' or e.attrib['rend'] == 'pencil'):\n",
    "        #print('removing', etree.tostring(e, pretty_print=True))\n",
    "        if e.text == '-1861' or e.text == '2094.' or e.text == '-382.':\n",
    "            continue\n",
    "        remove_element(e)"
   ]
  },
  {
   "cell_type": "code",
   "execution_count": 7,
   "metadata": {},
   "outputs": [],
   "source": [
    "def find_enclosing_div3(element):\n",
    "    while element is not None:\n",
    "        if element.tag == '{http://www.tei-c.org/ns/1.0}div3':\n",
    "            return element\n",
    "        element = element.getparent()\n",
    "    \n",
    "def find_pb_xml_id(element):\n",
    "    element = find_enclosing_div3(element)\n",
    "    while element is not None:\n",
    "#         print(element.tag)\n",
    "        if element.tag == '{http://www.tei-c.org/ns/1.0}pb':\n",
    "            return element.attrib['{http://www.w3.org/XML/1998/namespace}id']\n",
    "        element = element.getprevious()"
   ]
  },
  {
   "cell_type": "code",
   "execution_count": 8,
   "metadata": {},
   "outputs": [],
   "source": [
    "#div2 <label> contains a catalogue name for each catalogue in Misc volume\n",
    "def find_div2_label(element):\n",
    "    while element is not None:\n",
    "        if element.tag == '{http://www.tei-c.org/ns/1.0}div2':\n",
    "            label = element.find('{*}label')\n",
    "            if label is not None:\n",
    "                return ''.join(label.itertext()).strip()\n",
    "            return\n",
    "        element = element.getparent()"
   ]
  },
  {
   "cell_type": "code",
   "execution_count": 9,
   "metadata": {},
   "outputs": [],
   "source": [
    "#Clean up catnum\n",
    "\n",
    "def cleanup_catnum(text):\n",
    "    #removing from beginning and end:\n",
    "    # \\s spaces/tabs/newlines\n",
    "    # \\- dashes\n",
    "    # . dots\n",
    "    # ? question marks\n",
    "    # _ underscores\n",
    "    # ✓\n",
    "    text = re.sub(r'^[ ✓\\t\\n.\\-_?]+', \"\", text)\n",
    "    text = re.sub(r'[ ✓\\t\\n.\\-_?]+$', \"\", text)\n",
    "    text = re.sub(r'[ ✓\\t\\n.\\-_?]+\\*', \"*\", text)\n",
    "    text = text.replace('. ', ' ')\n",
    "    return text"
   ]
  },
  {
   "cell_type": "code",
   "execution_count": 10,
   "metadata": {},
   "outputs": [],
   "source": [
    "#Page number <pb> contains a unique ID for each page\n",
    "def find_pb_xml_id(element):\n",
    "    element = find_enclosing_div3(element)\n",
    "    while element is not None:\n",
    "        if element.tag == '{http://www.tei-c.org/ns/1.0}pb':\n",
    "            return element.attrib['{http://www.w3.org/XML/1998/namespace}id']\n",
    "        element = element.getprevious()"
   ]
  },
  {
   "cell_type": "code",
   "execution_count": 11,
   "metadata": {},
   "outputs": [],
   "source": [
    "#find catalogue number\n",
    "def find_catnums_in_div3(div3):\n",
    "    return [cleanup_catnum(''.join(cn.itertext())) for cn in div3.findall(\"{*}catnum\")]"
   ]
  },
  {
   "cell_type": "code",
   "execution_count": 12,
   "metadata": {},
   "outputs": [],
   "source": [
    "#to find all underlined in div3s\n",
    "def find_underlines_in_div3(div3):\n",
    "    return [''.join(el.itertext()).strip() for el in div3.findall(\".//{*}add[@rend='underline']\")]"
   ]
  },
  {
   "cell_type": "code",
   "execution_count": 13,
   "metadata": {},
   "outputs": [],
   "source": [
    "#to indicate when a person name or country is underlined \n",
    "#so that we know which words represent place names and person names\n",
    "#looking at underline and checks inside the underline element\n",
    "\"\"\"\n",
    "2. Issue:\n",
    "<pb xml:id=\"EPF108491019\"/> catnum225 Handisyd not picked up\n",
    "Because it's deleted\n",
    "\n",
    "\"\"\"\n",
    "\n",
    "\n",
    "def find_person_for_element(element):\n",
    "    inside = element.find(\".//{*}persName\")\n",
    "    if inside is not None:\n",
    "        return inside.attrib['ref']\n",
    "    while element is not None:\n",
    "        if element.tag == '{http://www.tei-c.org/ns/1.0}persName':\n",
    "            return element.attrib['ref']\n",
    "        element = element.getparent()"
   ]
  },
  {
   "cell_type": "code",
   "execution_count": 14,
   "metadata": {},
   "outputs": [],
   "source": [
    "def find_place_for_element(element):\n",
    "    inside = element.find(\".//{*}placeName\")\n",
    "    if inside is not None:\n",
    "        return inside.attrib['ref']\n",
    "    while element is not None:\n",
    "        if element.tag == '{http://www.tei-c.org/ns/1.0}placeName':\n",
    "            return element.attrib['ref']\n",
    "        element = element.getparent()"
   ]
  },
  {
   "cell_type": "code",
   "execution_count": 15,
   "metadata": {},
   "outputs": [],
   "source": [
    "#looking for underlined person in the whole div3\n",
    "def find_underlined_persons(element):\n",
    "    underlines = element.findall(\".//{*}add[@rend='underline']\")\n",
    "    refs = [find_person_for_element(el) for el in underlines]\n",
    "    return [r for r in refs if r]"
   ]
  },
  {
   "cell_type": "code",
   "execution_count": 16,
   "metadata": {},
   "outputs": [],
   "source": [
    "def find_underlined_places(element):\n",
    "    underlines = element.findall(\".//{*}add[@rend='underline']\")\n",
    "    refs = [find_place_for_element(el) for el in underlines]\n",
    "    #to remove 'none'\n",
    "    return [r for r in refs if r]"
   ]
  },
  {
   "cell_type": "code",
   "execution_count": 17,
   "metadata": {},
   "outputs": [
    {
     "data": {
      "text/plain": [
       "'\\nAdd text\\nAdd text xml\\nLook at add_rend.ipynb where xml and text paragraph are extracted\\n\\n'"
      ]
     },
     "execution_count": 17,
     "metadata": {},
     "output_type": "execute_result"
    }
   ],
   "source": [
    "\"\"\"\n",
    "Add text\n",
    "Add text xml\n",
    "Look at add_rend.ipynb where xml and text paragraph are extracted\n",
    "\n",
    "\"\"\""
   ]
  },
  {
   "cell_type": "code",
   "execution_count": 42,
   "metadata": {},
   "outputs": [],
   "source": [
    "def text_in_tag(tag):\n",
    "    return re.sub(r'\\s+', ' ', ''.join(tag.itertext())).strip()\n",
    "\n",
    "def xml_in_tag(tag):\n",
    "    # This needs a fix, there is extra stuff at the end\n",
    "    return re.sub(r'[^>]*$', '', str(etree.tostring(tag)))"
   ]
  },
  {
   "cell_type": "code",
   "execution_count": 64,
   "metadata": {},
   "outputs": [],
   "source": [
    "df_underlined = pd.DataFrame({\n",
    "    'catnum': [],\n",
    "    'underline': [],\n",
    "    'label': [],\n",
    "    'xml_id': [],\n",
    "    'person': [],\n",
    "    'place': [],\n",
    "    'text': [],\n",
    "    'xml': [],\n",
    "})"
   ]
  },
  {
   "cell_type": "code",
   "execution_count": 65,
   "metadata": {},
   "outputs": [],
   "source": [
    "def check_if_excluded(element):\n",
    "#     print(\"CHECK\", ('Index' in find_div2_label(element)), find_div2_label(element))\n",
    "    if 'Index' in find_div2_label(element):\n",
    "        return True\n",
    "    for catnum in element.findall(\"{*}catnum\"):\n",
    "        text = \"\".join(catnum.itertext())\n",
    "        text = cleanup_catnum(text)\n",
    "        pb_xml_id = find_pb_xml_id(catnum)\n",
    "        if pb_xml_id in excluded:\n",
    "            if text in excluded[pb_xml_id]:\n",
    "                return True\n",
    "    return False"
   ]
  },
  {
   "cell_type": "code",
   "execution_count": 66,
   "metadata": {},
   "outputs": [],
   "source": [
    "#to remove [] from the csv\n",
    "def join_list(catnums):\n",
    "    return \", \".join(catnums)\n"
   ]
  },
  {
   "cell_type": "code",
   "execution_count": 67,
   "metadata": {},
   "outputs": [],
   "source": [
    "#to extract text within <add rend=\"underline\"> </add>\n",
    "\n",
    "for div3 in root.iter(\"{*}div3\"):\n",
    "    underlines = find_underlines_in_div3(div3)\n",
    "    if not underlines:\n",
    "        continue\n",
    "    if check_if_excluded(div3):\n",
    "        continue\n",
    "#     if 'Turkey' not in str(etree.tostring(div3)):\n",
    "#         continue\n",
    "#     print(\"CHECKING\",\n",
    "#         \"I'm a div3\",\n",
    "#         \"my catnums are\", find_catnums_in_div3(div3),\n",
    "#         \", my underlines are\", underlines,\n",
    "#         \", label:\", find_div2_label(div3),\n",
    "#         \", pb xml id:\", find_pb_xml_id(div3)         \n",
    "#     )\n",
    "\n",
    "    df_underlined = df_underlined.append({\n",
    "        'catnum': join_list(find_catnums_in_div3(div3)),\n",
    "        'underline': join_list(underlines),\n",
    "        'label': find_div2_label(div3), \n",
    "        'xml_id': find_pb_xml_id(div3),\n",
    "        'person': join_list(find_underlined_persons(div3)), \n",
    "        'place': join_list(find_underlined_places(div3)),\n",
    "        'text': text_in_tag(div3),\n",
    "        'xml': xml_in_tag(div3)\n",
    "        }, ignore_index=True)\n",
    "\n",
    "#     print(\n",
    "#         \"I'm a div3\",\n",
    "#         \"my catnums are\", find_catnums_in_div3(div3),\n",
    "#         \", my underlines are\", underlines,\n",
    "#         \", label:\", find_div2_label(div3),\n",
    "#         \", pb xml id:\", find_pb_xml_id(div3),\n",
    "#         \", my persons:\", find_underlined_persons(div3),\n",
    "#         \", my places:\", find_underlined_places(div3)\n",
    "#     )"
   ]
  },
  {
   "cell_type": "code",
   "execution_count": 68,
   "metadata": {},
   "outputs": [
    {
     "name": "stdout",
     "output_type": "stream",
     "text": [
      "     catnum                         underline                         label  \\\n",
      "0      1799                       bow, Amyand                 Miscellanies.   \n",
      "1      1800                       Arrows, Id.                 Miscellanies.   \n",
      "2      1801                trumpet, Theobalds                 Miscellanies.   \n",
      "3      1802                              shoe                 Miscellanies.   \n",
      "4      1803                            girdle                 Miscellanies.   \n",
      "...     ...                               ...                           ...   \n",
      "3871    298                       Jasper haft  Agate cups botles spoons &c.   \n",
      "3872    299                           Another  Agate cups botles spoons &c.   \n",
      "3873    300                           Another  Agate cups botles spoons &c.   \n",
      "3874    301                        Jasper cup  Agate cups botles spoons &c.   \n",
      "3875    302  Amethyst, snuff box, Montmorency  Agate cups botles spoons &c.   \n",
      "\n",
      "             xml_id                 person place  \\\n",
      "0     EPF108491002v            #Mr._Amyand         \n",
      "1     EPF108491002v                                \n",
      "2     EPF108491002v  #James_Theobalds_Esqr         \n",
      "3     EPF108491002v                                \n",
      "4     EPF108491002v                                \n",
      "...             ...                    ...   ...   \n",
      "3871   EPF108491329                                \n",
      "3872   EPF108491329                                \n",
      "3873   EPF108491329                                \n",
      "3874   EPF108491329                                \n",
      "3875   EPF108491329     #Madam_Montmorency         \n",
      "\n",
      "                                                   text  \\\n",
      "0     -1799. A bow said to be made of a bone from Ea...   \n",
      "1                      -1800. Arrows from the same. Id.   \n",
      "2     -1801. A trumpet from Norway made of 2 pieces ...   \n",
      "3                      -1802. A Chinese womans shoe. 24   \n",
      "4     -1803. A chinese womans girdle wt. her handker...   \n",
      "...                                                 ...   \n",
      "3871     -298. A Jasper haft purplish wt. white spotts.   \n",
      "3872              -299. Another purplish white & green.   \n",
      "3873       -300. Another greenish brown wt. red spotts.   \n",
      "3874  -301. A yellow Jasper cup mounted on a stalk &...   \n",
      "3875  -302. An Amethyst &c snuff box given me by Mad...   \n",
      "\n",
      "                                                    xml  \n",
      "0     b'<div3 xmlns=\"http://www.tei-c.org/ns/1.0\" xm...  \n",
      "1     b'<div3 xmlns=\"http://www.tei-c.org/ns/1.0\" xm...  \n",
      "2     b'<div3 xmlns=\"http://www.tei-c.org/ns/1.0\" xm...  \n",
      "3     b'<div3 xmlns=\"http://www.tei-c.org/ns/1.0\" xm...  \n",
      "4     b'<div3 xmlns=\"http://www.tei-c.org/ns/1.0\" xm...  \n",
      "...                                                 ...  \n",
      "3871  b'<div3 xmlns=\"http://www.tei-c.org/ns/1.0\" xm...  \n",
      "3872  b'<div3 xmlns=\"http://www.tei-c.org/ns/1.0\" xm...  \n",
      "3873  b'<div3 xmlns=\"http://www.tei-c.org/ns/1.0\" xm...  \n",
      "3874  b'<div3 xmlns=\"http://www.tei-c.org/ns/1.0\" xm...  \n",
      "3875  b'<div3 xmlns=\"http://www.tei-c.org/ns/1.0\" xm...  \n",
      "\n",
      "[3876 rows x 8 columns]\n"
     ]
    }
   ],
   "source": [
    "print(df_underlined)\n",
    "df_underlined.to_csv('underlined.csv')"
   ]
  },
  {
   "cell_type": "code",
   "execution_count": null,
   "metadata": {},
   "outputs": [],
   "source": [
    "#total number of entries (catnum) extrated with underlined words\n",
    "df"
   ]
  },
  {
   "cell_type": "code",
   "execution_count": null,
   "metadata": {},
   "outputs": [],
   "source": [
    "#how many person names underlined\n"
   ]
  },
  {
   "cell_type": "code",
   "execution_count": null,
   "metadata": {},
   "outputs": [],
   "source": [
    "#how many countries underlined\n",
    "\n"
   ]
  },
  {
   "cell_type": "code",
   "execution_count": null,
   "metadata": {},
   "outputs": [],
   "source": []
  },
  {
   "cell_type": "code",
   "execution_count": null,
   "metadata": {},
   "outputs": [],
   "source": []
  },
  {
   "cell_type": "code",
   "execution_count": null,
   "metadata": {},
   "outputs": [],
   "source": []
  }
 ],
 "metadata": {
  "kernelspec": {
   "display_name": "Python 3",
   "language": "python",
   "name": "python3"
  },
  "language_info": {
   "codemirror_mode": {
    "name": "ipython",
    "version": 3
   },
   "file_extension": ".py",
   "mimetype": "text/x-python",
   "name": "python",
   "nbconvert_exporter": "python",
   "pygments_lexer": "ipython3",
   "version": "3.7.1"
  }
 },
 "nbformat": 4,
 "nbformat_minor": 4
}
