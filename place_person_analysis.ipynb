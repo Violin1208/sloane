{
 "cells": [
  {
   "cell_type": "code",
   "execution_count": 1,
   "metadata": {},
   "outputs": [],
   "source": [
    "#To do 07/02/2020: 914*  714 catnum still not working. add rend =\"del\" AND -1404. 3 add rend didn't work here.\n",
    "\n",
    "#Extract (from only Sloane records), extract all catnum where place or person name (or both) mentioned with \n",
    "#page numbers<pb>, <div2>, and text within <div3>\n",
    "from lxml import etree\n",
    "import re\n",
    "import csv\n",
    "import pandas as pd"
   ]
  },
  {
   "cell_type": "code",
   "execution_count": 2,
   "metadata": {},
   "outputs": [],
   "source": [
    "path = '/Users/deborahleem/Documents/PhD/SloaneDBwork19/Miscellanies5Ah_MASTER_fixed_whitespaceDL.xml'\n",
    "doc = etree.parse(open(path))\n",
    "root = doc.getroot()"
   ]
  },
  {
   "cell_type": "code",
   "execution_count": 3,
   "metadata": {},
   "outputs": [],
   "source": [
    "part_excluded = {\n",
    "  \"EPF108491027v\": [\"2108\",\"2109\",\"2110\",\"2111\"], # \"Miscellanies\"\n",
    "  \"EPF108491177v\": [\"1\",\"2\"], # \"Antiquities\"    \n",
    "}\n",
    "\n",
    "excluded = {\n",
    "  \"EPF108491178v\": [\"1\",\"2\",\"3\",\"4\"], # \"Antiquities\"\n",
    "  \"EPF108491179v\": [\"4\",\"5\",\"6\",\"7\",\"8\",\"1\"], # \"Antiquities\"\n",
    "  \"EPF108491180v\": [\"2\",\"3\"], # \"Antiquities\"\n",
    "  \"EPF108491181v\": [\"4\",\"5\"], # \"Antiquities\"\n",
    "  \"EPF108491182v\": [\"1\",\"2\",\"3\",\"4\",\"5\"], # \"Antiquities\"\n",
    "  \"EPF108491183v\": [\"6\",\"7\",\"8\",\"9\",\"10\",\"11\",\"12\"], # \"Antiquities\"\n",
    "  \"EPF108491184v\": [\"13\",\"14\",\"1\",\"2\",\"3\",\"4\",\"5\",\"1\"], # \"Antiquities\"\n",
    "  \"EPF108491186v\": [\"1\",\"2\",\"3\",\"4\",\"5\",\"6\",\"7\",\"8\",\"9\",\"10\",\"11\",\"12\",\"13\",\"14\",\"15\",\"16\",\"17\",\"18\",\"19\"], # \"Antiquities\"\n",
    "  \"EPF108491187v\": [\"20\",\"21\",\"22\",\"23\",\"24\",\"25\",\"26\",\"27\",\"28\",\"29\",\"30\",\"31\",\"32\",\"33\",\"34\",\"35\",\"36\",\"37\",\"38\",\"39\"], # \"Antiquities\"\n",
    "  \"EPF108491188v\": [\"40\",\"41\",\"42\",\"43\",\"44\",\"45\",\"46\",\"47\",\"48\",\"1\",\"2\",\"3\",\"4\",\"5\",\"6\",\"7\",\"8\",\"9\"], # \"Antiquities\"\n",
    "  \"EPF108491189v\": [\"10\",\"11\",\"12\",\"1\",\"2\",\"3\",\"4\",\"5\",\"6\"], # \"Antiquities\"\n",
    "  \"EPF108491190v\": [\"7\",\"8\",\"9\",\"10\",\"11\"], # \"Antiquities\"\n",
    "}\n"
   ]
  },
  {
   "cell_type": "code",
   "execution_count": 4,
   "metadata": {},
   "outputs": [],
   "source": [
    "def find_div2_label(element):\n",
    "    while element is not None:\n",
    "        if element.tag == '{http://www.tei-c.org/ns/1.0}div2':\n",
    "            label = element.find('{*}label')\n",
    "            if label is not None:\n",
    "                return label.text\n",
    "            return\n",
    "        element = element.getparent()"
   ]
  },
  {
   "cell_type": "code",
   "execution_count": 5,
   "metadata": {},
   "outputs": [],
   "source": [
    "def find_enclosing_div3(element):\n",
    "    while element is not None:\n",
    "        if element.tag == '{http://www.tei-c.org/ns/1.0}div3':\n",
    "            return element\n",
    "        element = element.getparent()\n",
    "    \n",
    "def find_pb_xml_id(element):\n",
    "    element = find_enclosing_div3(element)\n",
    "    while element is not None:\n",
    "        if element.tag == '{http://www.tei-c.org/ns/1.0}pb':\n",
    "            return element.attrib['{http://www.w3.org/XML/1998/namespace}id']\n",
    "        element = element.getprevious()"
   ]
  },
  {
   "cell_type": "code",
   "execution_count": 6,
   "metadata": {},
   "outputs": [],
   "source": [
    "def cleanup_catnum(text):\n",
    "    #removing from beginning and end:\n",
    "    # \\s spaces/tabs/newlines\n",
    "    # \\- dashes\n",
    "    # . dots\n",
    "    # ? question marks\n",
    "    # _ underscores\n",
    "    # ✓\n",
    "    text = re.sub(r'^[ ✓\\t\\n.\\-_?]+', \"\", text)\n",
    "    text = re.sub(r'[ ✓\\t\\n.\\-_?]+$', \"\", text)\n",
    "    text = re.sub(r'[ ✓\\t\\n.\\-_?]+\\*', \"*\", text)\n",
    "    text = text.replace('. ', ' ')\n",
    "    return text"
   ]
  },
  {
   "cell_type": "code",
   "execution_count": 7,
   "metadata": {},
   "outputs": [],
   "source": [
    "#ignore non-Sloane catnums and index <label type=\"index\">. End of index </div2>\n"
   ]
  },
  {
   "cell_type": "code",
   "execution_count": 39,
   "metadata": {},
   "outputs": [],
   "source": [
    "people_csv_data = []\n",
    "\n",
    "for div3 in root.iter(\"{*}div3\"):\n",
    "    persons = list(div3.iter('{*}persName'))\n",
    "    places = list(div3.iter('{*}placeName'))\n",
    "    catnums = list(div3.iter('{*}catnum'))\n",
    "    clean_catnums = [cleanup_catnum(''.join(catnum.itertext())) for catnum in catnums]\n",
    "    \n",
    "    page_id = find_pb_xml_id(div3)\n",
    "    label = find_div2_label(div3)\n",
    "    \n",
    "    if label == 'Index.':\n",
    "        continue\n",
    "    \n",
    "    if len(persons) > 0 or len(places) > 0:\n",
    "        if page_id in excluded:\n",
    "            continue\n",
    "\n",
    "#         This is an individual row to be saved as a dict\n",
    "        res = {}\n",
    "\n",
    "        res[\"div2_label\"] = label\n",
    "        div3_text = ''.join(div3.itertext())\n",
    "\n",
    "        person_res = []\n",
    "        for person in persons:\n",
    "            name = re.sub(r'\\s+', \" \", ''.join(person.itertext()))\n",
    "            name = re.sub(r'^\\s+', '', name)\n",
    "            name = re.sub(r'\\s+$', '', name)  \n",
    "            person_res.append(name)\n",
    "\n",
    "        res[\"person\"] = person_res\n",
    "\n",
    "        places_res = []\n",
    "        for place in places:\n",
    "            name = re.sub(r'\\s+', \" \", ''.join(place.itertext()))\n",
    "            name = re.sub(r'^\\s+', '', name)\n",
    "            name = re.sub(r'\\s+$', '', name)   \n",
    "            places_res.append(name)\n",
    "\n",
    "        res[\"place\"] = places_res\n",
    "\n",
    "        catnum_res = []\n",
    "        \n",
    "#         Clean the catnums\n",
    "        for name in clean_catnums:\n",
    "            if not name:\n",
    "                name = ''\n",
    "            catnum_res.append(name)\n",
    "            \n",
    "        if not catnum_res:\n",
    "            catnum_res = ['']\n",
    "        res[\"catnum\"] = catnum_res\n",
    "        people_csv_data.append(res)\n"
   ]
  },
  {
   "cell_type": "code",
   "execution_count": 17,
   "metadata": {},
   "outputs": [],
   "source": []
  },
  {
   "cell_type": "code",
   "execution_count": 55,
   "metadata": {},
   "outputs": [
    {
     "data": {
      "text/html": [
       "<div>\n",
       "<style scoped>\n",
       "    .dataframe tbody tr th:only-of-type {\n",
       "        vertical-align: middle;\n",
       "    }\n",
       "\n",
       "    .dataframe tbody tr th {\n",
       "        vertical-align: top;\n",
       "    }\n",
       "\n",
       "    .dataframe thead th {\n",
       "        text-align: right;\n",
       "    }\n",
       "</style>\n",
       "<table border=\"1\" class=\"dataframe\">\n",
       "  <thead>\n",
       "    <tr style=\"text-align: right;\">\n",
       "      <th></th>\n",
       "      <th>div2_label</th>\n",
       "      <th>person</th>\n",
       "      <th>place</th>\n",
       "      <th>catnum</th>\n",
       "    </tr>\n",
       "  </thead>\n",
       "  <tbody>\n",
       "    <tr>\n",
       "      <th>0</th>\n",
       "      <td>Miscellanies.</td>\n",
       "      <td>['Mr. Amyand.']</td>\n",
       "      <td>['East Indies']</td>\n",
       "      <td>['1799']</td>\n",
       "    </tr>\n",
       "    <tr>\n",
       "      <th>1</th>\n",
       "      <td>Miscellanies.</td>\n",
       "      <td>['Mr. Theobalds.']</td>\n",
       "      <td>['Norway']</td>\n",
       "      <td>['1801']</td>\n",
       "    </tr>\n",
       "    <tr>\n",
       "      <th>2</th>\n",
       "      <td>Miscellanies.</td>\n",
       "      <td>['Mr. Roberts']</td>\n",
       "      <td>[]</td>\n",
       "      <td>['1806']</td>\n",
       "    </tr>\n",
       "    <tr>\n",
       "      <th>3</th>\n",
       "      <td>Miscellanies.</td>\n",
       "      <td>['Mr. M']</td>\n",
       "      <td>['Lisbon']</td>\n",
       "      <td>['1807']</td>\n",
       "    </tr>\n",
       "    <tr>\n",
       "      <th>4</th>\n",
       "      <td>Miscellanies.</td>\n",
       "      <td>[]</td>\n",
       "      <td>['Lisbone']</td>\n",
       "      <td>['1808']</td>\n",
       "    </tr>\n",
       "  </tbody>\n",
       "</table>\n",
       "</div>"
      ],
      "text/plain": [
       "      div2_label              person            place    catnum\n",
       "0  Miscellanies.     ['Mr. Amyand.']  ['East Indies']  ['1799']\n",
       "1  Miscellanies.  ['Mr. Theobalds.']       ['Norway']  ['1801']\n",
       "2  Miscellanies.     ['Mr. Roberts']               []  ['1806']\n",
       "3  Miscellanies.           ['Mr. M']       ['Lisbon']  ['1807']\n",
       "4  Miscellanies.                  []      ['Lisbone']  ['1808']"
      ]
     },
     "execution_count": 55,
     "metadata": {},
     "output_type": "execute_result"
    }
   ],
   "source": [
    "# Create the dataframe and populate based on the dictionary\n",
    "\n",
    "df = pd.DataFrame({'div2_label': [], 'person': [], 'place': [], 'catnum': []})\n",
    "for row in people_csv_data:\n",
    "    df = df.append({'div2_label': row['div2_label'], 'person': str(row['person']), 'place': str(row['place']), 'catnum': str(row['catnum'])}, ignore_index=True)\n",
    "df.head()"
   ]
  },
  {
   "cell_type": "code",
   "execution_count": 54,
   "metadata": {},
   "outputs": [
    {
     "data": {
      "text/plain": [
       "1420"
      ]
     },
     "execution_count": 54,
     "metadata": {},
     "output_type": "execute_result"
    }
   ],
   "source": [
    "# number of records\n",
    "len(df)"
   ]
  },
  {
   "cell_type": "code",
   "execution_count": 59,
   "metadata": {},
   "outputs": [
    {
     "data": {
      "text/html": [
       "<div>\n",
       "<style scoped>\n",
       "    .dataframe tbody tr th:only-of-type {\n",
       "        vertical-align: middle;\n",
       "    }\n",
       "\n",
       "    .dataframe tbody tr th {\n",
       "        vertical-align: top;\n",
       "    }\n",
       "\n",
       "    .dataframe thead th {\n",
       "        text-align: right;\n",
       "    }\n",
       "</style>\n",
       "<table border=\"1\" class=\"dataframe\">\n",
       "  <thead>\n",
       "    <tr style=\"text-align: right;\">\n",
       "      <th></th>\n",
       "      <th>div2_label</th>\n",
       "      <th>person</th>\n",
       "      <th>place</th>\n",
       "      <th>catnum</th>\n",
       "    </tr>\n",
       "  </thead>\n",
       "  <tbody>\n",
       "    <tr>\n",
       "      <th>4</th>\n",
       "      <td>Miscellanies.</td>\n",
       "      <td>[]</td>\n",
       "      <td>['Lisbone']</td>\n",
       "      <td>['1808']</td>\n",
       "    </tr>\n",
       "    <tr>\n",
       "      <th>6</th>\n",
       "      <td>Miscellanies.</td>\n",
       "      <td>[]</td>\n",
       "      <td>['China']</td>\n",
       "      <td>['1810']</td>\n",
       "    </tr>\n",
       "    <tr>\n",
       "      <th>10</th>\n",
       "      <td>Miscellanies.</td>\n",
       "      <td>[]</td>\n",
       "      <td>['Malabar']</td>\n",
       "      <td>['1818']</td>\n",
       "    </tr>\n",
       "    <tr>\n",
       "      <th>11</th>\n",
       "      <td>Miscellanies.</td>\n",
       "      <td>[]</td>\n",
       "      <td>['England']</td>\n",
       "      <td>['1819']</td>\n",
       "    </tr>\n",
       "    <tr>\n",
       "      <th>12</th>\n",
       "      <td>Miscellanies.</td>\n",
       "      <td>[]</td>\n",
       "      <td>['London']</td>\n",
       "      <td>['1']</td>\n",
       "    </tr>\n",
       "    <tr>\n",
       "      <th>...</th>\n",
       "      <td>...</td>\n",
       "      <td>...</td>\n",
       "      <td>...</td>\n",
       "      <td>...</td>\n",
       "    </tr>\n",
       "    <tr>\n",
       "      <th>1407</th>\n",
       "      <td>Agate cups botles spoons &amp;c.</td>\n",
       "      <td>[]</td>\n",
       "      <td>['East India']</td>\n",
       "      <td>['194']</td>\n",
       "    </tr>\n",
       "    <tr>\n",
       "      <th>1410</th>\n",
       "      <td>Agate cups botles spoons &amp;c.</td>\n",
       "      <td>[]</td>\n",
       "      <td>['Suratte']</td>\n",
       "      <td>['203']</td>\n",
       "    </tr>\n",
       "    <tr>\n",
       "      <th>1413</th>\n",
       "      <td>Agate cups botles spoons &amp;c.</td>\n",
       "      <td>[]</td>\n",
       "      <td>['Germany']</td>\n",
       "      <td>['218']</td>\n",
       "    </tr>\n",
       "    <tr>\n",
       "      <th>1417</th>\n",
       "      <td>Agate cups botles spoons &amp;c.</td>\n",
       "      <td>[]</td>\n",
       "      <td>['India']</td>\n",
       "      <td>['239']</td>\n",
       "    </tr>\n",
       "    <tr>\n",
       "      <th>1419</th>\n",
       "      <td>Agate cups botles spoons &amp;c.</td>\n",
       "      <td>[]</td>\n",
       "      <td>['Bohemia']</td>\n",
       "      <td>['303']</td>\n",
       "    </tr>\n",
       "  </tbody>\n",
       "</table>\n",
       "<p>506 rows × 4 columns</p>\n",
       "</div>"
      ],
      "text/plain": [
       "                        div2_label person           place    catnum\n",
       "4                    Miscellanies.     []     ['Lisbone']  ['1808']\n",
       "6                    Miscellanies.     []       ['China']  ['1810']\n",
       "10                   Miscellanies.     []     ['Malabar']  ['1818']\n",
       "11                   Miscellanies.     []     ['England']  ['1819']\n",
       "12                   Miscellanies.     []      ['London']     ['1']\n",
       "...                            ...    ...             ...       ...\n",
       "1407  Agate cups botles spoons &c.     []  ['East India']   ['194']\n",
       "1410  Agate cups botles spoons &c.     []     ['Suratte']   ['203']\n",
       "1413  Agate cups botles spoons &c.     []     ['Germany']   ['218']\n",
       "1417  Agate cups botles spoons &c.     []       ['India']   ['239']\n",
       "1419  Agate cups botles spoons &c.     []     ['Bohemia']   ['303']\n",
       "\n",
       "[506 rows x 4 columns]"
      ]
     },
     "execution_count": 59,
     "metadata": {},
     "output_type": "execute_result"
    }
   ],
   "source": [
    "# records with no person. No of records with place name only.\n",
    "df[df.person == '[]']\n",
    "# len(df[df.person == '[]'])"
   ]
  },
  {
   "cell_type": "code",
   "execution_count": 65,
   "metadata": {},
   "outputs": [
    {
     "data": {
      "text/html": [
       "<div>\n",
       "<style scoped>\n",
       "    .dataframe tbody tr th:only-of-type {\n",
       "        vertical-align: middle;\n",
       "    }\n",
       "\n",
       "    .dataframe tbody tr th {\n",
       "        vertical-align: top;\n",
       "    }\n",
       "\n",
       "    .dataframe thead th {\n",
       "        text-align: right;\n",
       "    }\n",
       "</style>\n",
       "<table border=\"1\" class=\"dataframe\">\n",
       "  <thead>\n",
       "    <tr style=\"text-align: right;\">\n",
       "      <th></th>\n",
       "      <th>div2_label</th>\n",
       "      <th>person</th>\n",
       "      <th>place</th>\n",
       "      <th>catnum</th>\n",
       "    </tr>\n",
       "  </thead>\n",
       "  <tbody>\n",
       "  </tbody>\n",
       "</table>\n",
       "</div>"
      ],
      "text/plain": [
       "Empty DataFrame\n",
       "Columns: [div2_label, person, place, catnum]\n",
       "Index: []"
      ]
     },
     "execution_count": 65,
     "metadata": {},
     "output_type": "execute_result"
    }
   ],
   "source": [
    "# records with no person or place\n",
    "df[(df.person == '[]') & (df.place == \"[]\")]"
   ]
  },
  {
   "cell_type": "code",
   "execution_count": 68,
   "metadata": {},
   "outputs": [
    {
     "data": {
      "text/plain": [
       "568"
      ]
     },
     "execution_count": 68,
     "metadata": {},
     "output_type": "execute_result"
    }
   ],
   "source": [
    "# records with no place. Total no of records with person only.\n",
    "len(df[df.place == \"[]\"])"
   ]
  },
  {
   "cell_type": "code",
   "execution_count": 72,
   "metadata": {},
   "outputs": [
    {
     "data": {
      "text/plain": [
       "346"
      ]
     },
     "execution_count": 72,
     "metadata": {},
     "output_type": "execute_result"
    }
   ],
   "source": [
    "# Both person and place are populated\n",
    "len(df[(df.person != '[]') & (df.place != \"[]\")])"
   ]
  },
  {
   "cell_type": "code",
   "execution_count": 51,
   "metadata": {},
   "outputs": [
    {
     "data": {
      "text/html": [
       "<div>\n",
       "<style scoped>\n",
       "    .dataframe tbody tr th:only-of-type {\n",
       "        vertical-align: middle;\n",
       "    }\n",
       "\n",
       "    .dataframe tbody tr th {\n",
       "        vertical-align: top;\n",
       "    }\n",
       "\n",
       "    .dataframe thead th {\n",
       "        text-align: right;\n",
       "    }\n",
       "</style>\n",
       "<table border=\"1\" class=\"dataframe\">\n",
       "  <thead>\n",
       "    <tr style=\"text-align: right;\">\n",
       "      <th></th>\n",
       "      <th>div2_label</th>\n",
       "      <th>person</th>\n",
       "      <th>place</th>\n",
       "      <th>catnum</th>\n",
       "    </tr>\n",
       "  </thead>\n",
       "  <tbody>\n",
       "    <tr>\n",
       "      <th>20</th>\n",
       "      <td>Miscellanies.</td>\n",
       "      <td>[]</td>\n",
       "      <td>[Surinam]</td>\n",
       "      <td>['1823']</td>\n",
       "    </tr>\n",
       "  </tbody>\n",
       "</table>\n",
       "</div>"
      ],
      "text/plain": [
       "       div2_label person      place    catnum\n",
       "20  Miscellanies.     []  [Surinam]  ['1823']"
      ]
     },
     "execution_count": 51,
     "metadata": {},
     "output_type": "execute_result"
    }
   ],
   "source": [
    "df[df.catnum == \"['1823']\"]"
   ]
  },
  {
   "cell_type": "code",
   "execution_count": 29,
   "metadata": {},
   "outputs": [],
   "source": [
    "with open('people_and_places.csv', 'w') as file:\n",
    "    writer = csv.writer(file)\n",
    "    for row in people_csv_data:\n",
    "        writer.writerow(row)"
   ]
  },
  {
   "cell_type": "code",
   "execution_count": null,
   "metadata": {},
   "outputs": [],
   "source": []
  },
  {
   "cell_type": "code",
   "execution_count": null,
   "metadata": {},
   "outputs": [],
   "source": []
  }
 ],
 "metadata": {
  "kernelspec": {
   "display_name": "Python 3",
   "language": "python",
   "name": "python3"
  },
  "language_info": {
   "codemirror_mode": {
    "name": "ipython",
    "version": 3
   },
   "file_extension": ".py",
   "mimetype": "text/x-python",
   "name": "python",
   "nbconvert_exporter": "python",
   "pygments_lexer": "ipython3",
   "version": "3.7.1"
  }
 },
 "nbformat": 4,
 "nbformat_minor": 4
}
