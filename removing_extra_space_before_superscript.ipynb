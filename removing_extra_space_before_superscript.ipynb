{
 "cells": [
  {
   "cell_type": "code",
   "execution_count": 6,
   "metadata": {},
   "outputs": [],
   "source": [
    "#some still have whitespace. eg. 1863 M r. Styleman to fix all this.This is happening \n",
    "#when <persName>M is at the end of a line or there are more than one <hi rent=>. <hi rend=\"sup\"> on the next line. 08/02/20\n",
    "\n",
    "#to correct the space issue where sup is in Misc XML.\n",
    "from lxml import etree\n",
    "import re"
   ]
  },
  {
   "cell_type": "code",
   "execution_count": 7,
   "metadata": {},
   "outputs": [],
   "source": [
    "path = '/Users/deborahleem/Documents/PhD/SloaneDBwork19/Miscellanies5Ah_MASTER.xml'\n",
    "doc = etree.parse(open(path))\n",
    "root = doc.getroot()"
   ]
  },
  {
   "cell_type": "code",
   "execution_count": 8,
   "metadata": {},
   "outputs": [],
   "source": [
    "# <a> ATEXT <b> BTEXT </b> BTAIL <c> CTEXT </c> CTAIL </a> ATAIL\n",
    "# {*} means in all namespaces\n",
    "for hi in root.iterfind('.//{*}hi'):\n",
    "    if hi.get('rend') != 'sup':\n",
    "        continue\n",
    "    pers = hi.getparent()\n",
    "    prev = hi.getprevious()\n",
    "    if prev is not None:\n",
    "        if prev.tail:\n",
    "            prev.tail = re.sub(r' $', \"\", prev.tail)\n",
    "    else:\n",
    "        if pers.text:\n",
    "            pers.text = re.sub(r' $', \"\", pers.text)\n",
    "#     print(etree.tostring(pers))"
   ]
  },
  {
   "cell_type": "code",
   "execution_count": 9,
   "metadata": {},
   "outputs": [],
   "source": [
    "path_out = '/Users/deborahleem/Documents/PhD/SloaneDBwork19/Miscellanies5Ah_MASTER_fixed_whitespace.xml'\n",
    "with open(path_out, 'wb') as file:\n",
    "    file.write(etree.tostring(doc, encoding=\"UTF-8\", xml_declaration=True))"
   ]
  },
  {
   "cell_type": "code",
   "execution_count": null,
   "metadata": {},
   "outputs": [],
   "source": []
  }
 ],
 "metadata": {
  "kernelspec": {
   "display_name": "Python 3",
   "language": "python",
   "name": "python3"
  },
  "language_info": {
   "codemirror_mode": {
    "name": "ipython",
    "version": 3
   },
   "file_extension": ".py",
   "mimetype": "text/x-python",
   "name": "python",
   "nbconvert_exporter": "python",
   "pygments_lexer": "ipython3",
   "version": "3.7.1"
  }
 },
 "nbformat": 4,
 "nbformat_minor": 4
}
