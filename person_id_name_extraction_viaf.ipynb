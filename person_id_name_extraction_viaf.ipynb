{
 "cells": [
  {
   "cell_type": "code",
   "execution_count": 1,
   "metadata": {},
   "outputs": [],
   "source": [
    "#Find person names that match the list in the header. Identify the ones that do not match.\n",
    "#Print names that match with their <idno>viaf (header) if exists; catnum; div2; div3 content; and page number\n",
    "#Print the same for the unmatched name.\n",
    "\n",
    "#Latest file name Miscellanies5Ah_MASTER_fixed_whitespaceDL-KS_190321 (1).xml on 20 March 2021\n",
    "\n",
    "#Excludes Indexes\n",
    "#To ignore digits from <add rend=\"del\"> and <add rend=\"pencil\"> which occurs once with catnum 2082\n",
    "#from <catnum>, remove: -; ____; ?; .; and a tick in front of a number.\n",
    "#Excludes non-Sloane cat entries.\n",
    "\n",
    "#Last updated 21st March 2021\n",
    "\n",
    "from lxml import etree\n",
    "import re\n",
    "import csv"
   ]
  },
  {
   "cell_type": "code",
   "execution_count": 2,
   "metadata": {},
   "outputs": [],
   "source": [
    "#path = '/Users/deborahleem/Documents/1_PhD/SloaneDBwork19/Miscellanies5Ah_MASTER_fixed_whitespaceDL-KS_190321 (1).xml'\n",
    "path = '/Users/deborahleem/Documents/1_PhD/SloaneDBwork19/modified_misc3.xml'\n",
    "doc = etree.parse(open(path))\n",
    "mytree = doc.getroot()\n",
    "root = mytree"
   ]
  },
  {
   "cell_type": "code",
   "execution_count": 3,
   "metadata": {},
   "outputs": [],
   "source": [
    "#Need to exclude non-Sloane catnums and Ignore Index"
   ]
  },
  {
   "cell_type": "code",
   "execution_count": 4,
   "metadata": {},
   "outputs": [],
   "source": [
    "excluded = {\n",
    "  \"EPF108491027v\": [\"2108\",\"2109\",\"2110\",\"2111\"], # \"Miscellanies\"\n",
    "  \"EPF108491177v\": [\"1\",\"2\"], # \"Antiquities\"\n",
    "  \"EPF108491178v\": [\"1\",\"2\",\"3\",\"4\"], # \"Antiquities\"\n",
    "  \"EPF108491179v\": [\"4\",\"5\",\"6\",\"7\",\"8\",\"1\"], # \"Antiquities\"\n",
    "  \"EPF108491180v\": [\"2\",\"3\"], # \"Antiquities\"\n",
    "  \"EPF108491181v\": [\"4\",\"5\"], # \"Antiquities\"\n",
    "  \"EPF108491182v\": [\"1\",\"2\",\"3\",\"4\",\"5\"], # \"Antiquities\"\n",
    "  \"EPF108491183v\": [\"6\",\"7\",\"8\",\"9\",\"10\",\"11\",\"12\"], # \"Antiquities\"\n",
    "  \"EPF108491184v\": [\"13\",\"14\",\"1\",\"2\",\"3\",\"4\",\"5\",\"1\"], # \"Antiquities\"\n",
    "  \"EPF108491186v\": [\"1\",\"2\",\"3\",\"4\",\"5\",\"6\",\"7\",\"8\",\"9\",\"10\",\"11\",\"12\",\"13\",\"14\",\"15\",\"16\",\"17\",\"18\",\"19\"], # \"Antiquities\"\n",
    "  \"EPF108491187v\": [\"20\",\"21\",\"22\",\"23\",\"24\",\"25\",\"26\",\"27\",\"28\",\"29\",\"30\",\"31\",\"32\",\"33\",\"34\",\"35\",\"36\",\"37\",\"38\",\"39\"], # \"Antiquities\"\n",
    "  \"EPF108491188v\": [\"40\",\"41\",\"42\",\"43\",\"44\",\"45\",\"46\",\"47\",\"48\",\"1\",\"2\",\"3\",\"4\",\"5\",\"6\",\"7\",\"8\",\"9\"], # \"Antiquities\"\n",
    "  \"EPF108491189v\": [\"10\",\"11\",\"12\",\"1\",\"2\",\"3\",\"4\",\"5\",\"6\"], # \"Antiquities\"\n",
    "  \"EPF108491190v\": [\"7\",\"8\",\"9\",\"10\",\"11\"], # \"Antiquities\"\n",
    "}"
   ]
  },
  {
   "cell_type": "code",
   "execution_count": 5,
   "metadata": {},
   "outputs": [],
   "source": [
    "def remove_element(el):\n",
    "    parent = el.getparent()\n",
    "    if el.tail:\n",
    "        prev = el.getprevious()\n",
    "        if prev:\n",
    "            prev.tail = (prev.tail or '') + el.tail\n",
    "        else:\n",
    "            parent.text = (parent.text or '') + el.tail\n",
    "    parent.remove(el)\n",
    "\n",
    "# Remove every <add rend=\"del\"> and <add rend=\"pencil\"> from document before the rest of analysis.\n",
    "#Confusing to have these with catnum\n",
    "for e in list(root.iterfind('.//{*}add')):\n",
    "    if ('rend' in e.attrib) and (e.attrib['rend'] == 'del' or e.attrib['rend'] == 'pencil'):\n",
    "        #print('removing', etree.tostring(e, pretty_print=True))\n",
    "        if e.text == '-1861' or e.text == '2094.' or e.text == '-382.':\n",
    "            continue\n",
    "        remove_element(e)"
   ]
  },
  {
   "cell_type": "code",
   "execution_count": 6,
   "metadata": {},
   "outputs": [],
   "source": [
    "#which persName goes with which ID\n",
    "idmap = {}\n",
    "viafmap = {}\n",
    "for x in mytree.findall('.//{http://www.tei-c.org/ns/1.0}listPerson/{http://www.tei-c.org/ns/1.0}person'):\n",
    "    id = x.attrib['{http://www.w3.org/XML/1998/namespace}id']\n",
    "    for name in x.findall('{http://www.tei-c.org/ns/1.0}persName'):\n",
    "        text = name.text\n",
    "#         text = re.sub(r'\\.', '', text)\n",
    "        idmap[text] = '#' + id\n",
    "        idno = x.find(\"{*}idno\")\n",
    "        if idno is not None:\n",
    "            viafmap[text] = idno.text"
   ]
  },
  {
   "cell_type": "code",
   "execution_count": null,
   "metadata": {},
   "outputs": [],
   "source": [
    "viafmap"
   ]
  },
  {
   "cell_type": "code",
   "execution_count": 8,
   "metadata": {},
   "outputs": [],
   "source": [
    "def find_enclosing_div3(element):\n",
    "    while element is not None:\n",
    "        if element.tag == '{http://www.tei-c.org/ns/1.0}div3':\n",
    "            return element\n",
    "        element = element.getparent()\n",
    "    \n",
    "def find_pb_xml_id(element):\n",
    "    element = find_enclosing_div3(element)\n",
    "    while element is not None:\n",
    "#         print(element.tag)\n",
    "        if element.tag == '{http://www.tei-c.org/ns/1.0}pb':\n",
    "            return element.attrib['{http://www.w3.org/XML/1998/namespace}id']\n",
    "        element = element.getprevious()\n",
    "                \n",
    "# for catnum in root.iterfind('.//{*}catnum'):\n",
    "#     print(find_pb_xml_id(catnum))"
   ]
  },
  {
   "cell_type": "code",
   "execution_count": 9,
   "metadata": {},
   "outputs": [],
   "source": [
    "def find_div2_label(element):\n",
    "    while element is not None:\n",
    "        if element.tag == '{http://www.tei-c.org/ns/1.0}div2':\n",
    "            label = element.find('{*}label')\n",
    "            if label is not None:\n",
    "                return ''.join(label.itertext()).strip()\n",
    "            return\n",
    "        element = element.getparent()"
   ]
  },
  {
   "cell_type": "code",
   "execution_count": 10,
   "metadata": {},
   "outputs": [],
   "source": [
    "#Clean up catnum\n",
    "\n",
    "def cleanup_catnum(text):\n",
    "    #removing from beginning and end:\n",
    "    # \\s spaces/tabs/newlines\n",
    "    # \\- dashes\n",
    "    # . dots\n",
    "    # ? question marks\n",
    "    # _ underscores\n",
    "    # ✓\n",
    "    text = re.sub(r'^[ ✓\\t\\n.\\-_?]+', \"\", text)\n",
    "    text = re.sub(r'[ ✓\\t\\n.\\-_?]+$', \"\", text)\n",
    "    text = re.sub(r'[ ✓\\t\\n.\\-_?]+\\*', \"*\", text)\n",
    "    text = text.replace('. ', ' ')\n",
    "    return text"
   ]
  },
  {
   "cell_type": "code",
   "execution_count": 11,
   "metadata": {},
   "outputs": [],
   "source": [
    "def cleanup_person_name(name):\n",
    "    # Remove all spaces at start\n",
    "    name = re.sub(r'^\\s+', \"\", name)\n",
    "    # Get rid of all dots\n",
    "    #name = re.sub(r'\\.', '', name)\n",
    "    # Get rid of final 's\n",
    "    #name = re.sub('\\s*\\'s', '', name)\n",
    "    # = means contnued on next line, remove that\n",
    "    name = re.sub('\\s*=[\\s=]*', '', name)\n",
    "    # Remove spaces in \"M r\" etc. when at beginning of any word\n",
    "    name = re.sub(r'\\bM r\\b', 'Mr ', name)\n",
    "    name = re.sub(r'\\bM rs\\b', 'Mrs ', name)\n",
    "    name = re.sub(r'\\bD r\\b', 'Dr ', name)\n",
    "    name = re.sub(r'\\bS r\\b', 'Sr ', name)\n",
    "    name = re.sub(r'\\bCap t\\b', 'Capt ', name)\n",
    "    name = re.sub(r'\\bEsq r\\b', 'Esqr ', name)\n",
    "    name = re.sub(r'\\bW m\\b', 'Wm ', name)\n",
    "\n",
    "    # Clean up multiple spaces again\n",
    "    #name = re.sub(r'\\s+', \" \", name)\n",
    "    \n",
    "    return name"
   ]
  },
  {
   "cell_type": "code",
   "execution_count": 12,
   "metadata": {},
   "outputs": [],
   "source": [
    "#Page number\n",
    "def find_pb_xml_id(element):\n",
    "    element = find_enclosing_div3(element)\n",
    "    while element is not None:\n",
    "        if element.tag == '{http://www.tei-c.org/ns/1.0}pb':\n",
    "            return element.attrib['{http://www.w3.org/XML/1998/namespace}id']\n",
    "        element = element.getprevious()"
   ]
  },
  {
   "cell_type": "code",
   "execution_count": 13,
   "metadata": {},
   "outputs": [],
   "source": [
    "def find_catnums_in_div3(div3):\n",
    "    return [cleanup_catnum(''.join(cn.itertext())) for cn in div3.findall(\"{*}catnum\")]\n",
    "\n",
    "#matching names and inserting ID into persName ref\n",
    "matches = {False: 0, True: 0}\n",
    "\n",
    "# {False: 524, True: 603}\n",
    "\n",
    "data = []\n",
    "\n",
    "for x in mytree.findall('.//{http://www.tei-c.org/ns/1.0}div3//{http://www.tei-c.org/ns/1.0}persName'):\n",
    "    # All text inside persName tag\n",
    "    name = re.sub(r'\\s+', \" \", ''.join(x.itertext()))\n",
    "    name = cleanup_person_name(name)\n",
    "\n",
    "    # A few more rules\n",
    "#     if name not in idmap:\n",
    "#         print(\"not match\", name)\n",
    "\n",
    "#     if name in idmap:\n",
    "    div3 = find_enclosing_div3(x)\n",
    "    div3_text = ''.join(div3.itertext()).strip()\n",
    "    catnums = find_catnums_in_div3(div3)\n",
    "    label = find_div2_label(x)\n",
    "    if label.startswith('Index'):\n",
    "        continue\n",
    "    page = find_pb_xml_id(x)\n",
    "#etree.tounicode(div3) to get XML\n",
    "    row = [name, idmap.get(name, None), viafmap.get(name, None), catnums, label, page, div3_text, etree.tounicode(div3)]\n",
    "    data.append(row)\n",
    "\n",
    "#         matches[name in idmap] += 1\n",
    "#     if name in idmap:\n",
    "#         x.attrib['ref'] = idmap[name]\n",
    "        \n",
    "#print matches and count non-matches    \n",
    "# print(matches)\n",
    "\n",
    "'''\n",
    "people_match_nonmatch_text.csv' gives the names that match from the header inc normalised names\n",
    "and also the ones do not have their names in the header\n",
    "'''\n",
    "with open('people_match_nonmatch_text.csv', 'w') as file:\n",
    "    writer = csv.writer(file)\n",
    "    for row in data:\n",
    "        writer.writerow(row)"
   ]
  },
  {
   "cell_type": "code",
   "execution_count": null,
   "metadata": {},
   "outputs": [
    {
     "name": "stdout",
     "output_type": "stream",
     "text": [
      ",name,id,2,3,4,5,6,7\n",
      "3,Mr. M c. Cormick,,,['1807'],Miscellanies.,EPF108491002v,\"-1807.\n",
      "            A  stopple & a leather boracho or bottle wherein is carried wine on a\n",
      "              journey wt. a wooden\n",
      "              horn mouth to\n",
      "              drink out of it. from Mr. M\n",
      "                c. Cormick a surgeon who brought\n",
      "              it from Lisbon.\n",
      "            \n",
      "              \n",
      "              19 N\",\"<div3 xmlns=\"\"http://www.tei-c.org/ns/1.0\"\" xmlns:ea=\"\"http://www.enlightenmentarchitectures.org\"\">\n",
      "            <ea:catnum type=\"\"primary\"\" place=\"\"margin\"\">-1807.</ea:catnum>\n",
      "            <p>A  stopple &amp; a <material>leather</material> boracho or bottle wherein is carried wine on<lb/> a\n",
      "              journey w<hi rend=\"\"sup\"\">t</hi>. a <material>wooden</material>\n",
      "              <material>horn</material> mouth<lb/> to\n",
      "              drink out of it. from <persName>M<hi rend=\"\"sup\"\">r</hi>. M\n",
      "                <hi rend=\"\"sup\"\">c</hi>. <add rend=\"\"underline\"\">Cormick</add></persName> a surgeon who<lb/> brought\n",
      "              it from <placeName ref=\"\"#Lisbon\"\">Lisbon</placeName>.</p>\n",
      "            <p>\n",
      "\u001b[7m/Users/deborahleem/scripts/notebooks/sloane/names_not_in_header.csv\u001b[m\u001b[K"
     ]
    }
   ],
   "source": [
    "!less /Users/deborahleem/scripts/notebooks/sloane/names_not_in_header.csv"
   ]
  },
  {
   "cell_type": "code",
   "execution_count": null,
   "metadata": {},
   "outputs": [],
   "source": [
    "# new stuff requested\n",
    "path = 'people_match_nonmatch_text.csv'\n",
    "df = pd.read_csv(path, header=None)"
   ]
  },
  {
   "cell_type": "code",
   "execution_count": null,
   "metadata": {},
   "outputs": [],
   "source": [
    "df = df.rename(columns={1: 'id', 0:'name'})"
   ]
  },
  {
   "cell_type": "code",
   "execution_count": null,
   "metadata": {},
   "outputs": [],
   "source": [
    "id_where_null = df[df.id.isnull()]"
   ]
  },
  {
   "cell_type": "code",
   "execution_count": null,
   "metadata": {},
   "outputs": [],
   "source": [
    "!pwd"
   ]
  },
  {
   "cell_type": "code",
   "execution_count": null,
   "metadata": {},
   "outputs": [],
   "source": [
    "id_where_null.to_csv('names_not_in_header.csv')"
   ]
  },
  {
   "cell_type": "code",
   "execution_count": null,
   "metadata": {},
   "outputs": [],
   "source": [
    "\n",
    "grouped = id_where_null.groupby(by='name').count()\n"
   ]
  },
  {
   "cell_type": "code",
   "execution_count": null,
   "metadata": {},
   "outputs": [],
   "source": [
    "grouped"
   ]
  },
  {
   "cell_type": "code",
   "execution_count": null,
   "metadata": {},
   "outputs": [],
   "source": [
    "len(id_where_null)"
   ]
  },
  {
   "cell_type": "code",
   "execution_count": null,
   "metadata": {},
   "outputs": [],
   "source": [
    "# end"
   ]
  },
  {
   "cell_type": "code",
   "execution_count": null,
   "metadata": {},
   "outputs": [],
   "source": [
    "len(idmap)"
   ]
  },
  {
   "cell_type": "code",
   "execution_count": null,
   "metadata": {},
   "outputs": [],
   "source": [
    "import pandas as pd\n",
    "p = '5_people_match_nonmatch_text_with_dot.csv'\n",
    "df = pd.read_csv(p, header=None, names = ['Name', 'id','viaf', 'catnum', 'd', 'e', 'f'])"
   ]
  },
  {
   "cell_type": "code",
   "execution_count": null,
   "metadata": {},
   "outputs": [],
   "source": [
    "!pwd"
   ]
  },
  {
   "cell_type": "code",
   "execution_count": null,
   "metadata": {},
   "outputs": [],
   "source": [
    "# nu of rows\n",
    "len(df)"
   ]
  },
  {
   "cell_type": "code",
   "execution_count": null,
   "metadata": {},
   "outputs": [],
   "source": [
    "# These are values where viaf is populated\n",
    "len(df[~df.viaf.isnull()])"
   ]
  },
  {
   "cell_type": "code",
   "execution_count": null,
   "metadata": {},
   "outputs": [],
   "source": [
    "# values that are populated without the dupes. i.e keep all unique\n",
    "# by unique we mean a distinct list of all the values\n",
    "# Deb doesnt care\n",
    "unique_viaf = df[~df.viaf.isnull()].viaf.drop_duplicates()\n",
    "len(unique_viaf)"
   ]
  },
  {
   "cell_type": "code",
   "execution_count": null,
   "metadata": {},
   "outputs": [],
   "source": [
    "# These are values where viaf is populated\n",
    "pop_viaf = df[~df.viaf.isnull()]"
   ]
  },
  {
   "cell_type": "code",
   "execution_count": null,
   "metadata": {},
   "outputs": [],
   "source": [
    "# These are values that are unique (they have zero repeats)\n",
    "158-88"
   ]
  },
  {
   "cell_type": "code",
   "execution_count": null,
   "metadata": {},
   "outputs": [],
   "source": [
    "# These are rows that occur more than once\n",
    "grouped = pop_viaf.groupby(by='viaf').count()\n",
    "grouped.head()"
   ]
  },
  {
   "cell_type": "code",
   "execution_count": null,
   "metadata": {},
   "outputs": [],
   "source": [
    "df.head()"
   ]
  },
  {
   "cell_type": "code",
   "execution_count": null,
   "metadata": {},
   "outputs": [],
   "source": [
    "grouped.sort_values('id', ascending=False).a.head(30)"
   ]
  },
  {
   "cell_type": "code",
   "execution_count": null,
   "metadata": {},
   "outputs": [],
   "source": [
    "import numpy as np\n",
    "np.nan is np.nan"
   ]
  },
  {
   "cell_type": "code",
   "execution_count": null,
   "metadata": {},
   "outputs": [],
   "source": [
    "def get_name(a, b):\n",
    "    if b is not np.nan:\n",
    "        return b.replace('#', '')\n",
    "    else:\n",
    "        return a\n",
    "\n",
    "\n",
    "df['normalised_name'] = df.apply(lambda row: get_name(row['Name'], row['id']), axis=1)"
   ]
  },
  {
   "cell_type": "code",
   "execution_count": null,
   "metadata": {},
   "outputs": [],
   "source": [
    "x = df.loc[0, 'id']"
   ]
  },
  {
   "cell_type": "code",
   "execution_count": null,
   "metadata": {},
   "outputs": [],
   "source": [
    "type(x)"
   ]
  },
  {
   "cell_type": "code",
   "execution_count": null,
   "metadata": {},
   "outputs": [],
   "source": [
    "x is np.nan"
   ]
  },
  {
   "cell_type": "code",
   "execution_count": null,
   "metadata": {},
   "outputs": [],
   "source": [
    "df.head()"
   ]
  },
  {
   "cell_type": "code",
   "execution_count": null,
   "metadata": {},
   "outputs": [],
   "source": [
    "df.groupby('normalised_name').count().sort_values('Name', ascending=False)"
   ]
  },
  {
   "cell_type": "code",
   "execution_count": null,
   "metadata": {},
   "outputs": [],
   "source": [
    "df.sort_values('normalised_name', ascending=True)[['Name', 'normalised_name', 'catnum']]"
   ]
  },
  {
   "cell_type": "code",
   "execution_count": null,
   "metadata": {},
   "outputs": [],
   "source": [
    "df.sort_values('normalised_name', ascending=True)[['Name', 'normalised_name', 'catnum']].to_csv('all_names_normalized.csv')"
   ]
  },
  {
   "cell_type": "code",
   "execution_count": null,
   "metadata": {},
   "outputs": [],
   "source": []
  },
  {
   "cell_type": "code",
   "execution_count": null,
   "metadata": {},
   "outputs": [],
   "source": []
  }
 ],
 "metadata": {
  "kernelspec": {
   "display_name": "Python 3",
   "language": "python",
   "name": "python3"
  },
  "language_info": {
   "codemirror_mode": {
    "name": "ipython",
    "version": 3
   },
   "file_extension": ".py",
   "mimetype": "text/x-python",
   "name": "python",
   "nbconvert_exporter": "python",
   "pygments_lexer": "ipython3",
   "version": "3.7.1"
  }
 },
 "nbformat": 4,
 "nbformat_minor": 4
}
