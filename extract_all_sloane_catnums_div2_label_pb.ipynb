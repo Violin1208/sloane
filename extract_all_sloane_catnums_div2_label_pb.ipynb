{
 "cells": [
  {
   "cell_type": "code",
   "execution_count": 1,
   "metadata": {},
   "outputs": [],
   "source": [
    "#To extract page numbers(pb), div2 label, and catnum from Misc XML file and save as csv.\n",
    "\n",
    "#<div3 rend=\"deleted\"> to work out\n",
    "\n",
    "#Extract div3 when there is no catnum within each div2 labels\n",
    "#Excludes Indexes\n",
    "#To ignore digits from <add rend=\"del\"> and <add rend=\"pencil\"> which occurs once with catnum 2082\n",
    "#from <catnum>, remove: -; ____; ?; .; and a tick in front of a number.\n",
    "#Excludes non-Sloane cat entries.\n",
    "\n",
    "from lxml import etree\n",
    "import re\n",
    "import csv"
   ]
  },
  {
   "cell_type": "code",
   "execution_count": 2,
   "metadata": {},
   "outputs": [],
   "source": [
    "path = '/Users/deborahleem/Documents/1_PhD/XMLSloane2021/output_person_place_misc_cleaned_up_25042021.xml'\n",
    "doc = etree.parse(open(path))\n",
    "root = doc.getroot()"
   ]
  },
  {
   "cell_type": "code",
   "execution_count": 3,
   "metadata": {},
   "outputs": [
    {
     "name": "stderr",
     "output_type": "stream",
     "text": [
      "/Users/deborahleem/scripts/venvs/deb_1.0/lib/python3.7/site-packages/ipykernel_launcher.py:5: FutureWarning: The behavior of this method will change in future versions. Use specific 'len(elem)' or 'elem is not None' test instead.\n",
      "  \"\"\"\n"
     ]
    }
   ],
   "source": [
    "def remove_element(el):\n",
    "    parent = el.getparent()\n",
    "    if el.tail:\n",
    "        prev = el.getprevious()\n",
    "        if prev:\n",
    "            prev.tail = (prev.tail or '') + el.tail\n",
    "        else:\n",
    "            parent.text = (parent.text or '') + el.tail\n",
    "    parent.remove(el)\n",
    "\n",
    "# Remove every <add rend=\"del\"> and <add rend=\"pencil\"> from document before the rest of analysis\n",
    "for e in list(root.iterfind('.//{*}add')):\n",
    "    if ('rend' in e.attrib) and (e.attrib['rend'] == 'del' or e.attrib['rend'] == 'pencil'):\n",
    "        #print('removing', etree.tostring(e, pretty_print=True))\n",
    "        if e.text == '-1861' or e.text == '2094.' or e.text == '-382.':\n",
    "            continue\n",
    "        remove_element(e)\n"
   ]
  },
  {
   "cell_type": "code",
   "execution_count": 4,
   "metadata": {},
   "outputs": [],
   "source": [
    "#Catnums that need to be excluded as they are not part of Sloane\n",
    "#<pb xml:id=\"EPF108491027v\"/>, Miscellanies, 2108, 2109, 2110, 2111\n",
    "#<pb xml:id=\"EPF108491177v\"/>, Antiquities, 1,2\n",
    "#<pb xml:id=\"EPF108491178v\"/>, Antiquities, 1,2,3,4\n",
    "#<pb xml:id=\"EPF108491179v\"/>, Antiquities, 4,5,6,7,8,1\n",
    "#<pb xml:id=\"EPF108491180v\"/>, Antiquities, 2,3\n",
    "#<pb xml:id=\"EPF108491181v\"/>, Antiquities, 4,5\n",
    "#<pb xml:id=\"EPF108491182v\"/>, Antiquities, 1,2,3,4,5\n",
    "#<pb xml:id=\"EPF108491183v\"/>, Antiquities, 6,7,8,9,10,11,12\n",
    "#<pb xml:id=\"EPF108491184v\"/>, Antiquities, 13,14,1,2,3,4,5,1\n",
    "#<pb xml:id=\"EPF108491186v\" type=\"Bronzes\"/>, Antiquities, 1,2,3,4,5,6,7,8,9,10,11,12,13,14,15,16,17,18,19\n",
    "#<pb xml:id=\"EPF108491187v\" type=\"Bronzes\"/>, Antiquities, 20,21,22,23,24,25,26,27,28,29,30,31,32,33,34,35,36,37,38,39\n",
    "#<pb xml:id=\"EPF108491188v\"/>, Antiquities, 40,41,42,43,44,45,46,47,48,1,2,3,4,5,6,7,8,9\n",
    "#<pb xml:id=\"EPF108491189v\"/>, Antiquities, 10,11,12,1,2,3,4,5,6\n",
    "#<pb xml:id=\"EPF108491190v\"/>, Antiquities, 7,8,9,10,11"
   ]
  },
  {
   "cell_type": "code",
   "execution_count": 5,
   "metadata": {},
   "outputs": [],
   "source": [
    "excluded = {\n",
    "  \"EPF108491027v\": [\"2108\",\"2109\",\"2110\",\"2111\"], # \"Miscellanies\"\n",
    "  \"EPF108491177v\": [\"1\",\"2\"], # \"Antiquities\"\n",
    "  \"EPF108491178v\": [\"1\",\"2\",\"3\",\"4\"], # \"Antiquities\"\n",
    "  \"EPF108491179v\": [\"4\",\"5\",\"6\",\"7\",\"8\",\"1\"], # \"Antiquities\"\n",
    "  \"EPF108491180v\": [\"2\",\"3\"], # \"Antiquities\"\n",
    "  \"EPF108491181v\": [\"4\",\"5\"], # \"Antiquities\"\n",
    "  \"EPF108491182v\": [\"1\",\"2\",\"3\",\"4\",\"5\"], # \"Antiquities\"\n",
    "  \"EPF108491183v\": [\"6\",\"7\",\"8\",\"9\",\"10\",\"11\",\"12\"], # \"Antiquities\"\n",
    "  \"EPF108491184v\": [\"13\",\"14\",\"1\",\"2\",\"3\",\"4\",\"5\",\"1\"], # \"Antiquities\"\n",
    "  \"EPF108491186v\": [\"1\",\"2\",\"3\",\"4\",\"5\",\"6\",\"7\",\"8\",\"9\",\"10\",\"11\",\"12\",\"13\",\"14\",\"15\",\"16\",\"17\",\"18\",\"19\"], # \"Antiquities\"\n",
    "  \"EPF108491187v\": [\"20\",\"21\",\"22\",\"23\",\"24\",\"25\",\"26\",\"27\",\"28\",\"29\",\"30\",\"31\",\"32\",\"33\",\"34\",\"35\",\"36\",\"37\",\"38\",\"39\"], # \"Antiquities\"\n",
    "  \"EPF108491188v\": [\"40\",\"41\",\"42\",\"43\",\"44\",\"45\",\"46\",\"47\",\"48\",\"1\",\"2\",\"3\",\"4\",\"5\",\"6\",\"7\",\"8\",\"9\"], # \"Antiquities\"\n",
    "  \"EPF108491189v\": [\"10\",\"11\",\"12\",\"1\",\"2\",\"3\",\"4\",\"5\",\"6\"], # \"Antiquities\"\n",
    "  \"EPF108491190v\": [\"7\",\"8\",\"9\",\"10\",\"11\"], # \"Antiquities\"\n",
    "}\n"
   ]
  },
  {
   "cell_type": "code",
   "execution_count": 6,
   "metadata": {},
   "outputs": [],
   "source": [
    "def find_div2_label(element):\n",
    "    while element is not None:\n",
    "        if element.tag == '{http://www.tei-c.org/ns/1.0}div2':\n",
    "            label = element.find('{*}label')\n",
    "            if label is not None:\n",
    "                return ''.join(label.itertext()).strip()\n",
    "            return\n",
    "        element = element.getparent()"
   ]
  },
  {
   "cell_type": "code",
   "execution_count": 7,
   "metadata": {},
   "outputs": [],
   "source": [
    "def find_enclosing_div3(element):\n",
    "    while element is not None:\n",
    "        if element.tag == '{http://www.tei-c.org/ns/1.0}div3':\n",
    "            return element\n",
    "        element = element.getparent()\n",
    "    \n",
    "def find_pb_xml_id(element):\n",
    "    element = find_enclosing_div3(element)\n",
    "    while element is not None:\n",
    "#         print(element.tag)\n",
    "        if element.tag == '{http://www.tei-c.org/ns/1.0}pb':\n",
    "            return element.attrib['{http://www.w3.org/XML/1998/namespace}id']\n",
    "        element = element.getprevious()\n",
    "                \n",
    "# for catnum in root.iterfind('.//{*}catnum'):\n",
    "#     print(find_pb_xml_id(catnum))\n"
   ]
  },
  {
   "cell_type": "code",
   "execution_count": 8,
   "metadata": {},
   "outputs": [],
   "source": [
    "#metamark not consistenly used."
   ]
  },
  {
   "cell_type": "code",
   "execution_count": 9,
   "metadata": {},
   "outputs": [],
   "source": [
    "def cleanup_catnum(text):\n",
    "    #removing from beginning and end:\n",
    "    # \\s spaces/tabs/newlines\n",
    "    # \\- dashes\n",
    "    # . dots\n",
    "    # ? question marks\n",
    "    # _ underscores\n",
    "    # ✓\n",
    "    text = re.sub(r'^[ ✓\\t\\n.\\-_?]+', \"\", text)\n",
    "    text = re.sub(r'[ ✓\\t\\n.\\-_?]+$', \"\", text)\n",
    "    text = re.sub(r'[ ✓\\t\\n.\\-_?]+\\*', \"*\", text)\n",
    "    text = text.replace('. ', ' ')\n",
    "    return text\n",
    "\n",
    "results = []\n",
    "for catnum in root.iterfind('.//{*}catnum'):\n",
    "    text = \"\".join(catnum.itertext())\n",
    "    text = cleanup_catnum(text)\n",
    "    label = find_div2_label(catnum)\n",
    "    if label.startswith('Index'):\n",
    "        continue\n",
    "    pb_xml_id = find_pb_xml_id(catnum)\n",
    "    if pb_xml_id in excluded:\n",
    "        if text in excluded[pb_xml_id]:\n",
    "#             print('exclude', pb_xml_id, text)\n",
    "            continue\n",
    "#         else:\n",
    "#             print('do not exclude', pb_xml_id, text)\n",
    "    \n",
    "    results.append([text, label, pb_xml_id])\n",
    "    #print(etree.tostring(catnum))\n",
    "    #print([text, label])"
   ]
  },
  {
   "cell_type": "code",
   "execution_count": 10,
   "metadata": {},
   "outputs": [],
   "source": [
    "# Find div3s without catnums inside, not in index\n",
    "#There are many Div3 without catnum on recto so only retrieve ones on verso\n",
    "for div3 in root.iterfind('.//{*}div3'):\n",
    "    catnums_inside = list(div3.iterfind('.//{*}catnum'))\n",
    "    if len(catnums_inside) > 0:\n",
    "        continue\n",
    "    label = find_div2_label(div3)\n",
    "    if label.startswith('Index'):\n",
    "        continue\n",
    "    pb_xml_id = find_pb_xml_id(div3)\n",
    "    if pb_xml_id in excluded:\n",
    "         continue\n",
    "    if pb_xml_id.endswith('v'):\n",
    "        results.append(['no catnum', label, pb_xml_id])\n",
    "#     print(div3)\n",
    "#     print(etree.tostring(div3))\n",
    "#     break\n"
   ]
  },
  {
   "cell_type": "code",
   "execution_count": 11,
   "metadata": {},
   "outputs": [],
   "source": [
    "# results0 = results"
   ]
  },
  {
   "cell_type": "code",
   "execution_count": 12,
   "metadata": {},
   "outputs": [],
   "source": [
    "#Showing all changes.\n",
    "# [(results0[i], results[i]) for i in range(len(results)) if results0[i] != results[i]]"
   ]
  },
  {
   "cell_type": "code",
   "execution_count": 13,
   "metadata": {
    "scrolled": true
   },
   "outputs": [
    {
     "data": {
      "text/plain": [
       "[[['No 1', 'Miscellanies.', 'EPF108491009v'], 238],\n",
       " [['1933 No 7', 'Miscellanies.', 'EPF108491010v'], 259],\n",
       " [['1933 No 8', 'Miscellanies.', 'EPF108491010v'], 260],\n",
       " [['1933 No 9', 'Miscellanies.', 'EPF108491010v'], 261],\n",
       " [['1933 No 10', 'Miscellanies.', 'EPF108491010v'], 262],\n",
       " [['1933 No 11', 'Miscellanies.', 'EPF108491010v'], 263],\n",
       " [['1933 No 12', 'Miscellanies.', 'EPF108491010v'], 264],\n",
       " [['1933 No 13', 'Miscellanies.', 'EPF108491010v'], 265],\n",
       " [['1933 No 14', 'Miscellanies.', 'EPF108491010v'], 266],\n",
       " [['1933 No 15', 'Miscellanies.', 'EPF108491010v'], 267],\n",
       " [['1933 No 16', 'Miscellanies.', 'EPF108491010v'], 268],\n",
       " [['1933 No 17', 'Miscellanies.', 'EPF108491010v'], 269],\n",
       " [['1933 No 18', 'Miscellanies.', 'EPF108491010v'], 270],\n",
       " [['1933 No 20', 'Miscellanies.', 'EPF108491010v'], 271],\n",
       " [['1933 No 21', 'Miscellanies.', 'EPF108491010v'], 272],\n",
       " [['1933 No 22', 'Miscellanies.', 'EPF108491010v'], 273],\n",
       " [['1933 No 25', 'Miscellanies.', 'EPF108491010v'], 274],\n",
       " [['1933 No 26', 'Miscellanies.', 'EPF108491010v'], 275],\n",
       " [['1933 No 27', 'Miscellanies.', 'EPF108491010v'], 276],\n",
       " [['1933 No 28', 'Miscellanies.', 'EPF108491010v'], 277],\n",
       " [['1933 No 29', 'Miscellanies.', 'EPF108491010v'], 278],\n",
       " [['1933 No 30', 'Miscellanies.', 'EPF108491010v'], 279],\n",
       " [['1933 No 32', 'Miscellanies.', 'EPF108491010v'], 280],\n",
       " [['1933 No 33', 'Miscellanies.', 'EPF108491010v'], 281],\n",
       " [['1933 No 34', 'Miscellanies.', 'EPF108491010v'], 282],\n",
       " [['1933 No 35', 'Miscellanies.', 'EPF108491010v'], 283],\n",
       " [['1635 & 1636', 'Miscellanies.', 'EPF108491142av'], 1997],\n",
       " [['no catnum', 'Miscellanies.', 'EPF108491005av'], 4608],\n",
       " [['no catnum', 'Miscellanies.', 'EPF108491018v'], 4609],\n",
       " [['no catnum', 'Miscellanies.', 'EPF108491035v'], 4610],\n",
       " [['no catnum', 'Miscellanies.', 'EPF108491066v'], 4611],\n",
       " [['no catnum', 'Miscellanies.', 'EPF108491071v'], 4612],\n",
       " [['no catnum', 'Miscellanies.', 'EPF108491092v'], 4613],\n",
       " [['no catnum', 'Miscellanies.', 'EPF108491099v'], 4614],\n",
       " [['no catnum', 'Miscellanies.', 'EPF108491110v'], 4615],\n",
       " [['no catnum', 'Miscellanies.', 'EPF108491115v'], 4616],\n",
       " [['no catnum', 'Miscellanies.', 'EPF108491124v'], 4617],\n",
       " [['no catnum', 'Miscellanies.', 'EPF108491127v'], 4618],\n",
       " [['no catnum', 'Miscellanies.', 'EPF108491131v'], 4619],\n",
       " [['no catnum', 'Miscellanies.', 'EPF108491135v'], 4620],\n",
       " [['no catnum', 'Miscellanies.', 'EPF108491135v'], 4620],\n",
       " [['no catnum', 'Miscellanies.', 'EPF108491135v'], 4620],\n",
       " [['no catnum', 'Miscellanies.', 'EPF108491143v'], 4623],\n",
       " [['no catnum', 'Antiquities.', 'EPF108491158v'], 4624],\n",
       " [['no catnum', 'Antiquities.', 'EPF108491191v'], 4625],\n",
       " [['no catnum', 'Antiquities.', 'EPF108491191v'], 4625],\n",
       " [['no catnum', 'Antiquities.', 'EPF108491191v'], 4625],\n",
       " [['no catnum', 'Antiquities.', 'EPF108491191v'], 4625]]"
      ]
     },
     "execution_count": 13,
     "metadata": {},
     "output_type": "execute_result"
    }
   ],
   "source": [
    "# All entries that are not just digits and start\n",
    "[[x, results.index(x)] for x in results if not x[0].replace('*', '').isdigit()]"
   ]
  },
  {
   "cell_type": "code",
   "execution_count": 14,
   "metadata": {},
   "outputs": [],
   "source": [
    "with open('all_catnums_and_their_div2_labels_July_2021.csv', 'w') as file:\n",
    "    writer = csv.writer(file)\n",
    "    writer.writerow(['catnum', 'label','pageid'])\n",
    "    for catnum, label, pageid in results:\n",
    "        writer.writerow([catnum, label, pageid])"
   ]
  },
  {
   "cell_type": "code",
   "execution_count": 15,
   "metadata": {},
   "outputs": [],
   "source": [
    "import pandas as pd"
   ]
  },
  {
   "cell_type": "code",
   "execution_count": 16,
   "metadata": {},
   "outputs": [],
   "source": [
    "df = pd.read_csv('all_catnums_and_their_div2_labels_July_2021.csv', header=None, names=['catnum', 'div2_label', 'page_nu'])\n",
    "# exclude no catnum values\n",
    "\n",
    "# split into types - with catnums and without catnumbs across all labels\n",
    "df_with_catnum = df[~(df.catnum == 'no catnum')]\n",
    "df_no_catnum = df[(df.catnum == 'no catnum')]"
   ]
  },
  {
   "cell_type": "code",
   "execution_count": 17,
   "metadata": {},
   "outputs": [
    {
     "data": {
      "text/plain": [
       "2176"
      ]
     },
     "execution_count": 17,
     "metadata": {},
     "output_type": "execute_result"
    }
   ],
   "source": [
    "len(df_with_catnum.catnum.unique())"
   ]
  },
  {
   "cell_type": "code",
   "execution_count": 18,
   "metadata": {},
   "outputs": [
    {
     "data": {
      "text/plain": [
       "21"
      ]
     },
     "execution_count": 18,
     "metadata": {},
     "output_type": "execute_result"
    }
   ],
   "source": [
    "len(df_no_catnum)"
   ]
  },
  {
   "cell_type": "code",
   "execution_count": 19,
   "metadata": {},
   "outputs": [],
   "source": [
    "# Find all rows which have catnums and are of type Misc\n",
    "\n",
    "df_with_catnum_misc = df_with_catnum[(df_with_catnum.div2_label == 'Miscellanies.')]"
   ]
  },
  {
   "cell_type": "code",
   "execution_count": 20,
   "metadata": {},
   "outputs": [
    {
     "data": {
      "text/plain": [
       "2147"
      ]
     },
     "execution_count": 20,
     "metadata": {},
     "output_type": "execute_result"
    }
   ],
   "source": [
    "# Find all rows which have catnums and are of type Misc and are unique\n",
    "\n",
    "len(df_with_catnum_misc.catnum.unique())"
   ]
  },
  {
   "cell_type": "code",
   "execution_count": 21,
   "metadata": {},
   "outputs": [
    {
     "data": {
      "text/plain": [
       "2165"
      ]
     },
     "execution_count": 21,
     "metadata": {},
     "output_type": "execute_result"
    }
   ],
   "source": [
    "# Find all rows which have catnums and are of type Misc (total)\n",
    "len(df_with_catnum_misc.catnum)"
   ]
  },
  {
   "cell_type": "code",
   "execution_count": 22,
   "metadata": {},
   "outputs": [
    {
     "data": {
      "text/plain": [
       "16"
      ]
     },
     "execution_count": 22,
     "metadata": {},
     "output_type": "execute_result"
    }
   ],
   "source": [
    "# Find all rows which dont have catnums and are of type Misc\n",
    "len(df_no_catnum[df_no_catnum.div2_label == 'Miscellanies.'])"
   ]
  },
  {
   "cell_type": "code",
   "execution_count": 23,
   "metadata": {},
   "outputs": [
    {
     "data": {
      "text/html": [
       "<div>\n",
       "<style scoped>\n",
       "    .dataframe tbody tr th:only-of-type {\n",
       "        vertical-align: middle;\n",
       "    }\n",
       "\n",
       "    .dataframe tbody tr th {\n",
       "        vertical-align: top;\n",
       "    }\n",
       "\n",
       "    .dataframe thead th {\n",
       "        text-align: right;\n",
       "    }\n",
       "</style>\n",
       "<table border=\"1\" class=\"dataframe\">\n",
       "  <thead>\n",
       "    <tr style=\"text-align: right;\">\n",
       "      <th></th>\n",
       "      <th>catnum</th>\n",
       "      <th>page_nu</th>\n",
       "    </tr>\n",
       "    <tr>\n",
       "      <th>div2_label</th>\n",
       "      <th></th>\n",
       "      <th></th>\n",
       "    </tr>\n",
       "  </thead>\n",
       "  <tbody>\n",
       "    <tr>\n",
       "      <th>Agate cups botles spoons &amp;c.</th>\n",
       "      <td>303</td>\n",
       "      <td>303</td>\n",
       "    </tr>\n",
       "    <tr>\n",
       "      <th>Agate handles &amp;c.</th>\n",
       "      <td>241</td>\n",
       "      <td>241</td>\n",
       "    </tr>\n",
       "    <tr>\n",
       "      <th>Antiquities.</th>\n",
       "      <td>1170</td>\n",
       "      <td>1170</td>\n",
       "    </tr>\n",
       "    <tr>\n",
       "      <th>Impressions of Seals &amp;c.</th>\n",
       "      <td>260</td>\n",
       "      <td>260</td>\n",
       "    </tr>\n",
       "    <tr>\n",
       "      <th>Mathematicall instruments &amp;c</th>\n",
       "      <td>56</td>\n",
       "      <td>56</td>\n",
       "    </tr>\n",
       "    <tr>\n",
       "      <th>Miscellanies.</th>\n",
       "      <td>2165</td>\n",
       "      <td>2165</td>\n",
       "    </tr>\n",
       "    <tr>\n",
       "      <th>Pictures &amp;c.</th>\n",
       "      <td>413</td>\n",
       "      <td>413</td>\n",
       "    </tr>\n",
       "    <tr>\n",
       "      <th>label</th>\n",
       "      <td>1</td>\n",
       "      <td>1</td>\n",
       "    </tr>\n",
       "  </tbody>\n",
       "</table>\n",
       "</div>"
      ],
      "text/plain": [
       "                              catnum  page_nu\n",
       "div2_label                                   \n",
       "Agate cups botles spoons &c.     303      303\n",
       "Agate handles &c.                241      241\n",
       "Antiquities.                    1170     1170\n",
       "Impressions of Seals &c.         260      260\n",
       "Mathematicall instruments &c      56       56\n",
       "Miscellanies.                   2165     2165\n",
       "Pictures &c.                     413      413\n",
       "label                              1        1"
      ]
     },
     "execution_count": 23,
     "metadata": {},
     "output_type": "execute_result"
    }
   ],
   "source": [
    "# rows with catnums across label\n",
    "df_with_catnum.groupby('div2_label').count()"
   ]
  },
  {
   "cell_type": "code",
   "execution_count": 24,
   "metadata": {},
   "outputs": [
    {
     "data": {
      "text/html": [
       "<div>\n",
       "<style scoped>\n",
       "    .dataframe tbody tr th:only-of-type {\n",
       "        vertical-align: middle;\n",
       "    }\n",
       "\n",
       "    .dataframe tbody tr th {\n",
       "        vertical-align: top;\n",
       "    }\n",
       "\n",
       "    .dataframe thead th {\n",
       "        text-align: right;\n",
       "    }\n",
       "</style>\n",
       "<table border=\"1\" class=\"dataframe\">\n",
       "  <thead>\n",
       "    <tr style=\"text-align: right;\">\n",
       "      <th></th>\n",
       "      <th>catnum</th>\n",
       "      <th>page_nu</th>\n",
       "    </tr>\n",
       "    <tr>\n",
       "      <th>div2_label</th>\n",
       "      <th></th>\n",
       "      <th></th>\n",
       "    </tr>\n",
       "  </thead>\n",
       "  <tbody>\n",
       "    <tr>\n",
       "      <th>Antiquities.</th>\n",
       "      <td>5</td>\n",
       "      <td>5</td>\n",
       "    </tr>\n",
       "    <tr>\n",
       "      <th>Miscellanies.</th>\n",
       "      <td>16</td>\n",
       "      <td>16</td>\n",
       "    </tr>\n",
       "  </tbody>\n",
       "</table>\n",
       "</div>"
      ],
      "text/plain": [
       "               catnum  page_nu\n",
       "div2_label                    \n",
       "Antiquities.        5        5\n",
       "Miscellanies.      16       16"
      ]
     },
     "execution_count": 24,
     "metadata": {},
     "output_type": "execute_result"
    }
   ],
   "source": [
    "# rows without catnums across label\n",
    "df_no_catnum.groupby('div2_label').count()"
   ]
  },
  {
   "cell_type": "code",
   "execution_count": 25,
   "metadata": {},
   "outputs": [
    {
     "data": {
      "text/html": [
       "<div>\n",
       "<style scoped>\n",
       "    .dataframe tbody tr th:only-of-type {\n",
       "        vertical-align: middle;\n",
       "    }\n",
       "\n",
       "    .dataframe tbody tr th {\n",
       "        vertical-align: top;\n",
       "    }\n",
       "\n",
       "    .dataframe thead th {\n",
       "        text-align: right;\n",
       "    }\n",
       "</style>\n",
       "<table border=\"1\" class=\"dataframe\">\n",
       "  <thead>\n",
       "    <tr style=\"text-align: right;\">\n",
       "      <th></th>\n",
       "      <th>catnum</th>\n",
       "      <th>page_nu</th>\n",
       "    </tr>\n",
       "    <tr>\n",
       "      <th>div2_label</th>\n",
       "      <th></th>\n",
       "      <th></th>\n",
       "    </tr>\n",
       "  </thead>\n",
       "  <tbody>\n",
       "    <tr>\n",
       "      <th>Agate cups botles spoons &amp;c.</th>\n",
       "      <td>303</td>\n",
       "      <td>303</td>\n",
       "    </tr>\n",
       "    <tr>\n",
       "      <th>Agate handles &amp;c.</th>\n",
       "      <td>241</td>\n",
       "      <td>241</td>\n",
       "    </tr>\n",
       "    <tr>\n",
       "      <th>Antiquities.</th>\n",
       "      <td>1175</td>\n",
       "      <td>1175</td>\n",
       "    </tr>\n",
       "    <tr>\n",
       "      <th>Impressions of Seals &amp;c.</th>\n",
       "      <td>260</td>\n",
       "      <td>260</td>\n",
       "    </tr>\n",
       "    <tr>\n",
       "      <th>Mathematicall instruments &amp;c</th>\n",
       "      <td>56</td>\n",
       "      <td>56</td>\n",
       "    </tr>\n",
       "    <tr>\n",
       "      <th>Miscellanies.</th>\n",
       "      <td>2181</td>\n",
       "      <td>2181</td>\n",
       "    </tr>\n",
       "    <tr>\n",
       "      <th>Pictures &amp;c.</th>\n",
       "      <td>413</td>\n",
       "      <td>413</td>\n",
       "    </tr>\n",
       "    <tr>\n",
       "      <th>label</th>\n",
       "      <td>1</td>\n",
       "      <td>1</td>\n",
       "    </tr>\n",
       "  </tbody>\n",
       "</table>\n",
       "</div>"
      ],
      "text/plain": [
       "                              catnum  page_nu\n",
       "div2_label                                   \n",
       "Agate cups botles spoons &c.     303      303\n",
       "Agate handles &c.                241      241\n",
       "Antiquities.                    1175     1175\n",
       "Impressions of Seals &c.         260      260\n",
       "Mathematicall instruments &c      56       56\n",
       "Miscellanies.                   2181     2181\n",
       "Pictures &c.                     413      413\n",
       "label                              1        1"
      ]
     },
     "execution_count": 25,
     "metadata": {},
     "output_type": "execute_result"
    }
   ],
   "source": [
    "# all rows\n",
    "df.groupby('div2_label').count()"
   ]
  },
  {
   "cell_type": "code",
   "execution_count": 26,
   "metadata": {},
   "outputs": [
    {
     "name": "stderr",
     "output_type": "stream",
     "text": [
      "/Users/deborahleem/scripts/venvs/deb_1.0/lib/python3.7/site-packages/ipykernel_launcher.py:2: SettingWithCopyWarning: \n",
      "A value is trying to be set on a copy of a slice from a DataFrame.\n",
      "Try using .loc[row_indexer,col_indexer] = value instead\n",
      "\n",
      "See the caveats in the documentation: http://pandas.pydata.org/pandas-docs/stable/user_guide/indexing.html#returning-a-view-versus-a-copy\n",
      "  \n"
     ]
    },
    {
     "data": {
      "text/html": [
       "<div>\n",
       "<style scoped>\n",
       "    .dataframe tbody tr th:only-of-type {\n",
       "        vertical-align: middle;\n",
       "    }\n",
       "\n",
       "    .dataframe tbody tr th {\n",
       "        vertical-align: top;\n",
       "    }\n",
       "\n",
       "    .dataframe thead th {\n",
       "        text-align: right;\n",
       "    }\n",
       "</style>\n",
       "<table border=\"1\" class=\"dataframe\">\n",
       "  <thead>\n",
       "    <tr style=\"text-align: right;\">\n",
       "      <th></th>\n",
       "      <th>catnum</th>\n",
       "      <th>page_nu</th>\n",
       "      <th>x</th>\n",
       "    </tr>\n",
       "    <tr>\n",
       "      <th>div2_label</th>\n",
       "      <th></th>\n",
       "      <th></th>\n",
       "      <th></th>\n",
       "    </tr>\n",
       "  </thead>\n",
       "  <tbody>\n",
       "    <tr>\n",
       "      <th>Agate handles &amp;c.</th>\n",
       "      <td>1</td>\n",
       "      <td>1</td>\n",
       "      <td>1</td>\n",
       "    </tr>\n",
       "    <tr>\n",
       "      <th>Antiquities.</th>\n",
       "      <td>18</td>\n",
       "      <td>18</td>\n",
       "      <td>18</td>\n",
       "    </tr>\n",
       "    <tr>\n",
       "      <th>Miscellanies.</th>\n",
       "      <td>18</td>\n",
       "      <td>18</td>\n",
       "      <td>18</td>\n",
       "    </tr>\n",
       "    <tr>\n",
       "      <th>Pictures &amp;c.</th>\n",
       "      <td>2</td>\n",
       "      <td>2</td>\n",
       "      <td>2</td>\n",
       "    </tr>\n",
       "  </tbody>\n",
       "</table>\n",
       "</div>"
      ],
      "text/plain": [
       "                   catnum  page_nu   x\n",
       "div2_label                            \n",
       "Agate handles &c.       1        1   1\n",
       "Antiquities.           18       18  18\n",
       "Miscellanies.          18       18  18\n",
       "Pictures &c.            2        2   2"
      ]
     },
     "execution_count": 26,
     "metadata": {},
     "output_type": "execute_result"
    }
   ],
   "source": [
    "# rows with catnums across label that are duplicates. Note doesnt contain the first non duplicate row of the group\n",
    "df_with_catnum['x'] = df_with_catnum.duplicated(keep='first', subset=['catnum', 'div2_label'])\n",
    "# df_no_dupes = df[df.x == True]\n",
    "# df.catnum.duplicated(keep='first')\n",
    "# df.head()\n",
    "# df[df.x == 'True']\n",
    "# df['x'] == 'True'\n",
    "dupes = df_with_catnum[df_with_catnum.x == True] \n",
    "dupes.groupby('div2_label').count()"
   ]
  },
  {
   "cell_type": "code",
   "execution_count": 27,
   "metadata": {},
   "outputs": [
    {
     "data": {
      "text/html": [
       "<div>\n",
       "<style scoped>\n",
       "    .dataframe tbody tr th:only-of-type {\n",
       "        vertical-align: middle;\n",
       "    }\n",
       "\n",
       "    .dataframe tbody tr th {\n",
       "        vertical-align: top;\n",
       "    }\n",
       "\n",
       "    .dataframe thead th {\n",
       "        text-align: right;\n",
       "    }\n",
       "</style>\n",
       "<table border=\"1\" class=\"dataframe\">\n",
       "  <thead>\n",
       "    <tr style=\"text-align: right;\">\n",
       "      <th></th>\n",
       "      <th>catnum</th>\n",
       "      <th>div2_label</th>\n",
       "      <th>page_nu</th>\n",
       "      <th>x</th>\n",
       "    </tr>\n",
       "  </thead>\n",
       "  <tbody>\n",
       "    <tr>\n",
       "      <th>240</th>\n",
       "      <td>2</td>\n",
       "      <td>Miscellanies.</td>\n",
       "      <td>EPF108491009v</td>\n",
       "      <td>True</td>\n",
       "    </tr>\n",
       "    <tr>\n",
       "      <th>241</th>\n",
       "      <td>3</td>\n",
       "      <td>Miscellanies.</td>\n",
       "      <td>EPF108491009v</td>\n",
       "      <td>True</td>\n",
       "    </tr>\n",
       "    <tr>\n",
       "      <th>242</th>\n",
       "      <td>4</td>\n",
       "      <td>Miscellanies.</td>\n",
       "      <td>EPF108491009v</td>\n",
       "      <td>True</td>\n",
       "    </tr>\n",
       "    <tr>\n",
       "      <th>243</th>\n",
       "      <td>6</td>\n",
       "      <td>Miscellanies.</td>\n",
       "      <td>EPF108491009v</td>\n",
       "      <td>True</td>\n",
       "    </tr>\n",
       "    <tr>\n",
       "      <th>513</th>\n",
       "      <td>2046</td>\n",
       "      <td>Miscellanies.</td>\n",
       "      <td>EPF108491019v</td>\n",
       "      <td>True</td>\n",
       "    </tr>\n",
       "    <tr>\n",
       "      <th>556</th>\n",
       "      <td>2064</td>\n",
       "      <td>Miscellanies.</td>\n",
       "      <td>EPF108491021v</td>\n",
       "      <td>True</td>\n",
       "    </tr>\n",
       "    <tr>\n",
       "      <th>573</th>\n",
       "      <td>2068</td>\n",
       "      <td>Miscellanies.</td>\n",
       "      <td>EPF108491022v</td>\n",
       "      <td>True</td>\n",
       "    </tr>\n",
       "    <tr>\n",
       "      <th>888</th>\n",
       "      <td>542</td>\n",
       "      <td>Miscellanies.</td>\n",
       "      <td>EPF108491051</td>\n",
       "      <td>True</td>\n",
       "    </tr>\n",
       "    <tr>\n",
       "      <th>1096</th>\n",
       "      <td>396</td>\n",
       "      <td>Miscellanies.</td>\n",
       "      <td>EPF108491079</td>\n",
       "      <td>True</td>\n",
       "    </tr>\n",
       "    <tr>\n",
       "      <th>1268</th>\n",
       "      <td>909</td>\n",
       "      <td>Miscellanies.</td>\n",
       "      <td>EPF108491099</td>\n",
       "      <td>True</td>\n",
       "    </tr>\n",
       "    <tr>\n",
       "      <th>1269</th>\n",
       "      <td>910</td>\n",
       "      <td>Miscellanies.</td>\n",
       "      <td>EPF108491099</td>\n",
       "      <td>True</td>\n",
       "    </tr>\n",
       "    <tr>\n",
       "      <th>1276</th>\n",
       "      <td>916*</td>\n",
       "      <td>Miscellanies.</td>\n",
       "      <td>EPF108491099</td>\n",
       "      <td>True</td>\n",
       "    </tr>\n",
       "    <tr>\n",
       "      <th>1386</th>\n",
       "      <td>1025</td>\n",
       "      <td>Miscellanies.</td>\n",
       "      <td>EPF108491108</td>\n",
       "      <td>True</td>\n",
       "    </tr>\n",
       "    <tr>\n",
       "      <th>1435</th>\n",
       "      <td>1073</td>\n",
       "      <td>Miscellanies.</td>\n",
       "      <td>EPF108491111v</td>\n",
       "      <td>True</td>\n",
       "    </tr>\n",
       "    <tr>\n",
       "      <th>1819</th>\n",
       "      <td>1455</td>\n",
       "      <td>Miscellanies.</td>\n",
       "      <td>EPF108491133</td>\n",
       "      <td>True</td>\n",
       "    </tr>\n",
       "    <tr>\n",
       "      <th>1857</th>\n",
       "      <td>1492</td>\n",
       "      <td>Miscellanies.</td>\n",
       "      <td>EPF108491135</td>\n",
       "      <td>True</td>\n",
       "    </tr>\n",
       "    <tr>\n",
       "      <th>1922</th>\n",
       "      <td>1556</td>\n",
       "      <td>Miscellanies.</td>\n",
       "      <td>EPF108491138</td>\n",
       "      <td>True</td>\n",
       "    </tr>\n",
       "    <tr>\n",
       "      <th>2160</th>\n",
       "      <td>1799</td>\n",
       "      <td>Miscellanies.</td>\n",
       "      <td>EPF108491152</td>\n",
       "      <td>True</td>\n",
       "    </tr>\n",
       "    <tr>\n",
       "      <th>2301</th>\n",
       "      <td>787</td>\n",
       "      <td>Antiquities.</td>\n",
       "      <td>EPF108491157v</td>\n",
       "      <td>True</td>\n",
       "    </tr>\n",
       "    <tr>\n",
       "      <th>2675</th>\n",
       "      <td>1048</td>\n",
       "      <td>Antiquities.</td>\n",
       "      <td>EPF108491170v</td>\n",
       "      <td>True</td>\n",
       "    </tr>\n",
       "    <tr>\n",
       "      <th>2876</th>\n",
       "      <td>252</td>\n",
       "      <td>Antiquities.</td>\n",
       "      <td>EPF108491180a</td>\n",
       "      <td>True</td>\n",
       "    </tr>\n",
       "    <tr>\n",
       "      <th>2877</th>\n",
       "      <td>253</td>\n",
       "      <td>Antiquities.</td>\n",
       "      <td>EPF108491180a</td>\n",
       "      <td>True</td>\n",
       "    </tr>\n",
       "    <tr>\n",
       "      <th>2878</th>\n",
       "      <td>254</td>\n",
       "      <td>Antiquities.</td>\n",
       "      <td>EPF108491180a</td>\n",
       "      <td>True</td>\n",
       "    </tr>\n",
       "    <tr>\n",
       "      <th>2879</th>\n",
       "      <td>255</td>\n",
       "      <td>Antiquities.</td>\n",
       "      <td>EPF108491180a</td>\n",
       "      <td>True</td>\n",
       "    </tr>\n",
       "    <tr>\n",
       "      <th>2880</th>\n",
       "      <td>256</td>\n",
       "      <td>Antiquities.</td>\n",
       "      <td>EPF108491180a</td>\n",
       "      <td>True</td>\n",
       "    </tr>\n",
       "    <tr>\n",
       "      <th>2881</th>\n",
       "      <td>257</td>\n",
       "      <td>Antiquities.</td>\n",
       "      <td>EPF108491180a</td>\n",
       "      <td>True</td>\n",
       "    </tr>\n",
       "    <tr>\n",
       "      <th>2882</th>\n",
       "      <td>258</td>\n",
       "      <td>Antiquities.</td>\n",
       "      <td>EPF108491180a</td>\n",
       "      <td>True</td>\n",
       "    </tr>\n",
       "    <tr>\n",
       "      <th>2883</th>\n",
       "      <td>259</td>\n",
       "      <td>Antiquities.</td>\n",
       "      <td>EPF108491180a</td>\n",
       "      <td>True</td>\n",
       "    </tr>\n",
       "    <tr>\n",
       "      <th>2884</th>\n",
       "      <td>260</td>\n",
       "      <td>Antiquities.</td>\n",
       "      <td>EPF108491180a</td>\n",
       "      <td>True</td>\n",
       "    </tr>\n",
       "    <tr>\n",
       "      <th>2885</th>\n",
       "      <td>261</td>\n",
       "      <td>Antiquities.</td>\n",
       "      <td>EPF108491180a</td>\n",
       "      <td>True</td>\n",
       "    </tr>\n",
       "    <tr>\n",
       "      <th>2886</th>\n",
       "      <td>262</td>\n",
       "      <td>Antiquities.</td>\n",
       "      <td>EPF108491180a</td>\n",
       "      <td>True</td>\n",
       "    </tr>\n",
       "    <tr>\n",
       "      <th>2887</th>\n",
       "      <td>263</td>\n",
       "      <td>Antiquities.</td>\n",
       "      <td>EPF108491180a</td>\n",
       "      <td>True</td>\n",
       "    </tr>\n",
       "    <tr>\n",
       "      <th>2922</th>\n",
       "      <td>288</td>\n",
       "      <td>Antiquities.</td>\n",
       "      <td>EPF108491183</td>\n",
       "      <td>True</td>\n",
       "    </tr>\n",
       "    <tr>\n",
       "      <th>3046</th>\n",
       "      <td>412</td>\n",
       "      <td>Antiquities.</td>\n",
       "      <td>EPF108491189</td>\n",
       "      <td>True</td>\n",
       "    </tr>\n",
       "    <tr>\n",
       "      <th>3076</th>\n",
       "      <td>441</td>\n",
       "      <td>Antiquities.</td>\n",
       "      <td>EPF108491192</td>\n",
       "      <td>True</td>\n",
       "    </tr>\n",
       "    <tr>\n",
       "      <th>3326</th>\n",
       "      <td>690</td>\n",
       "      <td>Antiquities.</td>\n",
       "      <td>EPF108491205</td>\n",
       "      <td>True</td>\n",
       "    </tr>\n",
       "    <tr>\n",
       "      <th>3964</th>\n",
       "      <td>368</td>\n",
       "      <td>Pictures &amp;c.</td>\n",
       "      <td>EPF108491268</td>\n",
       "      <td>True</td>\n",
       "    </tr>\n",
       "    <tr>\n",
       "      <th>3988</th>\n",
       "      <td>382</td>\n",
       "      <td>Pictures &amp;c.</td>\n",
       "      <td>EPF108491269</td>\n",
       "      <td>True</td>\n",
       "    </tr>\n",
       "    <tr>\n",
       "      <th>4178</th>\n",
       "      <td>20</td>\n",
       "      <td>Agate handles &amp;c.</td>\n",
       "      <td>EPF108491291</td>\n",
       "      <td>True</td>\n",
       "    </tr>\n",
       "  </tbody>\n",
       "</table>\n",
       "</div>"
      ],
      "text/plain": [
       "     catnum         div2_label        page_nu     x\n",
       "240       2      Miscellanies.  EPF108491009v  True\n",
       "241       3      Miscellanies.  EPF108491009v  True\n",
       "242       4      Miscellanies.  EPF108491009v  True\n",
       "243       6      Miscellanies.  EPF108491009v  True\n",
       "513    2046      Miscellanies.  EPF108491019v  True\n",
       "556    2064      Miscellanies.  EPF108491021v  True\n",
       "573    2068      Miscellanies.  EPF108491022v  True\n",
       "888     542      Miscellanies.   EPF108491051  True\n",
       "1096    396      Miscellanies.   EPF108491079  True\n",
       "1268    909      Miscellanies.   EPF108491099  True\n",
       "1269    910      Miscellanies.   EPF108491099  True\n",
       "1276   916*      Miscellanies.   EPF108491099  True\n",
       "1386   1025      Miscellanies.   EPF108491108  True\n",
       "1435   1073      Miscellanies.  EPF108491111v  True\n",
       "1819   1455      Miscellanies.   EPF108491133  True\n",
       "1857   1492      Miscellanies.   EPF108491135  True\n",
       "1922   1556      Miscellanies.   EPF108491138  True\n",
       "2160   1799      Miscellanies.   EPF108491152  True\n",
       "2301    787       Antiquities.  EPF108491157v  True\n",
       "2675   1048       Antiquities.  EPF108491170v  True\n",
       "2876    252       Antiquities.  EPF108491180a  True\n",
       "2877    253       Antiquities.  EPF108491180a  True\n",
       "2878    254       Antiquities.  EPF108491180a  True\n",
       "2879    255       Antiquities.  EPF108491180a  True\n",
       "2880    256       Antiquities.  EPF108491180a  True\n",
       "2881    257       Antiquities.  EPF108491180a  True\n",
       "2882    258       Antiquities.  EPF108491180a  True\n",
       "2883    259       Antiquities.  EPF108491180a  True\n",
       "2884    260       Antiquities.  EPF108491180a  True\n",
       "2885    261       Antiquities.  EPF108491180a  True\n",
       "2886    262       Antiquities.  EPF108491180a  True\n",
       "2887    263       Antiquities.  EPF108491180a  True\n",
       "2922    288       Antiquities.   EPF108491183  True\n",
       "3046    412       Antiquities.   EPF108491189  True\n",
       "3076    441       Antiquities.   EPF108491192  True\n",
       "3326    690       Antiquities.   EPF108491205  True\n",
       "3964    368       Pictures &c.   EPF108491268  True\n",
       "3988    382       Pictures &c.   EPF108491269  True\n",
       "4178     20  Agate handles &c.   EPF108491291  True"
      ]
     },
     "execution_count": 27,
     "metadata": {},
     "output_type": "execute_result"
    }
   ],
   "source": [
    "dupes"
   ]
  },
  {
   "cell_type": "code",
   "execution_count": 28,
   "metadata": {},
   "outputs": [
    {
     "data": {
      "text/plain": [
       "39"
      ]
     },
     "execution_count": 28,
     "metadata": {},
     "output_type": "execute_result"
    }
   ],
   "source": [
    "len(dupes)"
   ]
  },
  {
   "cell_type": "code",
   "execution_count": 29,
   "metadata": {},
   "outputs": [
    {
     "data": {
      "text/html": [
       "<div>\n",
       "<style scoped>\n",
       "    .dataframe tbody tr th:only-of-type {\n",
       "        vertical-align: middle;\n",
       "    }\n",
       "\n",
       "    .dataframe tbody tr th {\n",
       "        vertical-align: top;\n",
       "    }\n",
       "\n",
       "    .dataframe thead th {\n",
       "        text-align: right;\n",
       "    }\n",
       "</style>\n",
       "<table border=\"1\" class=\"dataframe\">\n",
       "  <thead>\n",
       "    <tr style=\"text-align: right;\">\n",
       "      <th></th>\n",
       "      <th>catnum</th>\n",
       "      <th>div2_label</th>\n",
       "      <th>page_nu</th>\n",
       "      <th>x</th>\n",
       "    </tr>\n",
       "  </thead>\n",
       "  <tbody>\n",
       "    <tr>\n",
       "      <th>3964</th>\n",
       "      <td>368</td>\n",
       "      <td>Pictures &amp;c.</td>\n",
       "      <td>EPF108491268</td>\n",
       "      <td>True</td>\n",
       "    </tr>\n",
       "    <tr>\n",
       "      <th>3988</th>\n",
       "      <td>382</td>\n",
       "      <td>Pictures &amp;c.</td>\n",
       "      <td>EPF108491269</td>\n",
       "      <td>True</td>\n",
       "    </tr>\n",
       "  </tbody>\n",
       "</table>\n",
       "</div>"
      ],
      "text/plain": [
       "     catnum    div2_label       page_nu     x\n",
       "3964    368  Pictures &c.  EPF108491268  True\n",
       "3988    382  Pictures &c.  EPF108491269  True"
      ]
     },
     "execution_count": 29,
     "metadata": {},
     "output_type": "execute_result"
    }
   ],
   "source": [
    "# test to see if data is correct\n",
    "dupes[dupes.div2_label == 'Pictures &c.']"
   ]
  },
  {
   "cell_type": "code",
   "execution_count": 30,
   "metadata": {},
   "outputs": [
    {
     "data": {
      "text/html": [
       "<div>\n",
       "<style scoped>\n",
       "    .dataframe tbody tr th:only-of-type {\n",
       "        vertical-align: middle;\n",
       "    }\n",
       "\n",
       "    .dataframe tbody tr th {\n",
       "        vertical-align: top;\n",
       "    }\n",
       "\n",
       "    .dataframe thead th {\n",
       "        text-align: right;\n",
       "    }\n",
       "</style>\n",
       "<table border=\"1\" class=\"dataframe\">\n",
       "  <thead>\n",
       "    <tr style=\"text-align: right;\">\n",
       "      <th></th>\n",
       "      <th>catnum</th>\n",
       "      <th>div2_label</th>\n",
       "      <th>page_nu</th>\n",
       "    </tr>\n",
       "  </thead>\n",
       "  <tbody>\n",
       "    <tr>\n",
       "      <th>4306</th>\n",
       "      <td>1</td>\n",
       "      <td>Agate cups botles spoons &amp;c.</td>\n",
       "      <td>EPF108491305</td>\n",
       "    </tr>\n",
       "  </tbody>\n",
       "</table>\n",
       "</div>"
      ],
      "text/plain": [
       "     catnum                    div2_label       page_nu\n",
       "4306      1  Agate cups botles spoons &c.  EPF108491305"
      ]
     },
     "execution_count": 30,
     "metadata": {},
     "output_type": "execute_result"
    }
   ],
   "source": [
    "df[(df.div2_label == 'Agate cups botles spoons &c.') & (df.catnum == '1')]"
   ]
  },
  {
   "cell_type": "code",
   "execution_count": 31,
   "metadata": {},
   "outputs": [
    {
     "data": {
      "text/html": [
       "<div>\n",
       "<style scoped>\n",
       "    .dataframe tbody tr th:only-of-type {\n",
       "        vertical-align: middle;\n",
       "    }\n",
       "\n",
       "    .dataframe tbody tr th {\n",
       "        vertical-align: top;\n",
       "    }\n",
       "\n",
       "    .dataframe thead th {\n",
       "        text-align: right;\n",
       "    }\n",
       "</style>\n",
       "<table border=\"1\" class=\"dataframe\">\n",
       "  <thead>\n",
       "    <tr style=\"text-align: right;\">\n",
       "      <th></th>\n",
       "      <th>catnum</th>\n",
       "      <th>page_nu</th>\n",
       "    </tr>\n",
       "    <tr>\n",
       "      <th>div2_label</th>\n",
       "      <th></th>\n",
       "      <th></th>\n",
       "    </tr>\n",
       "  </thead>\n",
       "  <tbody>\n",
       "    <tr>\n",
       "      <th>Agate cups botles spoons &amp;c.</th>\n",
       "      <td>303</td>\n",
       "      <td>303</td>\n",
       "    </tr>\n",
       "    <tr>\n",
       "      <th>Agate handles &amp;c.</th>\n",
       "      <td>241</td>\n",
       "      <td>241</td>\n",
       "    </tr>\n",
       "    <tr>\n",
       "      <th>Antiquities.</th>\n",
       "      <td>1175</td>\n",
       "      <td>1175</td>\n",
       "    </tr>\n",
       "    <tr>\n",
       "      <th>Impressions of Seals &amp;c.</th>\n",
       "      <td>260</td>\n",
       "      <td>260</td>\n",
       "    </tr>\n",
       "    <tr>\n",
       "      <th>Mathematicall instruments &amp;c</th>\n",
       "      <td>56</td>\n",
       "      <td>56</td>\n",
       "    </tr>\n",
       "    <tr>\n",
       "      <th>Miscellanies.</th>\n",
       "      <td>2181</td>\n",
       "      <td>2181</td>\n",
       "    </tr>\n",
       "    <tr>\n",
       "      <th>Pictures &amp;c.</th>\n",
       "      <td>413</td>\n",
       "      <td>413</td>\n",
       "    </tr>\n",
       "    <tr>\n",
       "      <th>label</th>\n",
       "      <td>1</td>\n",
       "      <td>1</td>\n",
       "    </tr>\n",
       "  </tbody>\n",
       "</table>\n",
       "</div>"
      ],
      "text/plain": [
       "                              catnum  page_nu\n",
       "div2_label                                   \n",
       "Agate cups botles spoons &c.     303      303\n",
       "Agate handles &c.                241      241\n",
       "Antiquities.                    1175     1175\n",
       "Impressions of Seals &c.         260      260\n",
       "Mathematicall instruments &c      56       56\n",
       "Miscellanies.                   2181     2181\n",
       "Pictures &c.                     413      413\n",
       "label                              1        1"
      ]
     },
     "execution_count": 31,
     "metadata": {},
     "output_type": "execute_result"
    }
   ],
   "source": [
    "df.groupby('div2_label').count()"
   ]
  },
  {
   "cell_type": "code",
   "execution_count": null,
   "metadata": {},
   "outputs": [],
   "source": [
    "\n",
    "\n",
    "# is catnum empty?\n",
    "df[df.catnum == None]\n",
    "df[df.catnum.isnull()]\n",
    "df[df.catnum == '']"
   ]
  },
  {
   "cell_type": "code",
   "execution_count": null,
   "metadata": {},
   "outputs": [],
   "source": [
    "df[df.div2_label.isnull()]"
   ]
  },
  {
   "cell_type": "code",
   "execution_count": null,
   "metadata": {},
   "outputs": [],
   "source": [
    "df[df.div2_label == '']"
   ]
  },
  {
   "cell_type": "code",
   "execution_count": null,
   "metadata": {},
   "outputs": [],
   "source": [
    "df.sort_values('div2_label', ascending=False)"
   ]
  },
  {
   "cell_type": "code",
   "execution_count": null,
   "metadata": {},
   "outputs": [],
   "source": [
    "#total number of catnum = 4608\n",
    "len(df)"
   ]
  },
  {
   "cell_type": "code",
   "execution_count": null,
   "metadata": {},
   "outputs": [],
   "source": [
    "len(df.div2_label.unique())"
   ]
  },
  {
   "cell_type": "code",
   "execution_count": null,
   "metadata": {},
   "outputs": [],
   "source": [
    "df.div2_label.unique()"
   ]
  },
  {
   "cell_type": "code",
   "execution_count": null,
   "metadata": {},
   "outputs": [],
   "source": [
    "#unique number of pages = 369 including Index. Without 382\n",
    "\n",
    "len(df.page_nu.unique())"
   ]
  },
  {
   "cell_type": "code",
   "execution_count": null,
   "metadata": {},
   "outputs": [],
   "source": [
    "\n",
    "misc = df[df.div2_label == 'Miscellanies.']"
   ]
  },
  {
   "cell_type": "code",
   "execution_count": null,
   "metadata": {},
   "outputs": [],
   "source": [
    "len(misc.catnum)"
   ]
  },
  {
   "cell_type": "code",
   "execution_count": null,
   "metadata": {},
   "outputs": [],
   "source": [
    "len(misc.catnum.unique())"
   ]
  },
  {
   "cell_type": "code",
   "execution_count": null,
   "metadata": {},
   "outputs": [],
   "source": [
    "misc[misc.catnum.duplicated(keep=False)].sort_values('catnum')"
   ]
  },
  {
   "cell_type": "code",
   "execution_count": null,
   "metadata": {},
   "outputs": [],
   "source": [
    "misc[misc.catnum.duplicated(keep=False)].sort_values('catnum').to_csv(\"dupicate_catnum_each_div2.csv\")"
   ]
  },
  {
   "cell_type": "code",
   "execution_count": null,
   "metadata": {},
   "outputs": [],
   "source": [
    "antq = df[df.div2_label == 'Antiquities.']"
   ]
  },
  {
   "cell_type": "code",
   "execution_count": null,
   "metadata": {},
   "outputs": [],
   "source": [
    "len(antq.catnum)"
   ]
  },
  {
   "cell_type": "code",
   "execution_count": null,
   "metadata": {},
   "outputs": [],
   "source": [
    "len(antq.catnum.unique())"
   ]
  },
  {
   "cell_type": "code",
   "execution_count": null,
   "metadata": {},
   "outputs": [],
   "source": [
    "antq[antq.catnum.duplicated(keep=False)].sort_values('catnum')"
   ]
  },
  {
   "cell_type": "code",
   "execution_count": null,
   "metadata": {},
   "outputs": [],
   "source": [
    "cups = df[df.div2_label == 'Agate cups botles spoons &c.']"
   ]
  },
  {
   "cell_type": "code",
   "execution_count": null,
   "metadata": {},
   "outputs": [],
   "source": [
    "len(cups.catnum)"
   ]
  },
  {
   "cell_type": "code",
   "execution_count": null,
   "metadata": {},
   "outputs": [],
   "source": [
    "len(cups.catnum.unique())"
   ]
  },
  {
   "cell_type": "code",
   "execution_count": null,
   "metadata": {},
   "outputs": [],
   "source": [
    "seals = df[df.div2_label == 'Impressions of Seals &c.']"
   ]
  },
  {
   "cell_type": "code",
   "execution_count": null,
   "metadata": {},
   "outputs": [],
   "source": [
    "len(seals.catnum)"
   ]
  },
  {
   "cell_type": "code",
   "execution_count": null,
   "metadata": {},
   "outputs": [],
   "source": [
    "len(seals.catnum.unique())"
   ]
  },
  {
   "cell_type": "code",
   "execution_count": null,
   "metadata": {},
   "outputs": [],
   "source": [
    "pics = df[df.div2_label == 'Pictures &c.']"
   ]
  },
  {
   "cell_type": "code",
   "execution_count": null,
   "metadata": {},
   "outputs": [],
   "source": [
    "len(pics.catnum)"
   ]
  },
  {
   "cell_type": "code",
   "execution_count": null,
   "metadata": {},
   "outputs": [],
   "source": [
    "len(pics.catnum.unique())"
   ]
  },
  {
   "cell_type": "code",
   "execution_count": null,
   "metadata": {},
   "outputs": [],
   "source": [
    "pics[pics.catnum.duplicated(keep=False)].sort_values('catnum')"
   ]
  },
  {
   "cell_type": "code",
   "execution_count": null,
   "metadata": {},
   "outputs": [],
   "source": [
    "#to get text from div3: .join(div3.itertext()).strip()"
   ]
  },
  {
   "cell_type": "code",
   "execution_count": null,
   "metadata": {},
   "outputs": [],
   "source": [
    "#to get text from div3: .join(div3.itertext()).strip()"
   ]
  },
  {
   "cell_type": "code",
   "execution_count": null,
   "metadata": {},
   "outputs": [],
   "source": []
  }
 ],
 "metadata": {
  "kernelspec": {
   "display_name": "Python 3",
   "language": "python",
   "name": "python3"
  },
  "language_info": {
   "codemirror_mode": {
    "name": "ipython",
    "version": 3
   },
   "file_extension": ".py",
   "mimetype": "text/x-python",
   "name": "python",
   "nbconvert_exporter": "python",
   "pygments_lexer": "ipython3",
   "version": "3.7.1"
  }
 },
 "nbformat": 4,
 "nbformat_minor": 4
}
