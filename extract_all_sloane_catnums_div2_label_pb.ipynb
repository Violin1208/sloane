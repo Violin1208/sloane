{
 "cells": [
  {
   "cell_type": "code",
   "execution_count": 1,
   "metadata": {},
   "outputs": [],
   "source": [
    "#To extract page numbers(pb), div2 label, and catnum from Misc XML file and save as csv.\n",
    "\n",
    "#Extract div3 when there is no catnum within each div2 labels\n",
    "\n",
    "#Excludes Indexes\n",
    "#To ignore digits from <add rend=\"del\"> and <add rend=\"pencil\"> which occurs once with catnum 2082\n",
    "#from <catnum>, remove: -; ____; ?; .; and a tick in front of a number.\n",
    "#Excludes non-Sloane cat entries.\n",
    "\n",
    "from lxml import etree\n",
    "import re\n",
    "import csv"
   ]
  },
  {
   "cell_type": "code",
   "execution_count": 2,
   "metadata": {},
   "outputs": [],
   "source": [
    "path = '/Users/deborahleem/Documents/PhD/SloaneDBwork19/Miscellanies5Ah_MASTER_fixed_whitespaceDL.xml'\n",
    "doc = etree.parse(open(path))\n",
    "root = doc.getroot()"
   ]
  },
  {
   "cell_type": "code",
   "execution_count": 3,
   "metadata": {},
   "outputs": [
    {
     "name": "stderr",
     "output_type": "stream",
     "text": [
      "/Users/deborahleem/scripts/venvs/deb_1.0/lib/python3.7/site-packages/ipykernel_launcher.py:5: FutureWarning: The behavior of this method will change in future versions. Use specific 'len(elem)' or 'elem is not None' test instead.\n",
      "  \"\"\"\n"
     ]
    }
   ],
   "source": [
    "def remove_element(el):\n",
    "    parent = el.getparent()\n",
    "    if el.tail:\n",
    "        prev = el.getprevious()\n",
    "        if prev:\n",
    "            prev.tail = (prev.tail or '') + el.tail\n",
    "        else:\n",
    "            parent.text = (parent.text or '') + el.tail\n",
    "    parent.remove(el)\n",
    "\n",
    "# Remove every <add rend=\"del\"> and <add rend=\"pencil\"> from document before the rest of analysis\n",
    "for e in list(root.iterfind('.//{*}add')):\n",
    "    if ('rend' in e.attrib) and (e.attrib['rend'] == 'del' or e.attrib['rend'] == 'pencil'):\n",
    "        #print('removing', etree.tostring(e, pretty_print=True))\n",
    "        if e.text == '-1861' or e.text == '2094.' or e.text == '-382.':\n",
    "            continue\n",
    "        remove_element(e)\n"
   ]
  },
  {
   "cell_type": "code",
   "execution_count": 4,
   "metadata": {},
   "outputs": [],
   "source": [
    "#Catnums that need to be excluded as they are not part of Sloane\n",
    "#<pb xml:id=\"EPF108491027v\"/>, Miscellanies, 2108, 2109, 2110, 2111\n",
    "#<pb xml:id=\"EPF108491177v\"/>, Antiquities, 1,2\n",
    "#<pb xml:id=\"EPF108491178v\"/>, Antiquities, 1,2,3,4\n",
    "#<pb xml:id=\"EPF108491179v\"/>, Antiquities, 4,5,6,7,8,1\n",
    "#<pb xml:id=\"EPF108491180v\"/>, Antiquities, 2,3\n",
    "#<pb xml:id=\"EPF108491181v\"/>, Antiquities, 4,5\n",
    "#<pb xml:id=\"EPF108491182v\"/>, Antiquities, 1,2,3,4,5\n",
    "#<pb xml:id=\"EPF108491183v\"/>, Antiquities, 6,7,8,9,10,11,12\n",
    "#<pb xml:id=\"EPF108491184v\"/>, Antiquities, 13,14,1,2,3,4,5,1\n",
    "#<pb xml:id=\"EPF108491186v\" type=\"Bronzes\"/>, Antiquities, 1,2,3,4,5,6,7,8,9,10,11,12,13,14,15,16,17,18,19\n",
    "#<pb xml:id=\"EPF108491187v\" type=\"Bronzes\"/>, Antiquities, 20,21,22,23,24,25,26,27,28,29,30,31,32,33,34,35,36,37,38,39\n",
    "#<pb xml:id=\"EPF108491188v\"/>, Antiquities, 40,41,42,43,44,45,46,47,48,1,2,3,4,5,6,7,8,9\n",
    "#<pb xml:id=\"EPF108491189v\"/>, Antiquities, 10,11,12,1,2,3,4,5,6\n",
    "#<pb xml:id=\"EPF108491190v\"/>, Antiquities, 7,8,9,10,11"
   ]
  },
  {
   "cell_type": "code",
   "execution_count": 5,
   "metadata": {},
   "outputs": [],
   "source": [
    "excluded = {\n",
    "  \"EPF108491027v\": [\"2108\",\"2109\",\"2110\",\"2111\"], # \"Miscellanies\"\n",
    "  \"EPF108491177v\": [\"1\",\"2\"], # \"Antiquities\"\n",
    "  \"EPF108491178v\": [\"1\",\"2\",\"3\",\"4\"], # \"Antiquities\"\n",
    "  \"EPF108491179v\": [\"4\",\"5\",\"6\",\"7\",\"8\",\"1\"], # \"Antiquities\"\n",
    "  \"EPF108491180v\": [\"2\",\"3\"], # \"Antiquities\"\n",
    "  \"EPF108491181v\": [\"4\",\"5\"], # \"Antiquities\"\n",
    "  \"EPF108491182v\": [\"1\",\"2\",\"3\",\"4\",\"5\"], # \"Antiquities\"\n",
    "  \"EPF108491183v\": [\"6\",\"7\",\"8\",\"9\",\"10\",\"11\",\"12\"], # \"Antiquities\"\n",
    "  \"EPF108491184v\": [\"13\",\"14\",\"1\",\"2\",\"3\",\"4\",\"5\",\"1\"], # \"Antiquities\"\n",
    "  \"EPF108491186v\": [\"1\",\"2\",\"3\",\"4\",\"5\",\"6\",\"7\",\"8\",\"9\",\"10\",\"11\",\"12\",\"13\",\"14\",\"15\",\"16\",\"17\",\"18\",\"19\"], # \"Antiquities\"\n",
    "  \"EPF108491187v\": [\"20\",\"21\",\"22\",\"23\",\"24\",\"25\",\"26\",\"27\",\"28\",\"29\",\"30\",\"31\",\"32\",\"33\",\"34\",\"35\",\"36\",\"37\",\"38\",\"39\"], # \"Antiquities\"\n",
    "  \"EPF108491188v\": [\"40\",\"41\",\"42\",\"43\",\"44\",\"45\",\"46\",\"47\",\"48\",\"1\",\"2\",\"3\",\"4\",\"5\",\"6\",\"7\",\"8\",\"9\"], # \"Antiquities\"\n",
    "  \"EPF108491189v\": [\"10\",\"11\",\"12\",\"1\",\"2\",\"3\",\"4\",\"5\",\"6\"], # \"Antiquities\"\n",
    "  \"EPF108491190v\": [\"7\",\"8\",\"9\",\"10\",\"11\"], # \"Antiquities\"\n",
    "}\n"
   ]
  },
  {
   "cell_type": "code",
   "execution_count": 6,
   "metadata": {},
   "outputs": [],
   "source": [
    "def find_div2_label(element):\n",
    "    while element is not None:\n",
    "        if element.tag == '{http://www.tei-c.org/ns/1.0}div2':\n",
    "            label = element.find('{*}label')\n",
    "            if label is not None:\n",
    "                return ''.join(label.itertext()).strip()\n",
    "            return\n",
    "        element = element.getparent()"
   ]
  },
  {
   "cell_type": "code",
   "execution_count": 7,
   "metadata": {},
   "outputs": [],
   "source": [
    "def find_enclosing_div3(element):\n",
    "    while element is not None:\n",
    "        if element.tag == '{http://www.tei-c.org/ns/1.0}div3':\n",
    "            return element\n",
    "        element = element.getparent()\n",
    "    \n",
    "def find_pb_xml_id(element):\n",
    "    element = find_enclosing_div3(element)\n",
    "    while element is not None:\n",
    "#         print(element.tag)\n",
    "        if element.tag == '{http://www.tei-c.org/ns/1.0}pb':\n",
    "            return element.attrib['{http://www.w3.org/XML/1998/namespace}id']\n",
    "        element = element.getprevious()\n",
    "                \n",
    "# for catnum in root.iterfind('.//{*}catnum'):\n",
    "#     print(find_pb_xml_id(catnum))\n"
   ]
  },
  {
   "cell_type": "code",
   "execution_count": null,
   "metadata": {},
   "outputs": [],
   "source": [
    "#metamark not consistenly used."
   ]
  },
  {
   "cell_type": "code",
   "execution_count": 8,
   "metadata": {},
   "outputs": [],
   "source": [
    "def cleanup_catnum(text):\n",
    "    #removing from beginning and end:\n",
    "    # \\s spaces/tabs/newlines\n",
    "    # \\- dashes\n",
    "    # . dots\n",
    "    # ? question marks\n",
    "    # _ underscores\n",
    "    # ✓\n",
    "    text = re.sub(r'^[ ✓\\t\\n.\\-_?]+', \"\", text)\n",
    "    text = re.sub(r'[ ✓\\t\\n.\\-_?]+$', \"\", text)\n",
    "    text = re.sub(r'[ ✓\\t\\n.\\-_?]+\\*', \"*\", text)\n",
    "    text = text.replace('. ', ' ')\n",
    "    return text\n",
    "\n",
    "results = []\n",
    "for catnum in root.iterfind('.//{*}catnum'):\n",
    "    text = \"\".join(catnum.itertext())\n",
    "    text = cleanup_catnum(text)\n",
    "    label = find_div2_label(catnum)\n",
    "    if label.startswith('Index'):\n",
    "        continue\n",
    "    pb_xml_id = find_pb_xml_id(catnum)\n",
    "    if pb_xml_id in excluded:\n",
    "        if text in excluded[pb_xml_id]:\n",
    "#             print('exclude', pb_xml_id, text)\n",
    "            continue\n",
    "#         else:\n",
    "#             print('do not exclude', pb_xml_id, text)\n",
    "    \n",
    "    results.append([text, label, pb_xml_id])\n",
    "    #print(etree.tostring(catnum))\n",
    "    #print([text, label])"
   ]
  },
  {
   "cell_type": "code",
   "execution_count": 9,
   "metadata": {},
   "outputs": [],
   "source": [
    "# Find div3s without catnums inside, not in index\n",
    "#There are many Div3 without catnum on recto so only retrieve ones on verso\n",
    "for div3 in root.iterfind('.//{*}div3'):\n",
    "    catnums_inside = list(div3.iterfind('.//{*}catnum'))\n",
    "    if len(catnums_inside) > 0:\n",
    "        continue\n",
    "    label = find_div2_label(div3)\n",
    "    if label.startswith('Index'):\n",
    "        continue\n",
    "    pb_xml_id = find_pb_xml_id(div3)\n",
    "    if pb_xml_id in excluded:\n",
    "         continue\n",
    "    if pb_xml_id.endswith('v'):\n",
    "        results.append(['no catnum', label, pb_xml_id])\n",
    "#     print(div3)\n",
    "#     print(etree.tostring(div3))\n",
    "#     break\n"
   ]
  },
  {
   "cell_type": "code",
   "execution_count": 10,
   "metadata": {},
   "outputs": [],
   "source": [
    "# results0 = results"
   ]
  },
  {
   "cell_type": "code",
   "execution_count": 11,
   "metadata": {},
   "outputs": [],
   "source": [
    "#Showing all changes.\n",
    "# [(results0[i], results[i]) for i in range(len(results)) if results0[i] != results[i]]"
   ]
  },
  {
   "cell_type": "code",
   "execution_count": 12,
   "metadata": {
    "scrolled": true
   },
   "outputs": [
    {
     "data": {
      "text/plain": [
       "[[['No 1', 'Miscellanies.', 'EPF108491009v'], 238],\n",
       " [['1933 No 7', 'Miscellanies.', 'EPF108491010v'], 259],\n",
       " [['1933 No 8', 'Miscellanies.', 'EPF108491010v'], 260],\n",
       " [['1933 No 9', 'Miscellanies.', 'EPF108491010v'], 261],\n",
       " [['1933 No 10', 'Miscellanies.', 'EPF108491010v'], 262],\n",
       " [['1933 No 11', 'Miscellanies.', 'EPF108491010v'], 263],\n",
       " [['1933 No 12', 'Miscellanies.', 'EPF108491010v'], 264],\n",
       " [['1933 No 13', 'Miscellanies.', 'EPF108491010v'], 265],\n",
       " [['1933 No 14', 'Miscellanies.', 'EPF108491010v'], 266],\n",
       " [['1933 No 15', 'Miscellanies.', 'EPF108491010v'], 267],\n",
       " [['1933 No 16', 'Miscellanies.', 'EPF108491010v'], 268],\n",
       " [['1933 No 17', 'Miscellanies.', 'EPF108491010v'], 269],\n",
       " [['1933 No 18', 'Miscellanies.', 'EPF108491010v'], 270],\n",
       " [['1933 No 20', 'Miscellanies.', 'EPF108491010v'], 271],\n",
       " [['1933 No 21', 'Miscellanies.', 'EPF108491010v'], 272],\n",
       " [['1933 No 22', 'Miscellanies.', 'EPF108491010v'], 273],\n",
       " [['1933 No 25', 'Miscellanies.', 'EPF108491010v'], 274],\n",
       " [['1933 No 26', 'Miscellanies.', 'EPF108491010v'], 275],\n",
       " [['1933 No 27', 'Miscellanies.', 'EPF108491010v'], 276],\n",
       " [['1933 No 28', 'Miscellanies.', 'EPF108491010v'], 277],\n",
       " [['1933 No 29', 'Miscellanies.', 'EPF108491010v'], 278],\n",
       " [['1933 No 30', 'Miscellanies.', 'EPF108491010v'], 279],\n",
       " [['1933 No 32', 'Miscellanies.', 'EPF108491010v'], 280],\n",
       " [['1933 No 33', 'Miscellanies.', 'EPF108491010v'], 281],\n",
       " [['1933 No 34', 'Miscellanies.', 'EPF108491010v'], 282],\n",
       " [['1933 No 35', 'Miscellanies.', 'EPF108491010v'], 283],\n",
       " [['1635 & 1636', 'Miscellanies.', 'EPF108491142av'], 1997],\n",
       " [['no catnum', 'Miscellanies.', 'EPF108491005av'], 4608],\n",
       " [['no catnum', 'Miscellanies.', 'EPF108491018v'], 4609],\n",
       " [['no catnum', 'Miscellanies.', 'EPF108491035v'], 4610],\n",
       " [['no catnum', 'Miscellanies.', 'EPF108491066v'], 4611],\n",
       " [['no catnum', 'Miscellanies.', 'EPF108491071v'], 4612],\n",
       " [['no catnum', 'Miscellanies.', 'EPF108491092v'], 4613],\n",
       " [['no catnum', 'Miscellanies.', 'EPF108491099v'], 4614],\n",
       " [['no catnum', 'Miscellanies.', 'EPF108491110v'], 4615],\n",
       " [['no catnum', 'Miscellanies.', 'EPF108491115v'], 4616],\n",
       " [['no catnum', 'Miscellanies.', 'EPF108491124v'], 4617],\n",
       " [['no catnum', 'Miscellanies.', 'EPF108491127v'], 4618],\n",
       " [['no catnum', 'Miscellanies.', 'EPF108491131v'], 4619],\n",
       " [['no catnum', 'Miscellanies.', 'EPF108491135v'], 4620],\n",
       " [['no catnum', 'Miscellanies.', 'EPF108491135v'], 4620],\n",
       " [['no catnum', 'Miscellanies.', 'EPF108491135v'], 4620],\n",
       " [['no catnum', 'Miscellanies.', 'EPF108491143v'], 4623],\n",
       " [['no catnum', 'Antiquities.', 'EPF108491158v'], 4624],\n",
       " [['no catnum', 'Antiquities.', 'EPF108491191v'], 4625],\n",
       " [['no catnum', 'Antiquities.', 'EPF108491191v'], 4625],\n",
       " [['no catnum', 'Antiquities.', 'EPF108491191v'], 4625],\n",
       " [['no catnum', 'Antiquities.', 'EPF108491191v'], 4625]]"
      ]
     },
     "execution_count": 12,
     "metadata": {},
     "output_type": "execute_result"
    }
   ],
   "source": [
    "# All entries that are not just digits and start\n",
    "[[x, results.index(x)] for x in results if not x[0].replace('*', '').isdigit()]"
   ]
  },
  {
   "cell_type": "code",
   "execution_count": 13,
   "metadata": {},
   "outputs": [],
   "source": [
    "with open('all_catnums_and_their_div2_labels.csv', 'w') as file:\n",
    "    writer = csv.writer(file)\n",
    "    for catnum, label, pageid in results:\n",
    "        writer.writerow([catnum, label, pageid])"
   ]
  },
  {
   "cell_type": "code",
   "execution_count": 14,
   "metadata": {},
   "outputs": [],
   "source": [
    "import pandas as pd"
   ]
  },
  {
   "cell_type": "code",
   "execution_count": 15,
   "metadata": {},
   "outputs": [],
   "source": [
    "df = pd.read_csv('all_catnums_and_their_div2_labels.csv', header=None, names=['catnum', 'div2_label', 'page_nu'])"
   ]
  },
  {
   "cell_type": "code",
   "execution_count": 16,
   "metadata": {},
   "outputs": [
    {
     "data": {
      "text/html": [
       "<div>\n",
       "<style scoped>\n",
       "    .dataframe tbody tr th:only-of-type {\n",
       "        vertical-align: middle;\n",
       "    }\n",
       "\n",
       "    .dataframe tbody tr th {\n",
       "        vertical-align: top;\n",
       "    }\n",
       "\n",
       "    .dataframe thead th {\n",
       "        text-align: right;\n",
       "    }\n",
       "</style>\n",
       "<table border=\"1\" class=\"dataframe\">\n",
       "  <thead>\n",
       "    <tr style=\"text-align: right;\">\n",
       "      <th></th>\n",
       "      <th>catnum</th>\n",
       "      <th>div2_label</th>\n",
       "      <th>page_nu</th>\n",
       "    </tr>\n",
       "  </thead>\n",
       "  <tbody>\n",
       "    <tr>\n",
       "      <th>0</th>\n",
       "      <td>1799</td>\n",
       "      <td>Miscellanies.</td>\n",
       "      <td>EPF108491002v</td>\n",
       "    </tr>\n",
       "    <tr>\n",
       "      <th>1</th>\n",
       "      <td>1800</td>\n",
       "      <td>Miscellanies.</td>\n",
       "      <td>EPF108491002v</td>\n",
       "    </tr>\n",
       "    <tr>\n",
       "      <th>2</th>\n",
       "      <td>1801</td>\n",
       "      <td>Miscellanies.</td>\n",
       "      <td>EPF108491002v</td>\n",
       "    </tr>\n",
       "    <tr>\n",
       "      <th>3</th>\n",
       "      <td>1802</td>\n",
       "      <td>Miscellanies.</td>\n",
       "      <td>EPF108491002v</td>\n",
       "    </tr>\n",
       "    <tr>\n",
       "      <th>4</th>\n",
       "      <td>1803</td>\n",
       "      <td>Miscellanies.</td>\n",
       "      <td>EPF108491002v</td>\n",
       "    </tr>\n",
       "  </tbody>\n",
       "</table>\n",
       "</div>"
      ],
      "text/plain": [
       "  catnum     div2_label        page_nu\n",
       "0   1799  Miscellanies.  EPF108491002v\n",
       "1   1800  Miscellanies.  EPF108491002v\n",
       "2   1801  Miscellanies.  EPF108491002v\n",
       "3   1802  Miscellanies.  EPF108491002v\n",
       "4   1803  Miscellanies.  EPF108491002v"
      ]
     },
     "execution_count": 16,
     "metadata": {},
     "output_type": "execute_result"
    }
   ],
   "source": [
    "df.head()"
   ]
  },
  {
   "cell_type": "code",
   "execution_count": 17,
   "metadata": {},
   "outputs": [
    {
     "data": {
      "text/html": [
       "<div>\n",
       "<style scoped>\n",
       "    .dataframe tbody tr th:only-of-type {\n",
       "        vertical-align: middle;\n",
       "    }\n",
       "\n",
       "    .dataframe tbody tr th {\n",
       "        vertical-align: top;\n",
       "    }\n",
       "\n",
       "    .dataframe thead th {\n",
       "        text-align: right;\n",
       "    }\n",
       "</style>\n",
       "<table border=\"1\" class=\"dataframe\">\n",
       "  <thead>\n",
       "    <tr style=\"text-align: right;\">\n",
       "      <th></th>\n",
       "      <th>catnum</th>\n",
       "      <th>div2_label</th>\n",
       "      <th>page_nu</th>\n",
       "    </tr>\n",
       "  </thead>\n",
       "  <tbody>\n",
       "  </tbody>\n",
       "</table>\n",
       "</div>"
      ],
      "text/plain": [
       "Empty DataFrame\n",
       "Columns: [catnum, div2_label, page_nu]\n",
       "Index: []"
      ]
     },
     "execution_count": 17,
     "metadata": {},
     "output_type": "execute_result"
    }
   ],
   "source": [
    "\n",
    "# is catnum empty?\n",
    "df[df.catnum == None]\n",
    "df[df.catnum.isnull()]\n",
    "df[df.catnum == '']"
   ]
  },
  {
   "cell_type": "code",
   "execution_count": 18,
   "metadata": {},
   "outputs": [
    {
     "data": {
      "text/html": [
       "<div>\n",
       "<style scoped>\n",
       "    .dataframe tbody tr th:only-of-type {\n",
       "        vertical-align: middle;\n",
       "    }\n",
       "\n",
       "    .dataframe tbody tr th {\n",
       "        vertical-align: top;\n",
       "    }\n",
       "\n",
       "    .dataframe thead th {\n",
       "        text-align: right;\n",
       "    }\n",
       "</style>\n",
       "<table border=\"1\" class=\"dataframe\">\n",
       "  <thead>\n",
       "    <tr style=\"text-align: right;\">\n",
       "      <th></th>\n",
       "      <th>catnum</th>\n",
       "      <th>div2_label</th>\n",
       "      <th>page_nu</th>\n",
       "    </tr>\n",
       "  </thead>\n",
       "  <tbody>\n",
       "  </tbody>\n",
       "</table>\n",
       "</div>"
      ],
      "text/plain": [
       "Empty DataFrame\n",
       "Columns: [catnum, div2_label, page_nu]\n",
       "Index: []"
      ]
     },
     "execution_count": 18,
     "metadata": {},
     "output_type": "execute_result"
    }
   ],
   "source": [
    "df[df.div2_label.isnull()]"
   ]
  },
  {
   "cell_type": "code",
   "execution_count": 19,
   "metadata": {},
   "outputs": [
    {
     "data": {
      "text/html": [
       "<div>\n",
       "<style scoped>\n",
       "    .dataframe tbody tr th:only-of-type {\n",
       "        vertical-align: middle;\n",
       "    }\n",
       "\n",
       "    .dataframe tbody tr th {\n",
       "        vertical-align: top;\n",
       "    }\n",
       "\n",
       "    .dataframe thead th {\n",
       "        text-align: right;\n",
       "    }\n",
       "</style>\n",
       "<table border=\"1\" class=\"dataframe\">\n",
       "  <thead>\n",
       "    <tr style=\"text-align: right;\">\n",
       "      <th></th>\n",
       "      <th>catnum</th>\n",
       "      <th>div2_label</th>\n",
       "      <th>page_nu</th>\n",
       "    </tr>\n",
       "  </thead>\n",
       "  <tbody>\n",
       "  </tbody>\n",
       "</table>\n",
       "</div>"
      ],
      "text/plain": [
       "Empty DataFrame\n",
       "Columns: [catnum, div2_label, page_nu]\n",
       "Index: []"
      ]
     },
     "execution_count": 19,
     "metadata": {},
     "output_type": "execute_result"
    }
   ],
   "source": [
    "df[df.div2_label == '']"
   ]
  },
  {
   "cell_type": "code",
   "execution_count": 20,
   "metadata": {},
   "outputs": [
    {
     "data": {
      "text/html": [
       "<div>\n",
       "<style scoped>\n",
       "    .dataframe tbody tr th:only-of-type {\n",
       "        vertical-align: middle;\n",
       "    }\n",
       "\n",
       "    .dataframe tbody tr th {\n",
       "        vertical-align: top;\n",
       "    }\n",
       "\n",
       "    .dataframe thead th {\n",
       "        text-align: right;\n",
       "    }\n",
       "</style>\n",
       "<table border=\"1\" class=\"dataframe\">\n",
       "  <thead>\n",
       "    <tr style=\"text-align: right;\">\n",
       "      <th></th>\n",
       "      <th>catnum</th>\n",
       "      <th>div2_label</th>\n",
       "      <th>page_nu</th>\n",
       "    </tr>\n",
       "  </thead>\n",
       "  <tbody>\n",
       "    <tr>\n",
       "      <th>3910</th>\n",
       "      <td>316</td>\n",
       "      <td>Pictures &amp;c.</td>\n",
       "      <td>EPF108491264</td>\n",
       "    </tr>\n",
       "    <tr>\n",
       "      <th>3866</th>\n",
       "      <td>272</td>\n",
       "      <td>Pictures &amp;c.</td>\n",
       "      <td>EPF108491261</td>\n",
       "    </tr>\n",
       "    <tr>\n",
       "      <th>3876</th>\n",
       "      <td>282</td>\n",
       "      <td>Pictures &amp;c.</td>\n",
       "      <td>EPF108491262</td>\n",
       "    </tr>\n",
       "    <tr>\n",
       "      <th>3875</th>\n",
       "      <td>281</td>\n",
       "      <td>Pictures &amp;c.</td>\n",
       "      <td>EPF108491262</td>\n",
       "    </tr>\n",
       "    <tr>\n",
       "      <th>3874</th>\n",
       "      <td>280</td>\n",
       "      <td>Pictures &amp;c.</td>\n",
       "      <td>EPF108491262</td>\n",
       "    </tr>\n",
       "    <tr>\n",
       "      <th>...</th>\n",
       "      <td>...</td>\n",
       "      <td>...</td>\n",
       "      <td>...</td>\n",
       "    </tr>\n",
       "    <tr>\n",
       "      <th>4409</th>\n",
       "      <td>105</td>\n",
       "      <td>Agate cups botles spoons &amp;c.</td>\n",
       "      <td>EPF108491314</td>\n",
       "    </tr>\n",
       "    <tr>\n",
       "      <th>4408</th>\n",
       "      <td>104</td>\n",
       "      <td>Agate cups botles spoons &amp;c.</td>\n",
       "      <td>EPF108491314</td>\n",
       "    </tr>\n",
       "    <tr>\n",
       "      <th>4407</th>\n",
       "      <td>103</td>\n",
       "      <td>Agate cups botles spoons &amp;c.</td>\n",
       "      <td>EPF108491314</td>\n",
       "    </tr>\n",
       "    <tr>\n",
       "      <th>4406</th>\n",
       "      <td>102</td>\n",
       "      <td>Agate cups botles spoons &amp;c.</td>\n",
       "      <td>EPF108491314</td>\n",
       "    </tr>\n",
       "    <tr>\n",
       "      <th>4412</th>\n",
       "      <td>108</td>\n",
       "      <td>Agate cups botles spoons &amp;c.</td>\n",
       "      <td>EPF108491315</td>\n",
       "    </tr>\n",
       "  </tbody>\n",
       "</table>\n",
       "<p>4629 rows × 3 columns</p>\n",
       "</div>"
      ],
      "text/plain": [
       "     catnum                    div2_label       page_nu\n",
       "3910    316                  Pictures &c.  EPF108491264\n",
       "3866    272                  Pictures &c.  EPF108491261\n",
       "3876    282                  Pictures &c.  EPF108491262\n",
       "3875    281                  Pictures &c.  EPF108491262\n",
       "3874    280                  Pictures &c.  EPF108491262\n",
       "...     ...                           ...           ...\n",
       "4409    105  Agate cups botles spoons &c.  EPF108491314\n",
       "4408    104  Agate cups botles spoons &c.  EPF108491314\n",
       "4407    103  Agate cups botles spoons &c.  EPF108491314\n",
       "4406    102  Agate cups botles spoons &c.  EPF108491314\n",
       "4412    108  Agate cups botles spoons &c.  EPF108491315\n",
       "\n",
       "[4629 rows x 3 columns]"
      ]
     },
     "execution_count": 20,
     "metadata": {},
     "output_type": "execute_result"
    }
   ],
   "source": [
    "df.sort_values('div2_label', ascending=False)"
   ]
  },
  {
   "cell_type": "code",
   "execution_count": 36,
   "metadata": {},
   "outputs": [
    {
     "data": {
      "text/plain": [
       "4629"
      ]
     },
     "execution_count": 36,
     "metadata": {},
     "output_type": "execute_result"
    }
   ],
   "source": [
    "#total number of catnum = 4608\n",
    "len(df)"
   ]
  },
  {
   "cell_type": "code",
   "execution_count": null,
   "metadata": {},
   "outputs": [],
   "source": []
  },
  {
   "cell_type": "code",
   "execution_count": 22,
   "metadata": {},
   "outputs": [
    {
     "data": {
      "text/plain": [
       "7"
      ]
     },
     "execution_count": 22,
     "metadata": {},
     "output_type": "execute_result"
    }
   ],
   "source": [
    "len(df.div2_label.unique())"
   ]
  },
  {
   "cell_type": "code",
   "execution_count": 37,
   "metadata": {},
   "outputs": [
    {
     "data": {
      "text/plain": [
       "array(['Miscellanies.', 'Antiquities.', 'Impressions of Seals &c.',\n",
       "       'Pictures &c.', 'Mathematicall instruments &c',\n",
       "       'Agate handles &c.', 'Agate cups botles spoons &c.'], dtype=object)"
      ]
     },
     "execution_count": 37,
     "metadata": {},
     "output_type": "execute_result"
    }
   ],
   "source": [
    "df.div2_label.unique()"
   ]
  },
  {
   "cell_type": "code",
   "execution_count": 38,
   "metadata": {},
   "outputs": [
    {
     "data": {
      "text/plain": [
       "382"
      ]
     },
     "execution_count": 38,
     "metadata": {},
     "output_type": "execute_result"
    }
   ],
   "source": [
    "#unique number of pages = 369 including Index. Without 382\n",
    "\n",
    "len(df.page_nu.unique())"
   ]
  },
  {
   "cell_type": "code",
   "execution_count": 39,
   "metadata": {},
   "outputs": [],
   "source": [
    "\n",
    "misc = df[df.div2_label == 'Miscellanies.']"
   ]
  },
  {
   "cell_type": "code",
   "execution_count": 40,
   "metadata": {},
   "outputs": [
    {
     "data": {
      "text/plain": [
       "2181"
      ]
     },
     "execution_count": 40,
     "metadata": {},
     "output_type": "execute_result"
    }
   ],
   "source": [
    "len(misc.catnum)"
   ]
  },
  {
   "cell_type": "code",
   "execution_count": 41,
   "metadata": {},
   "outputs": [
    {
     "data": {
      "text/plain": [
       "2148"
      ]
     },
     "execution_count": 41,
     "metadata": {},
     "output_type": "execute_result"
    }
   ],
   "source": [
    "len(misc.catnum.unique())"
   ]
  },
  {
   "cell_type": "code",
   "execution_count": 42,
   "metadata": {},
   "outputs": [
    {
     "data": {
      "text/html": [
       "<div>\n",
       "<style scoped>\n",
       "    .dataframe tbody tr th:only-of-type {\n",
       "        vertical-align: middle;\n",
       "    }\n",
       "\n",
       "    .dataframe tbody tr th {\n",
       "        vertical-align: top;\n",
       "    }\n",
       "\n",
       "    .dataframe thead th {\n",
       "        text-align: right;\n",
       "    }\n",
       "</style>\n",
       "<table border=\"1\" class=\"dataframe\">\n",
       "  <thead>\n",
       "    <tr style=\"text-align: right;\">\n",
       "      <th></th>\n",
       "      <th>catnum</th>\n",
       "      <th>div2_label</th>\n",
       "      <th>page_nu</th>\n",
       "    </tr>\n",
       "  </thead>\n",
       "  <tbody>\n",
       "    <tr>\n",
       "      <th>1382</th>\n",
       "      <td>1025</td>\n",
       "      <td>Miscellanies.</td>\n",
       "      <td>EPF108491107v</td>\n",
       "    </tr>\n",
       "    <tr>\n",
       "      <th>1385</th>\n",
       "      <td>1025</td>\n",
       "      <td>Miscellanies.</td>\n",
       "      <td>EPF108491108</td>\n",
       "    </tr>\n",
       "    <tr>\n",
       "      <th>1434</th>\n",
       "      <td>1073</td>\n",
       "      <td>Miscellanies.</td>\n",
       "      <td>EPF108491111v</td>\n",
       "    </tr>\n",
       "    <tr>\n",
       "      <th>1433</th>\n",
       "      <td>1073</td>\n",
       "      <td>Miscellanies.</td>\n",
       "      <td>EPF108491111</td>\n",
       "    </tr>\n",
       "    <tr>\n",
       "      <th>1818</th>\n",
       "      <td>1455</td>\n",
       "      <td>Miscellanies.</td>\n",
       "      <td>EPF108491133</td>\n",
       "    </tr>\n",
       "    <tr>\n",
       "      <th>1805</th>\n",
       "      <td>1455</td>\n",
       "      <td>Miscellanies.</td>\n",
       "      <td>EPF108491132v</td>\n",
       "    </tr>\n",
       "    <tr>\n",
       "      <th>1856</th>\n",
       "      <td>1492</td>\n",
       "      <td>Miscellanies.</td>\n",
       "      <td>EPF108491135</td>\n",
       "    </tr>\n",
       "    <tr>\n",
       "      <th>1855</th>\n",
       "      <td>1492</td>\n",
       "      <td>Miscellanies.</td>\n",
       "      <td>EPF108491135</td>\n",
       "    </tr>\n",
       "    <tr>\n",
       "      <th>1921</th>\n",
       "      <td>1556</td>\n",
       "      <td>Miscellanies.</td>\n",
       "      <td>EPF108491138</td>\n",
       "    </tr>\n",
       "    <tr>\n",
       "      <th>1920</th>\n",
       "      <td>1556</td>\n",
       "      <td>Miscellanies.</td>\n",
       "      <td>EPF108491138</td>\n",
       "    </tr>\n",
       "    <tr>\n",
       "      <th>2159</th>\n",
       "      <td>1799</td>\n",
       "      <td>Miscellanies.</td>\n",
       "      <td>EPF108491152</td>\n",
       "    </tr>\n",
       "    <tr>\n",
       "      <th>0</th>\n",
       "      <td>1799</td>\n",
       "      <td>Miscellanies.</td>\n",
       "      <td>EPF108491002v</td>\n",
       "    </tr>\n",
       "    <tr>\n",
       "      <th>239</th>\n",
       "      <td>2</td>\n",
       "      <td>Miscellanies.</td>\n",
       "      <td>EPF108491009v</td>\n",
       "    </tr>\n",
       "    <tr>\n",
       "      <th>22</th>\n",
       "      <td>2</td>\n",
       "      <td>Miscellanies.</td>\n",
       "      <td>EPF108491003</td>\n",
       "    </tr>\n",
       "    <tr>\n",
       "      <th>501</th>\n",
       "      <td>2046</td>\n",
       "      <td>Miscellanies.</td>\n",
       "      <td>EPF108491018v</td>\n",
       "    </tr>\n",
       "    <tr>\n",
       "      <th>512</th>\n",
       "      <td>2046</td>\n",
       "      <td>Miscellanies.</td>\n",
       "      <td>EPF108491019v</td>\n",
       "    </tr>\n",
       "    <tr>\n",
       "      <th>542</th>\n",
       "      <td>2064</td>\n",
       "      <td>Miscellanies.</td>\n",
       "      <td>EPF108491020v</td>\n",
       "    </tr>\n",
       "    <tr>\n",
       "      <th>555</th>\n",
       "      <td>2064</td>\n",
       "      <td>Miscellanies.</td>\n",
       "      <td>EPF108491021v</td>\n",
       "    </tr>\n",
       "    <tr>\n",
       "      <th>559</th>\n",
       "      <td>2068</td>\n",
       "      <td>Miscellanies.</td>\n",
       "      <td>EPF108491021v</td>\n",
       "    </tr>\n",
       "    <tr>\n",
       "      <th>572</th>\n",
       "      <td>2068</td>\n",
       "      <td>Miscellanies.</td>\n",
       "      <td>EPF108491022v</td>\n",
       "    </tr>\n",
       "    <tr>\n",
       "      <th>23</th>\n",
       "      <td>3</td>\n",
       "      <td>Miscellanies.</td>\n",
       "      <td>EPF108491003</td>\n",
       "    </tr>\n",
       "    <tr>\n",
       "      <th>240</th>\n",
       "      <td>3</td>\n",
       "      <td>Miscellanies.</td>\n",
       "      <td>EPF108491009v</td>\n",
       "    </tr>\n",
       "    <tr>\n",
       "      <th>739</th>\n",
       "      <td>396</td>\n",
       "      <td>Miscellanies.</td>\n",
       "      <td>EPF108491034</td>\n",
       "    </tr>\n",
       "    <tr>\n",
       "      <th>1095</th>\n",
       "      <td>396</td>\n",
       "      <td>Miscellanies.</td>\n",
       "      <td>EPF108491079</td>\n",
       "    </tr>\n",
       "    <tr>\n",
       "      <th>24</th>\n",
       "      <td>4</td>\n",
       "      <td>Miscellanies.</td>\n",
       "      <td>EPF108491003</td>\n",
       "    </tr>\n",
       "    <tr>\n",
       "      <th>241</th>\n",
       "      <td>4</td>\n",
       "      <td>Miscellanies.</td>\n",
       "      <td>EPF108491009v</td>\n",
       "    </tr>\n",
       "    <tr>\n",
       "      <th>886</th>\n",
       "      <td>542</td>\n",
       "      <td>Miscellanies.</td>\n",
       "      <td>EPF108491050</td>\n",
       "    </tr>\n",
       "    <tr>\n",
       "      <th>887</th>\n",
       "      <td>542</td>\n",
       "      <td>Miscellanies.</td>\n",
       "      <td>EPF108491051</td>\n",
       "    </tr>\n",
       "    <tr>\n",
       "      <th>242</th>\n",
       "      <td>6</td>\n",
       "      <td>Miscellanies.</td>\n",
       "      <td>EPF108491009v</td>\n",
       "    </tr>\n",
       "    <tr>\n",
       "      <th>26</th>\n",
       "      <td>6</td>\n",
       "      <td>Miscellanies.</td>\n",
       "      <td>EPF108491003</td>\n",
       "    </tr>\n",
       "    <tr>\n",
       "      <th>1267</th>\n",
       "      <td>909</td>\n",
       "      <td>Miscellanies.</td>\n",
       "      <td>EPF108491099</td>\n",
       "    </tr>\n",
       "    <tr>\n",
       "      <th>1255</th>\n",
       "      <td>909</td>\n",
       "      <td>Miscellanies.</td>\n",
       "      <td>EPF108491098</td>\n",
       "    </tr>\n",
       "    <tr>\n",
       "      <th>1268</th>\n",
       "      <td>910</td>\n",
       "      <td>Miscellanies.</td>\n",
       "      <td>EPF108491099</td>\n",
       "    </tr>\n",
       "    <tr>\n",
       "      <th>1256</th>\n",
       "      <td>910</td>\n",
       "      <td>Miscellanies.</td>\n",
       "      <td>EPF108491098</td>\n",
       "    </tr>\n",
       "    <tr>\n",
       "      <th>1274</th>\n",
       "      <td>916*</td>\n",
       "      <td>Miscellanies.</td>\n",
       "      <td>EPF108491099</td>\n",
       "    </tr>\n",
       "    <tr>\n",
       "      <th>1275</th>\n",
       "      <td>916*</td>\n",
       "      <td>Miscellanies.</td>\n",
       "      <td>EPF108491099</td>\n",
       "    </tr>\n",
       "    <tr>\n",
       "      <th>4620</th>\n",
       "      <td>no catnum</td>\n",
       "      <td>Miscellanies.</td>\n",
       "      <td>EPF108491135v</td>\n",
       "    </tr>\n",
       "    <tr>\n",
       "      <th>4621</th>\n",
       "      <td>no catnum</td>\n",
       "      <td>Miscellanies.</td>\n",
       "      <td>EPF108491135v</td>\n",
       "    </tr>\n",
       "    <tr>\n",
       "      <th>4619</th>\n",
       "      <td>no catnum</td>\n",
       "      <td>Miscellanies.</td>\n",
       "      <td>EPF108491131v</td>\n",
       "    </tr>\n",
       "    <tr>\n",
       "      <th>4618</th>\n",
       "      <td>no catnum</td>\n",
       "      <td>Miscellanies.</td>\n",
       "      <td>EPF108491127v</td>\n",
       "    </tr>\n",
       "    <tr>\n",
       "      <th>4617</th>\n",
       "      <td>no catnum</td>\n",
       "      <td>Miscellanies.</td>\n",
       "      <td>EPF108491124v</td>\n",
       "    </tr>\n",
       "    <tr>\n",
       "      <th>4616</th>\n",
       "      <td>no catnum</td>\n",
       "      <td>Miscellanies.</td>\n",
       "      <td>EPF108491115v</td>\n",
       "    </tr>\n",
       "    <tr>\n",
       "      <th>4615</th>\n",
       "      <td>no catnum</td>\n",
       "      <td>Miscellanies.</td>\n",
       "      <td>EPF108491110v</td>\n",
       "    </tr>\n",
       "    <tr>\n",
       "      <th>4609</th>\n",
       "      <td>no catnum</td>\n",
       "      <td>Miscellanies.</td>\n",
       "      <td>EPF108491018v</td>\n",
       "    </tr>\n",
       "    <tr>\n",
       "      <th>4613</th>\n",
       "      <td>no catnum</td>\n",
       "      <td>Miscellanies.</td>\n",
       "      <td>EPF108491092v</td>\n",
       "    </tr>\n",
       "    <tr>\n",
       "      <th>4612</th>\n",
       "      <td>no catnum</td>\n",
       "      <td>Miscellanies.</td>\n",
       "      <td>EPF108491071v</td>\n",
       "    </tr>\n",
       "    <tr>\n",
       "      <th>4611</th>\n",
       "      <td>no catnum</td>\n",
       "      <td>Miscellanies.</td>\n",
       "      <td>EPF108491066v</td>\n",
       "    </tr>\n",
       "    <tr>\n",
       "      <th>4610</th>\n",
       "      <td>no catnum</td>\n",
       "      <td>Miscellanies.</td>\n",
       "      <td>EPF108491035v</td>\n",
       "    </tr>\n",
       "    <tr>\n",
       "      <th>4608</th>\n",
       "      <td>no catnum</td>\n",
       "      <td>Miscellanies.</td>\n",
       "      <td>EPF108491005av</td>\n",
       "    </tr>\n",
       "    <tr>\n",
       "      <th>4622</th>\n",
       "      <td>no catnum</td>\n",
       "      <td>Miscellanies.</td>\n",
       "      <td>EPF108491135v</td>\n",
       "    </tr>\n",
       "    <tr>\n",
       "      <th>4614</th>\n",
       "      <td>no catnum</td>\n",
       "      <td>Miscellanies.</td>\n",
       "      <td>EPF108491099v</td>\n",
       "    </tr>\n",
       "    <tr>\n",
       "      <th>4623</th>\n",
       "      <td>no catnum</td>\n",
       "      <td>Miscellanies.</td>\n",
       "      <td>EPF108491143v</td>\n",
       "    </tr>\n",
       "  </tbody>\n",
       "</table>\n",
       "</div>"
      ],
      "text/plain": [
       "         catnum     div2_label         page_nu\n",
       "1382       1025  Miscellanies.   EPF108491107v\n",
       "1385       1025  Miscellanies.    EPF108491108\n",
       "1434       1073  Miscellanies.   EPF108491111v\n",
       "1433       1073  Miscellanies.    EPF108491111\n",
       "1818       1455  Miscellanies.    EPF108491133\n",
       "1805       1455  Miscellanies.   EPF108491132v\n",
       "1856       1492  Miscellanies.    EPF108491135\n",
       "1855       1492  Miscellanies.    EPF108491135\n",
       "1921       1556  Miscellanies.    EPF108491138\n",
       "1920       1556  Miscellanies.    EPF108491138\n",
       "2159       1799  Miscellanies.    EPF108491152\n",
       "0          1799  Miscellanies.   EPF108491002v\n",
       "239           2  Miscellanies.   EPF108491009v\n",
       "22            2  Miscellanies.    EPF108491003\n",
       "501        2046  Miscellanies.   EPF108491018v\n",
       "512        2046  Miscellanies.   EPF108491019v\n",
       "542        2064  Miscellanies.   EPF108491020v\n",
       "555        2064  Miscellanies.   EPF108491021v\n",
       "559        2068  Miscellanies.   EPF108491021v\n",
       "572        2068  Miscellanies.   EPF108491022v\n",
       "23            3  Miscellanies.    EPF108491003\n",
       "240           3  Miscellanies.   EPF108491009v\n",
       "739         396  Miscellanies.    EPF108491034\n",
       "1095        396  Miscellanies.    EPF108491079\n",
       "24            4  Miscellanies.    EPF108491003\n",
       "241           4  Miscellanies.   EPF108491009v\n",
       "886         542  Miscellanies.    EPF108491050\n",
       "887         542  Miscellanies.    EPF108491051\n",
       "242           6  Miscellanies.   EPF108491009v\n",
       "26            6  Miscellanies.    EPF108491003\n",
       "1267        909  Miscellanies.    EPF108491099\n",
       "1255        909  Miscellanies.    EPF108491098\n",
       "1268        910  Miscellanies.    EPF108491099\n",
       "1256        910  Miscellanies.    EPF108491098\n",
       "1274       916*  Miscellanies.    EPF108491099\n",
       "1275       916*  Miscellanies.    EPF108491099\n",
       "4620  no catnum  Miscellanies.   EPF108491135v\n",
       "4621  no catnum  Miscellanies.   EPF108491135v\n",
       "4619  no catnum  Miscellanies.   EPF108491131v\n",
       "4618  no catnum  Miscellanies.   EPF108491127v\n",
       "4617  no catnum  Miscellanies.   EPF108491124v\n",
       "4616  no catnum  Miscellanies.   EPF108491115v\n",
       "4615  no catnum  Miscellanies.   EPF108491110v\n",
       "4609  no catnum  Miscellanies.   EPF108491018v\n",
       "4613  no catnum  Miscellanies.   EPF108491092v\n",
       "4612  no catnum  Miscellanies.   EPF108491071v\n",
       "4611  no catnum  Miscellanies.   EPF108491066v\n",
       "4610  no catnum  Miscellanies.   EPF108491035v\n",
       "4608  no catnum  Miscellanies.  EPF108491005av\n",
       "4622  no catnum  Miscellanies.   EPF108491135v\n",
       "4614  no catnum  Miscellanies.   EPF108491099v\n",
       "4623  no catnum  Miscellanies.   EPF108491143v"
      ]
     },
     "execution_count": 42,
     "metadata": {},
     "output_type": "execute_result"
    }
   ],
   "source": [
    "misc[misc.catnum.duplicated(keep=False)].sort_values('catnum')"
   ]
  },
  {
   "cell_type": "code",
   "execution_count": 43,
   "metadata": {},
   "outputs": [],
   "source": [
    "misc[misc.catnum.duplicated(keep=False)].sort_values('catnum').to_csv(\"dupicate_catnum_each_div2.csv\")"
   ]
  },
  {
   "cell_type": "code",
   "execution_count": 44,
   "metadata": {},
   "outputs": [],
   "source": [
    "antq = df[df.div2_label == 'Antiquities.']"
   ]
  },
  {
   "cell_type": "code",
   "execution_count": 45,
   "metadata": {},
   "outputs": [
    {
     "data": {
      "text/plain": [
       "1175"
      ]
     },
     "execution_count": 45,
     "metadata": {},
     "output_type": "execute_result"
    }
   ],
   "source": [
    "len(antq.catnum)"
   ]
  },
  {
   "cell_type": "code",
   "execution_count": 46,
   "metadata": {},
   "outputs": [
    {
     "data": {
      "text/plain": [
       "1153"
      ]
     },
     "execution_count": 46,
     "metadata": {},
     "output_type": "execute_result"
    }
   ],
   "source": [
    "len(antq.catnum.unique())"
   ]
  },
  {
   "cell_type": "code",
   "execution_count": 47,
   "metadata": {},
   "outputs": [
    {
     "data": {
      "text/html": [
       "<div>\n",
       "<style scoped>\n",
       "    .dataframe tbody tr th:only-of-type {\n",
       "        vertical-align: middle;\n",
       "    }\n",
       "\n",
       "    .dataframe tbody tr th {\n",
       "        vertical-align: top;\n",
       "    }\n",
       "\n",
       "    .dataframe thead th {\n",
       "        text-align: right;\n",
       "    }\n",
       "</style>\n",
       "<table border=\"1\" class=\"dataframe\">\n",
       "  <thead>\n",
       "    <tr style=\"text-align: right;\">\n",
       "      <th></th>\n",
       "      <th>catnum</th>\n",
       "      <th>div2_label</th>\n",
       "      <th>page_nu</th>\n",
       "    </tr>\n",
       "  </thead>\n",
       "  <tbody>\n",
       "    <tr>\n",
       "      <th>2673</th>\n",
       "      <td>1048</td>\n",
       "      <td>Antiquities.</td>\n",
       "      <td>EPF108491170v</td>\n",
       "    </tr>\n",
       "    <tr>\n",
       "      <th>2674</th>\n",
       "      <td>1048</td>\n",
       "      <td>Antiquities.</td>\n",
       "      <td>EPF108491170v</td>\n",
       "    </tr>\n",
       "    <tr>\n",
       "      <th>2875</th>\n",
       "      <td>252</td>\n",
       "      <td>Antiquities.</td>\n",
       "      <td>EPF108491180a</td>\n",
       "    </tr>\n",
       "    <tr>\n",
       "      <th>2849</th>\n",
       "      <td>252</td>\n",
       "      <td>Antiquities.</td>\n",
       "      <td>EPF108491178</td>\n",
       "    </tr>\n",
       "    <tr>\n",
       "      <th>2850</th>\n",
       "      <td>253</td>\n",
       "      <td>Antiquities.</td>\n",
       "      <td>EPF108491179</td>\n",
       "    </tr>\n",
       "    <tr>\n",
       "      <th>2876</th>\n",
       "      <td>253</td>\n",
       "      <td>Antiquities.</td>\n",
       "      <td>EPF108491180a</td>\n",
       "    </tr>\n",
       "    <tr>\n",
       "      <th>2851</th>\n",
       "      <td>254</td>\n",
       "      <td>Antiquities.</td>\n",
       "      <td>EPF108491179</td>\n",
       "    </tr>\n",
       "    <tr>\n",
       "      <th>2877</th>\n",
       "      <td>254</td>\n",
       "      <td>Antiquities.</td>\n",
       "      <td>EPF108491180a</td>\n",
       "    </tr>\n",
       "    <tr>\n",
       "      <th>2878</th>\n",
       "      <td>255</td>\n",
       "      <td>Antiquities.</td>\n",
       "      <td>EPF108491180a</td>\n",
       "    </tr>\n",
       "    <tr>\n",
       "      <th>2852</th>\n",
       "      <td>255</td>\n",
       "      <td>Antiquities.</td>\n",
       "      <td>EPF108491179</td>\n",
       "    </tr>\n",
       "    <tr>\n",
       "      <th>2879</th>\n",
       "      <td>256</td>\n",
       "      <td>Antiquities.</td>\n",
       "      <td>EPF108491180a</td>\n",
       "    </tr>\n",
       "    <tr>\n",
       "      <th>2853</th>\n",
       "      <td>256</td>\n",
       "      <td>Antiquities.</td>\n",
       "      <td>EPF108491179</td>\n",
       "    </tr>\n",
       "    <tr>\n",
       "      <th>2880</th>\n",
       "      <td>257</td>\n",
       "      <td>Antiquities.</td>\n",
       "      <td>EPF108491180a</td>\n",
       "    </tr>\n",
       "    <tr>\n",
       "      <th>2854</th>\n",
       "      <td>257</td>\n",
       "      <td>Antiquities.</td>\n",
       "      <td>EPF108491179</td>\n",
       "    </tr>\n",
       "    <tr>\n",
       "      <th>2881</th>\n",
       "      <td>258</td>\n",
       "      <td>Antiquities.</td>\n",
       "      <td>EPF108491180a</td>\n",
       "    </tr>\n",
       "    <tr>\n",
       "      <th>2855</th>\n",
       "      <td>258</td>\n",
       "      <td>Antiquities.</td>\n",
       "      <td>EPF108491179</td>\n",
       "    </tr>\n",
       "    <tr>\n",
       "      <th>2882</th>\n",
       "      <td>259</td>\n",
       "      <td>Antiquities.</td>\n",
       "      <td>EPF108491180a</td>\n",
       "    </tr>\n",
       "    <tr>\n",
       "      <th>2856</th>\n",
       "      <td>259</td>\n",
       "      <td>Antiquities.</td>\n",
       "      <td>EPF108491179</td>\n",
       "    </tr>\n",
       "    <tr>\n",
       "      <th>2857</th>\n",
       "      <td>260</td>\n",
       "      <td>Antiquities.</td>\n",
       "      <td>EPF108491179</td>\n",
       "    </tr>\n",
       "    <tr>\n",
       "      <th>2883</th>\n",
       "      <td>260</td>\n",
       "      <td>Antiquities.</td>\n",
       "      <td>EPF108491180a</td>\n",
       "    </tr>\n",
       "    <tr>\n",
       "      <th>2858</th>\n",
       "      <td>261</td>\n",
       "      <td>Antiquities.</td>\n",
       "      <td>EPF108491179</td>\n",
       "    </tr>\n",
       "    <tr>\n",
       "      <th>2884</th>\n",
       "      <td>261</td>\n",
       "      <td>Antiquities.</td>\n",
       "      <td>EPF108491180a</td>\n",
       "    </tr>\n",
       "    <tr>\n",
       "      <th>2859</th>\n",
       "      <td>262</td>\n",
       "      <td>Antiquities.</td>\n",
       "      <td>EPF108491179</td>\n",
       "    </tr>\n",
       "    <tr>\n",
       "      <th>2885</th>\n",
       "      <td>262</td>\n",
       "      <td>Antiquities.</td>\n",
       "      <td>EPF108491180a</td>\n",
       "    </tr>\n",
       "    <tr>\n",
       "      <th>2860</th>\n",
       "      <td>263</td>\n",
       "      <td>Antiquities.</td>\n",
       "      <td>EPF108491179</td>\n",
       "    </tr>\n",
       "    <tr>\n",
       "      <th>2886</th>\n",
       "      <td>263</td>\n",
       "      <td>Antiquities.</td>\n",
       "      <td>EPF108491180a</td>\n",
       "    </tr>\n",
       "    <tr>\n",
       "      <th>2920</th>\n",
       "      <td>288</td>\n",
       "      <td>Antiquities.</td>\n",
       "      <td>EPF108491183</td>\n",
       "    </tr>\n",
       "    <tr>\n",
       "      <th>2921</th>\n",
       "      <td>288</td>\n",
       "      <td>Antiquities.</td>\n",
       "      <td>EPF108491183</td>\n",
       "    </tr>\n",
       "    <tr>\n",
       "      <th>3044</th>\n",
       "      <td>412</td>\n",
       "      <td>Antiquities.</td>\n",
       "      <td>EPF108491188v</td>\n",
       "    </tr>\n",
       "    <tr>\n",
       "      <th>3045</th>\n",
       "      <td>412</td>\n",
       "      <td>Antiquities.</td>\n",
       "      <td>EPF108491189</td>\n",
       "    </tr>\n",
       "    <tr>\n",
       "      <th>3074</th>\n",
       "      <td>441</td>\n",
       "      <td>Antiquities.</td>\n",
       "      <td>EPF108491191v</td>\n",
       "    </tr>\n",
       "    <tr>\n",
       "      <th>3075</th>\n",
       "      <td>441</td>\n",
       "      <td>Antiquities.</td>\n",
       "      <td>EPF108491192</td>\n",
       "    </tr>\n",
       "    <tr>\n",
       "      <th>3325</th>\n",
       "      <td>690</td>\n",
       "      <td>Antiquities.</td>\n",
       "      <td>EPF108491205</td>\n",
       "    </tr>\n",
       "    <tr>\n",
       "      <th>3303</th>\n",
       "      <td>690</td>\n",
       "      <td>Antiquities.</td>\n",
       "      <td>EPF108491204v</td>\n",
       "    </tr>\n",
       "    <tr>\n",
       "      <th>2299</th>\n",
       "      <td>787</td>\n",
       "      <td>Antiquities.</td>\n",
       "      <td>EPF108491157v</td>\n",
       "    </tr>\n",
       "    <tr>\n",
       "      <th>2300</th>\n",
       "      <td>787</td>\n",
       "      <td>Antiquities.</td>\n",
       "      <td>EPF108491157v</td>\n",
       "    </tr>\n",
       "    <tr>\n",
       "      <th>4624</th>\n",
       "      <td>no catnum</td>\n",
       "      <td>Antiquities.</td>\n",
       "      <td>EPF108491158v</td>\n",
       "    </tr>\n",
       "    <tr>\n",
       "      <th>4625</th>\n",
       "      <td>no catnum</td>\n",
       "      <td>Antiquities.</td>\n",
       "      <td>EPF108491191v</td>\n",
       "    </tr>\n",
       "    <tr>\n",
       "      <th>4626</th>\n",
       "      <td>no catnum</td>\n",
       "      <td>Antiquities.</td>\n",
       "      <td>EPF108491191v</td>\n",
       "    </tr>\n",
       "    <tr>\n",
       "      <th>4627</th>\n",
       "      <td>no catnum</td>\n",
       "      <td>Antiquities.</td>\n",
       "      <td>EPF108491191v</td>\n",
       "    </tr>\n",
       "    <tr>\n",
       "      <th>4628</th>\n",
       "      <td>no catnum</td>\n",
       "      <td>Antiquities.</td>\n",
       "      <td>EPF108491191v</td>\n",
       "    </tr>\n",
       "  </tbody>\n",
       "</table>\n",
       "</div>"
      ],
      "text/plain": [
       "         catnum    div2_label        page_nu\n",
       "2673       1048  Antiquities.  EPF108491170v\n",
       "2674       1048  Antiquities.  EPF108491170v\n",
       "2875        252  Antiquities.  EPF108491180a\n",
       "2849        252  Antiquities.   EPF108491178\n",
       "2850        253  Antiquities.   EPF108491179\n",
       "2876        253  Antiquities.  EPF108491180a\n",
       "2851        254  Antiquities.   EPF108491179\n",
       "2877        254  Antiquities.  EPF108491180a\n",
       "2878        255  Antiquities.  EPF108491180a\n",
       "2852        255  Antiquities.   EPF108491179\n",
       "2879        256  Antiquities.  EPF108491180a\n",
       "2853        256  Antiquities.   EPF108491179\n",
       "2880        257  Antiquities.  EPF108491180a\n",
       "2854        257  Antiquities.   EPF108491179\n",
       "2881        258  Antiquities.  EPF108491180a\n",
       "2855        258  Antiquities.   EPF108491179\n",
       "2882        259  Antiquities.  EPF108491180a\n",
       "2856        259  Antiquities.   EPF108491179\n",
       "2857        260  Antiquities.   EPF108491179\n",
       "2883        260  Antiquities.  EPF108491180a\n",
       "2858        261  Antiquities.   EPF108491179\n",
       "2884        261  Antiquities.  EPF108491180a\n",
       "2859        262  Antiquities.   EPF108491179\n",
       "2885        262  Antiquities.  EPF108491180a\n",
       "2860        263  Antiquities.   EPF108491179\n",
       "2886        263  Antiquities.  EPF108491180a\n",
       "2920        288  Antiquities.   EPF108491183\n",
       "2921        288  Antiquities.   EPF108491183\n",
       "3044        412  Antiquities.  EPF108491188v\n",
       "3045        412  Antiquities.   EPF108491189\n",
       "3074        441  Antiquities.  EPF108491191v\n",
       "3075        441  Antiquities.   EPF108491192\n",
       "3325        690  Antiquities.   EPF108491205\n",
       "3303        690  Antiquities.  EPF108491204v\n",
       "2299        787  Antiquities.  EPF108491157v\n",
       "2300        787  Antiquities.  EPF108491157v\n",
       "4624  no catnum  Antiquities.  EPF108491158v\n",
       "4625  no catnum  Antiquities.  EPF108491191v\n",
       "4626  no catnum  Antiquities.  EPF108491191v\n",
       "4627  no catnum  Antiquities.  EPF108491191v\n",
       "4628  no catnum  Antiquities.  EPF108491191v"
      ]
     },
     "execution_count": 47,
     "metadata": {},
     "output_type": "execute_result"
    }
   ],
   "source": [
    "antq[antq.catnum.duplicated(keep=False)].sort_values('catnum')"
   ]
  },
  {
   "cell_type": "code",
   "execution_count": 33,
   "metadata": {},
   "outputs": [],
   "source": [
    "cups = df[df.div2_label == 'Agate cups botles spoons &c.']"
   ]
  },
  {
   "cell_type": "code",
   "execution_count": 34,
   "metadata": {},
   "outputs": [
    {
     "data": {
      "text/plain": [
       "303"
      ]
     },
     "execution_count": 34,
     "metadata": {},
     "output_type": "execute_result"
    }
   ],
   "source": [
    "len(cups.catnum)"
   ]
  },
  {
   "cell_type": "code",
   "execution_count": 35,
   "metadata": {},
   "outputs": [
    {
     "data": {
      "text/plain": [
       "303"
      ]
     },
     "execution_count": 35,
     "metadata": {},
     "output_type": "execute_result"
    }
   ],
   "source": [
    "len(cups.catnum.unique())"
   ]
  },
  {
   "cell_type": "code",
   "execution_count": 49,
   "metadata": {},
   "outputs": [],
   "source": [
    "seals = df[df.div2_label == 'Impressions of Seals &c.']"
   ]
  },
  {
   "cell_type": "code",
   "execution_count": 50,
   "metadata": {},
   "outputs": [
    {
     "data": {
      "text/plain": [
       "260"
      ]
     },
     "execution_count": 50,
     "metadata": {},
     "output_type": "execute_result"
    }
   ],
   "source": [
    "len(seals.catnum)"
   ]
  },
  {
   "cell_type": "code",
   "execution_count": 51,
   "metadata": {},
   "outputs": [
    {
     "data": {
      "text/plain": [
       "260"
      ]
     },
     "execution_count": 51,
     "metadata": {},
     "output_type": "execute_result"
    }
   ],
   "source": [
    "len(seals.catnum.unique())"
   ]
  },
  {
   "cell_type": "code",
   "execution_count": 55,
   "metadata": {},
   "outputs": [],
   "source": [
    "pics = df[df.div2_label == 'Pictures &c.']"
   ]
  },
  {
   "cell_type": "code",
   "execution_count": 56,
   "metadata": {},
   "outputs": [
    {
     "data": {
      "text/plain": [
       "413"
      ]
     },
     "execution_count": 56,
     "metadata": {},
     "output_type": "execute_result"
    }
   ],
   "source": [
    "len(pics.catnum)"
   ]
  },
  {
   "cell_type": "code",
   "execution_count": 57,
   "metadata": {},
   "outputs": [
    {
     "data": {
      "text/plain": [
       "411"
      ]
     },
     "execution_count": 57,
     "metadata": {},
     "output_type": "execute_result"
    }
   ],
   "source": [
    "len(pics.catnum.unique())"
   ]
  },
  {
   "cell_type": "code",
   "execution_count": 58,
   "metadata": {},
   "outputs": [
    {
     "data": {
      "text/html": [
       "<div>\n",
       "<style scoped>\n",
       "    .dataframe tbody tr th:only-of-type {\n",
       "        vertical-align: middle;\n",
       "    }\n",
       "\n",
       "    .dataframe tbody tr th {\n",
       "        vertical-align: top;\n",
       "    }\n",
       "\n",
       "    .dataframe thead th {\n",
       "        text-align: right;\n",
       "    }\n",
       "</style>\n",
       "<table border=\"1\" class=\"dataframe\">\n",
       "  <thead>\n",
       "    <tr style=\"text-align: right;\">\n",
       "      <th></th>\n",
       "      <th>catnum</th>\n",
       "      <th>div2_label</th>\n",
       "      <th>page_nu</th>\n",
       "    </tr>\n",
       "  </thead>\n",
       "  <tbody>\n",
       "    <tr>\n",
       "      <th>3962</th>\n",
       "      <td>368</td>\n",
       "      <td>Pictures &amp;c.</td>\n",
       "      <td>EPF108491267</td>\n",
       "    </tr>\n",
       "    <tr>\n",
       "      <th>3963</th>\n",
       "      <td>368</td>\n",
       "      <td>Pictures &amp;c.</td>\n",
       "      <td>EPF108491268</td>\n",
       "    </tr>\n",
       "    <tr>\n",
       "      <th>3978</th>\n",
       "      <td>382</td>\n",
       "      <td>Pictures &amp;c.</td>\n",
       "      <td>EPF108491268</td>\n",
       "    </tr>\n",
       "    <tr>\n",
       "      <th>3987</th>\n",
       "      <td>382</td>\n",
       "      <td>Pictures &amp;c.</td>\n",
       "      <td>EPF108491269</td>\n",
       "    </tr>\n",
       "  </tbody>\n",
       "</table>\n",
       "</div>"
      ],
      "text/plain": [
       "     catnum    div2_label       page_nu\n",
       "3962    368  Pictures &c.  EPF108491267\n",
       "3963    368  Pictures &c.  EPF108491268\n",
       "3978    382  Pictures &c.  EPF108491268\n",
       "3987    382  Pictures &c.  EPF108491269"
      ]
     },
     "execution_count": 58,
     "metadata": {},
     "output_type": "execute_result"
    }
   ],
   "source": [
    "pics[pics.catnum.duplicated(keep=False)].sort_values('catnum')"
   ]
  },
  {
   "cell_type": "code",
   "execution_count": null,
   "metadata": {},
   "outputs": [],
   "source": [
    "#to get text from div3: .join(div3.itertext()).strip()"
   ]
  },
  {
   "cell_type": "code",
   "execution_count": null,
   "metadata": {},
   "outputs": [],
   "source": []
  }
 ],
 "metadata": {
  "kernelspec": {
   "display_name": "Python 3",
   "language": "python",
   "name": "python3"
  },
  "language_info": {
   "codemirror_mode": {
    "name": "ipython",
    "version": 3
   },
   "file_extension": ".py",
   "mimetype": "text/x-python",
   "name": "python",
   "nbconvert_exporter": "python",
   "pygments_lexer": "ipython3",
   "version": "3.7.1"
  }
 },
 "nbformat": 4,
 "nbformat_minor": 4
}
