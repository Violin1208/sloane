{
 "cells": [
  {
   "cell_type": "code",
   "execution_count": null,
   "metadata": {},
   "outputs": [],
   "source": [
    "#Find all place names <placeName> in <body> that match the list  <listPlace> in the header. Then, fetch the place xml:id and some other useful elements.\n",
    "#From only Sloane catnums\n",
    "#Ignore index"
   ]
  },
  {
   "cell_type": "code",
   "execution_count": null,
   "metadata": {},
   "outputs": [],
   "source": [
    "from lxml import etree\n",
    "import re\n",
    "import csv\n",
    "import pandas as pd"
   ]
  },
  {
   "cell_type": "code",
   "execution_count": null,
   "metadata": {},
   "outputs": [],
   "source": [
    "#to keep all namespaces correctly\n",
    "#import re\n",
    "#import xml.etree.ElementTree as ET\n",
    "\n",
    "#ET.register_namespace('',\"http://www.tei-c.org/ns/1.0\")\n",
    "#ET.register_namespace('ea',\"http://www.enlightenmentarchitectures.org\")\n",
    "#mytree = ET.parse('/Users/deborahleem/Documents/1_PhD/SloaneDBwork19/Miscellanies5Ah_MASTER_fixed_whitespaceDL-KS_050321 (1).xml')\n",
    "\n",
    "path = '/Users/deborahleem/Documents/1_PhD/XMLSloane2021/unicode_modified_misc5_persname_cleaned_up.xml'\n",
    "doc = etree.parse(open(path))\n",
    "mytree = doc.getroot()\n",
    "root = mytree"
   ]
  },
  {
   "cell_type": "code",
   "execution_count": null,
   "metadata": {},
   "outputs": [],
   "source": [
    "def remove_element(el):\n",
    "    parent = el.getparent()\n",
    "    if el.tail:\n",
    "        prev = el.getprevious()\n",
    "        if prev:\n",
    "            prev.tail = (prev.tail or '') + el.tail\n",
    "        else:\n",
    "            parent.text = (parent.text or '') + el.tail\n",
    "    parent.remove(el)\n",
    "\n",
    "# Remove every <add rend=\"del\"> and <add rend=\"pencil\"> from document before the rest of analysis\n",
    "for e in list(root.iterfind('.//{*}add')):\n",
    "    if ('rend' in e.attrib) and (e.attrib['rend'] == 'del' or e.attrib['rend'] == 'pencil'):\n",
    "        #print('removing', etree.tostring(e, pretty_print=True))\n",
    "        if e.text == '-1861' or e.text == '2094.' or e.text == '-382.':\n",
    "            continue\n",
    "        remove_element(e)"
   ]
  },
  {
   "cell_type": "code",
   "execution_count": null,
   "metadata": {},
   "outputs": [],
   "source": [
    "#From only Sloane catnums. So the following need to be excluded\n",
    "\n",
    "part_excluded = {\n",
    "  \"EPF108491027v\": [\"2108\",\"2109\",\"2110\",\"2111\"], # \"Miscellanies\"\n",
    "  \"EPF108491177v\": [\"1\",\"2\"], # \"Antiquities\"    \n",
    "}\n",
    "\n",
    "excluded = {\n",
    "  \"EPF108491178v\": [\"1\",\"2\",\"3\",\"4\"], # \"Antiquities\"\n",
    "  \"EPF108491179v\": [\"4\",\"5\",\"6\",\"7\",\"8\",\"1\"], # \"Antiquities\"\n",
    "  \"EPF108491180v\": [\"2\",\"3\"], # \"Antiquities\"\n",
    "  \"EPF108491181v\": [\"4\",\"5\"], # \"Antiquities\"\n",
    "  \"EPF108491182v\": [\"1\",\"2\",\"3\",\"4\",\"5\"], # \"Antiquities\"\n",
    "  \"EPF108491183v\": [\"6\",\"7\",\"8\",\"9\",\"10\",\"11\",\"12\"], # \"Antiquities\"\n",
    "  \"EPF108491184v\": [\"13\",\"14\",\"1\",\"2\",\"3\",\"4\",\"5\",\"1\"], # \"Antiquities\"\n",
    "  \"EPF108491186v\": [\"1\",\"2\",\"3\",\"4\",\"5\",\"6\",\"7\",\"8\",\"9\",\"10\",\"11\",\"12\",\"13\",\"14\",\"15\",\"16\",\"17\",\"18\",\"19\"], # \"Antiquities\"\n",
    "  \"EPF108491187v\": [\"20\",\"21\",\"22\",\"23\",\"24\",\"25\",\"26\",\"27\",\"28\",\"29\",\"30\",\"31\",\"32\",\"33\",\"34\",\"35\",\"36\",\"37\",\"38\",\"39\"], # \"Antiquities\"\n",
    "  \"EPF108491188v\": [\"40\",\"41\",\"42\",\"43\",\"44\",\"45\",\"46\",\"47\",\"48\",\"1\",\"2\",\"3\",\"4\",\"5\",\"6\",\"7\",\"8\",\"9\"], # \"Antiquities\"\n",
    "  \"EPF108491189v\": [\"10\",\"11\",\"12\",\"1\",\"2\",\"3\",\"4\",\"5\",\"6\"], # \"Antiquities\"\n",
    "  \"EPF108491190v\": [\"7\",\"8\",\"9\",\"10\",\"11\"], # \"Antiquities\"\n",
    "}"
   ]
  },
  {
   "cell_type": "code",
   "execution_count": null,
   "metadata": {},
   "outputs": [],
   "source": [
    "def find_div2_label(element):\n",
    "    while element is not None:\n",
    "        if element.tag == '{http://www.tei-c.org/ns/1.0}div2':\n",
    "            label = element.find('{*}label')\n",
    "            if label is not None:\n",
    "                return ''.join(label.itertext()).strip()\n",
    "            return\n",
    "        element = element.getparent()"
   ]
  },
  {
   "cell_type": "code",
   "execution_count": null,
   "metadata": {},
   "outputs": [],
   "source": [
    "def find_enclosing_div3(element):\n",
    "    while element is not None:\n",
    "        if element.tag == '{http://www.tei-c.org/ns/1.0}div3':\n",
    "            return element\n",
    "        element = element.getparent()\n",
    "    \n",
    "def find_pb_xml_id(element):\n",
    "    element = find_enclosing_div3(element)\n",
    "    while element is not None:\n",
    "        if element.tag == '{http://www.tei-c.org/ns/1.0}pb':\n",
    "            return element.attrib['{http://www.w3.org/XML/1998/namespace}id']\n",
    "        element = element.getprevious()"
   ]
  },
  {
   "cell_type": "code",
   "execution_count": null,
   "metadata": {},
   "outputs": [],
   "source": [
    "def cleanup_catnum(text):\n",
    "    #removing from beginning and end:\n",
    "    # \\s spaces/tabs/newlines\n",
    "    # \\- dashes\n",
    "    # . dots\n",
    "    # ? question marks\n",
    "    # _ underscores\n",
    "    # ✓\n",
    "    text = re.sub(r'^[ ✓\\t\\n.\\-_?]+', \"\", text)\n",
    "    text = re.sub(r'[ ✓\\t\\n.\\-_?]+$', \"\", text)\n",
    "    text = re.sub(r'[ ✓\\t\\n.\\-_?]+\\*', \"*\", text)\n",
    "    text = text.replace('. ', ' ')\n",
    "    return text"
   ]
  },
  {
   "cell_type": "code",
   "execution_count": null,
   "metadata": {},
   "outputs": [],
   "source": [
    "#which placeName goes with which ID\n",
    "\n",
    "#viaf map shows viaf number with the corresponding person name\n",
    "# This has nothing to do with the body text\n",
    "idmap = {}\n",
    "variant_id_map = {}\n",
    "# go through master list place names\n",
    "for x in mytree.findall('.//{http://www.tei-c.org/ns/1.0}listPlace/{http://www.tei-c.org/ns/1.0}place'):\n",
    "    id = x.attrib['{http://www.w3.org/XML/1998/namespace}id']\n",
    "    # do find all on x object for placeName\n",
    "    for name in x.findall('{http://www.tei-c.org/ns/1.0}placeName'):\n",
    "        text = name.text\n",
    "        # create a mapping of name to place_id        \n",
    "        idmap[text.lower()] = '#' + id\n",
    "        variant_id_map.setdefault(text.lower(), []).append(id)\n",
    "        \n",
    "#         idno = x.find(\"{*}idno\")\n",
    "#         # if idno is found add to viafmap\n",
    "#         if idno is not None:\n",
    "#             viafmap[text] = idno.text\n"
   ]
  },
  {
   "cell_type": "code",
   "execution_count": null,
   "metadata": {},
   "outputs": [],
   "source": [
    "idmap"
   ]
  },
  {
   "cell_type": "code",
   "execution_count": null,
   "metadata": {},
   "outputs": [],
   "source": [
    "# find mappings where there are multiple ids linked to a place name\n",
    "{k:v for (k,v) in variant_id_map.items() if len(v) > 1}"
   ]
  },
  {
   "cell_type": "code",
   "execution_count": null,
   "metadata": {},
   "outputs": [],
   "source": [
    "def lookup_place(name, x):\n",
    "    \"\"\"Lookup in our dictionary created from the master list to obtain place name ID\"\"\"\n",
    "    #     Use the value from our dictionary variant_id_map\n",
    "#     if name == 'Jamaica':\n",
    "#         import pdb; pdb.set_trace()\n",
    "    try:\n",
    "        val = str(idmap[name.lower()])\n",
    "#         val = val.replace('[', '').replace(']', '').replace('\"', '').replace(\"'\", '')\n",
    "        print(name)\n",
    "        print('Adding in:' + val)\n",
    "#         return val\n",
    "#         x.set('key', val)\n",
    "        x.set('ref', val)\n",
    "    except:\n",
    "#           print('Issue adding in: ' + name)\n",
    "        print('Issue adding in: ' + name + '\\ncat num: ' + str('') + '\\npage: ' + str('') + '\\n')"
   ]
  },
  {
   "cell_type": "code",
   "execution_count": null,
   "metadata": {},
   "outputs": [],
   "source": [
    "# We must reload the xml root.This is a duplicate of the first cell.\n",
    "# This is because we dont want to remove things like add_rend.\n",
    "# The lookups above are still in memory.\n",
    "path = '/Users/deborahleem/Documents/1_PhD/XMLSloane2021/unicode_modified_misc5_persname_cleaned_up.xml'\n",
    "doc = etree.parse(open(path))\n",
    "mytree = doc.getroot()\n",
    "root = mytree"
   ]
  },
  {
   "cell_type": "code",
   "execution_count": null,
   "metadata": {},
   "outputs": [],
   "source": [
    "#ignore non-Sloane catnums and index <label type=\"index\">. End of index </div2>\n",
    "place_csv_data = []\n",
    "\n",
    "# labels = set()\n",
    "\n",
    "# for div3 in root.iter(\"{*}div3\"):\n",
    "for x in mytree.findall('.//{http://www.tei-c.org/ns/1.0}div3//{http://www.tei-c.org/ns/1.0}placeName'):\n",
    "    name = re.sub(r'\\s+', \" \", ''.join(x.itertext()))\n",
    "    name = re.sub(r'^\\s+', '', name)\n",
    "    name = re.sub(r'\\s+$', '', name)   \n",
    "    lookup_place(name, x)\n",
    "    \n",
    "#     places = list(div3.iter('{*}placeName'))\n",
    "#     catnums = list(div3.iter('{*}catnum'))\n",
    "#     clean_catnums = [cleanup_catnum(''.join(catnum.itertext())) for catnum in catnums]\n",
    "    \n",
    "#     page_id = find_pb_xml_id(div3)\n",
    "#     label = find_div2_label(div3)\n",
    "    \n",
    "# #     labels.add(label)\n",
    "#     if label.startswith('Index'):\n",
    "#         continue\n",
    "    \n",
    "#     if len(places) > 0:\n",
    "#         if page_id in excluded:\n",
    "#             continue\n",
    "\n",
    "#         This is an individual row to be saved as a dict\n",
    "#         res = {}\n",
    "\n",
    "#         res[\"div2_label\"] = label\n",
    "#         div3_text = ''.join(div3.itertext())\n",
    "\n",
    "#         catnum_res = []\n",
    "        \n",
    "#         Clean the catnums\n",
    "#         for name in clean_catnums:\n",
    "#             if not name:\n",
    "#                 name = ''\n",
    "#             catnum_res.append(name)\n",
    "            \n",
    "#         if not catnum_res:\n",
    "#             catnum_res = ['']\n",
    "#         res[\"catnum\"] = catnum_res\n",
    "        \n",
    "#         places_res = []\n",
    "#         places_id_res = []\n",
    "#         for place in places:\n",
    "#             import pdb; pdb.set_trace()\n",
    "#     name = re.sub(r'\\s+', \" \", ''.join(place.itertext()))\n",
    "\n",
    "#             places_id_res.append(place_id)\n",
    "            \n",
    "#         res[\"place\"] = places_res\n",
    "#         res[\"place_ids\"] = places_id_res\n",
    "        \n",
    "#         place_csv_data.append(res)\n",
    "\n",
    "# print(labels)"
   ]
  },
  {
   "cell_type": "code",
   "execution_count": null,
   "metadata": {},
   "outputs": [],
   "source": []
  },
  {
   "cell_type": "code",
   "execution_count": null,
   "metadata": {},
   "outputs": [],
   "source": [
    "# save down the xml\n",
    "doc.write(\"output_person_place_misc.xml\", encoding='utf-8')"
   ]
  },
  {
   "cell_type": "code",
   "execution_count": null,
   "metadata": {},
   "outputs": [],
   "source": [
    "from pprint import pprint as pp\n",
    "# Place names from body\n",
    "pp(place_csv_data)"
   ]
  },
  {
   "cell_type": "code",
   "execution_count": null,
   "metadata": {},
   "outputs": [],
   "source": [
    "# def find_catnums_in_div3(div3):\n",
    "#     return [cleanup_catnum(''.join(cn.itertext())) for cn in div3.findall(\"{*}catnum\")]\n",
    "\n",
    "# #matching names and inserting ID into persName ref\n",
    "# matches = {False: 0, True: 0}\n",
    "\n",
    "# data = []\n",
    "# # This is main body\n",
    "# for x in mytree.findall('.//{http://www.tei-c.org/ns/1.0}div3//{http://www.tei-c.org/ns/1.0}persName'):\n",
    "#     # All text inside persName tag\n",
    "#     name = re.sub(r'\\s+', \" \", ''.join(x.itertext()))\n",
    "#     name = cleanup_person_name(name)\n",
    "    \n",
    "#     # A few more rules\n",
    "# #     if name not in idmap:\n",
    "# #         print(\"not match\", name)\n",
    "\n",
    "# #     if name in idmap:\n",
    "#     div3 = find_enclosing_div3(x)\n",
    "#     div3_text = ''.join(div3.itertext()).strip()\n",
    "#     catnums = find_catnums_in_div3(div3)\n",
    "#     label = find_div2_label(x)\n",
    "#     if label.startswith('Index'):\n",
    "#         continue\n",
    "#     page = find_pb_xml_id(x)\n",
    "# #etree.tounicode(div3) to get XML\n",
    "#     # Modification to add in new attr to xml based on new requirement\n",
    "#     lookup_name(name, x, catnums, page)\n",
    "#     row = [name, idmap.get(name, None), viafmap.get(name, None), catnums, label, page, div3_text, etree.tounicode(div3)]\n",
    "#     data.append(row)\n",
    "\n",
    "# #         matches[name in idmap] += 1\n",
    "# #     if name in idmap:\n",
    "# #         x.attrib['ref'] = idmap[name]\n",
    "        \n",
    "# #print matches and count non-matches    \n",
    "# # print(matches)\n",
    "\n",
    "# '''\n",
    "# people_match_nonmatch_text.csv' gives the names that match from the header inc normalised names\n",
    "# and also the ones do not have their names in the header\n",
    "# '''\n",
    "# with open('people_match_nonmatch_text.csv', 'w') as file:\n",
    "#     writer = csv.writer(file)\n",
    "#     for row in data:\n",
    "#         writer.writerow(row)"
   ]
  },
  {
   "cell_type": "code",
   "execution_count": null,
   "metadata": {},
   "outputs": [],
   "source": [
    "# Create the dataframe and populate based on the dictionary\n",
    "\n",
    "df = pd.DataFrame({'div2_label': [], 'place': [], 'place_ids': [], 'catnum': []})\n",
    "for row in place_csv_data:\n",
    "    df = df.append({'div2_label': row['div2_label'], 'place': str(row['place']), 'place_ids': str(row['place_ids']), 'catnum': str(row['catnum'])}, ignore_index=True)\n",
    "df.head()"
   ]
  },
  {
   "cell_type": "code",
   "execution_count": null,
   "metadata": {},
   "outputs": [],
   "source": [
    "df[df.place_ids != '[None]'].to_csv('places_with_found_name_from_master_list.csv')\n"
   ]
  },
  {
   "cell_type": "code",
   "execution_count": null,
   "metadata": {},
   "outputs": [],
   "source": [
    "len(df[df.place_ids != '[None]'])"
   ]
  },
  {
   "cell_type": "code",
   "execution_count": null,
   "metadata": {},
   "outputs": [],
   "source": [
    "df[df.place_ids == '[None]'].to_csv('places_with_missing_name_from_master_list.csv')"
   ]
  },
  {
   "cell_type": "code",
   "execution_count": null,
   "metadata": {},
   "outputs": [],
   "source": [
    "len(df[df.place_ids == '[None]'])"
   ]
  },
  {
   "cell_type": "code",
   "execution_count": null,
   "metadata": {},
   "outputs": [],
   "source": [
    "# number of records\n",
    "len(df)"
   ]
  },
  {
   "cell_type": "code",
   "execution_count": null,
   "metadata": {},
   "outputs": [],
   "source": []
  },
  {
   "cell_type": "code",
   "execution_count": null,
   "metadata": {},
   "outputs": [],
   "source": [
    "variant_id_map"
   ]
  },
  {
   "cell_type": "code",
   "execution_count": null,
   "metadata": {},
   "outputs": [],
   "source": [
    "#total number of place name (count every place name element)\n",
    "len()"
   ]
  },
  {
   "cell_type": "code",
   "execution_count": null,
   "metadata": {},
   "outputs": [],
   "source": [
    "#matching place names and inserting ID into placeName ref. eg. <placeName ref=\"#Jerusalem\">Jerusalem</placeName>\n",
    "#There are existing ref already but not good enough."
   ]
  },
  {
   "cell_type": "code",
   "execution_count": null,
   "metadata": {},
   "outputs": [],
   "source": [
    "#print the place names that do not match the list in the header along with their catnum, div2, and page number"
   ]
  }
 ],
 "metadata": {
  "kernelspec": {
   "display_name": "Python 3",
   "language": "python",
   "name": "python3"
  },
  "language_info": {
   "codemirror_mode": {
    "name": "ipython",
    "version": 3
   },
   "file_extension": ".py",
   "mimetype": "text/x-python",
   "name": "python",
   "nbconvert_exporter": "python",
   "pygments_lexer": "ipython3",
   "version": "3.7.1"
  }
 },
 "nbformat": 4,
 "nbformat_minor": 4
}
