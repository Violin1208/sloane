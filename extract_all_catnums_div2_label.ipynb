{
 "cells": [
  {
   "cell_type": "code",
   "execution_count": 22,
   "metadata": {},
   "outputs": [],
   "source": [
    "#To extract catnum and its div2 label only from Misc XML file and save as csv\n",
    "from lxml import etree\n",
    "import re\n",
    "import csv"
   ]
  },
  {
   "cell_type": "code",
   "execution_count": 23,
   "metadata": {},
   "outputs": [],
   "source": [
    "path = '/Users/deborahleem/Documents/PhD/SloaneDBwork19/Miscellanies5Ah_MASTER_fixed_whitespaceDL.xml'\n",
    "doc = etree.parse(open(path))\n",
    "root = doc.getroot()"
   ]
  },
  {
   "cell_type": "code",
   "execution_count": 24,
   "metadata": {},
   "outputs": [],
   "source": [
    "def find_div2_label(element):\n",
    "    while element is not None:\n",
    "        if element.tag == '{http://www.tei-c.org/ns/1.0}div2':\n",
    "            label = element.find('{*}label')\n",
    "            if label is not None:\n",
    "                return label.text\n",
    "            return\n",
    "        element = element.getparent()"
   ]
  },
  {
   "cell_type": "code",
   "execution_count": 25,
   "metadata": {},
   "outputs": [],
   "source": [
    "results = []\n",
    "for catnum in root.iterfind('.//{*}catnum'):\n",
    "    text = \"\".join(catnum.itertext())\n",
    "    #removing space from beginning and end\n",
    "    text = re.sub(r'^\\s+', \"\", text)\n",
    "    text = re.sub(r'\\s+$', \"\", text)\n",
    "    label = find_div2_label(catnum)\n",
    "    results.append([text, label])\n",
    "    #print(etree.tostring(catnum))\n",
    "    #print([text, label])"
   ]
  },
  {
   "cell_type": "code",
   "execution_count": 28,
   "metadata": {},
   "outputs": [],
   "source": [
    "with open('all_catnums_and_their_div2_labels.csv', 'w') as file:\n",
    "    writer = csv.writer(file)\n",
    "    for catnum, label in results:\n",
    "        writer.writerow([catnum, label])\n",
    "        "
   ]
  },
  {
   "cell_type": "code",
   "execution_count": null,
   "metadata": {},
   "outputs": [],
   "source": []
  }
 ],
 "metadata": {
  "kernelspec": {
   "display_name": "Python 3",
   "language": "python",
   "name": "python3"
  },
  "language_info": {
   "codemirror_mode": {
    "name": "ipython",
    "version": 3
   },
   "file_extension": ".py",
   "mimetype": "text/x-python",
   "name": "python",
   "nbconvert_exporter": "python",
   "pygments_lexer": "ipython3",
   "version": "3.7.1"
  }
 },
 "nbformat": 4,
 "nbformat_minor": 2
}
