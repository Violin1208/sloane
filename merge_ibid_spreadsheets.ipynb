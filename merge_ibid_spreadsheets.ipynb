{
 "cells": [
  {
   "cell_type": "code",
   "execution_count": 4,
   "id": "4bbca4f4-c550-4612-8106-338676e7e918",
   "metadata": {},
   "outputs": [],
   "source": [
    "import pandas as pd\n",
    "import os\n",
    "from ast import literal_eval\n"
   ]
  },
  {
   "cell_type": "code",
   "execution_count": 13,
   "id": "2ae78074-f431-426e-b308-daa5e15cad73",
   "metadata": {},
   "outputs": [
    {
     "name": "stdout",
     "output_type": "stream",
     "text": [
      "['underlined_july_21.csv', 'people_places07032022.csv', 'underlined_july_21.xlsx']\n"
     ]
    }
   ],
   "source": [
    "files = [x for x in os.listdir('./csv') if 'xlsx' in x or 'csv' in x]\n",
    "print(files)"
   ]
  },
  {
   "cell_type": "code",
   "execution_count": 73,
   "id": "dfdac315-ae7a-4abb-a08e-ccaad31fd068",
   "metadata": {},
   "outputs": [],
   "source": [
    "underlined_df = pd.read_csv('./csv/underlined_july_21.csv', encoding='latin-1')\n",
    "\n",
    "underlined_df.catnum = underlined_df.catnum.apply(literal_eval)\n",
    "underlined_df.catnum = underlined_df.catnum.str[0]"
   ]
  },
  {
   "cell_type": "code",
   "execution_count": 74,
   "id": "27969dce-3455-4c40-b5b9-5199627ec2fb",
   "metadata": {},
   "outputs": [],
   "source": [
    "underlined_df.catnum = underlined_df.catnum.str.replace('*', '',regex=False)\n",
    "underlined_df.catnum = underlined_df.catnum.fillna('0')\n",
    "underlined_df.catnum = underlined_df.catnum.astype('int32') "
   ]
  },
  {
   "cell_type": "code",
   "execution_count": 92,
   "id": "641597bd-bc5d-41e7-9702-d17c3e8d015a",
   "metadata": {},
   "outputs": [],
   "source": [
    "\n",
    "# ,errors='ignore')\n",
    "underlined_df = underlined_df.sort_values(by=['label','catnum'])"
   ]
  },
  {
   "cell_type": "code",
   "execution_count": 94,
   "id": "1804212f-8dc7-4569-9bcc-2ed63753777e",
   "metadata": {},
   "outputs": [],
   "source": [
    "underlined_df.to_csv('./csv/underlined_july_21_revised.csv')"
   ]
  },
  {
   "cell_type": "code",
   "execution_count": 24,
   "id": "d615cbcb-acca-4d2a-b8c8-2b5423f42034",
   "metadata": {},
   "outputs": [],
   "source": []
  },
  {
   "cell_type": "code",
   "execution_count": 84,
   "id": "446911a2-b4cf-4e8a-8298-04a52a3a0465",
   "metadata": {},
   "outputs": [],
   "source": [
    "people_path = './csv/people_places07032022.csv'\n",
    "people_df = pd.read_csv(people_path, encoding='latin-1')"
   ]
  },
  {
   "cell_type": "code",
   "execution_count": 85,
   "id": "61fb1f44-a203-4482-8e00-aa53f52cc43a",
   "metadata": {},
   "outputs": [],
   "source": [
    "people_df.columns\n",
    "people_df = people_df.rename(columns={'ï»¿Cat name': 'label', 'Catnum': 'catnum'})"
   ]
  },
  {
   "cell_type": "code",
   "execution_count": 86,
   "id": "d2ca8e0d-c706-4f1e-b191-d08265a5c7b8",
   "metadata": {},
   "outputs": [],
   "source": [
    "people_df.catnum = people_df.catnum.apply(literal_eval)\n",
    "people_df.catnum = people_df.catnum.str[0]"
   ]
  },
  {
   "cell_type": "code",
   "execution_count": 87,
   "id": "314af980-9da0-4da2-9d89-8d225e65495e",
   "metadata": {},
   "outputs": [
    {
     "data": {
      "text/html": [
       "<div>\n",
       "<style scoped>\n",
       "    .dataframe tbody tr th:only-of-type {\n",
       "        vertical-align: middle;\n",
       "    }\n",
       "\n",
       "    .dataframe tbody tr th {\n",
       "        vertical-align: top;\n",
       "    }\n",
       "\n",
       "    .dataframe thead th {\n",
       "        text-align: right;\n",
       "    }\n",
       "</style>\n",
       "<table border=\"1\" class=\"dataframe\">\n",
       "  <thead>\n",
       "    <tr style=\"text-align: right;\">\n",
       "      <th></th>\n",
       "      <th>label</th>\n",
       "      <th>Person</th>\n",
       "      <th>Person ID</th>\n",
       "      <th>Place</th>\n",
       "      <th>Place ID</th>\n",
       "      <th>catnum</th>\n",
       "    </tr>\n",
       "  </thead>\n",
       "  <tbody>\n",
       "    <tr>\n",
       "      <th>0</th>\n",
       "      <td>Miscellanies.</td>\n",
       "      <td>['Mr. Amyand']</td>\n",
       "      <td>['#Mr._Amyand']</td>\n",
       "      <td>['East Indies']</td>\n",
       "      <td>['#East_Indies']</td>\n",
       "      <td>1799</td>\n",
       "    </tr>\n",
       "    <tr>\n",
       "      <th>1</th>\n",
       "      <td>Miscellanies.</td>\n",
       "      <td>['Mr. Theobalds']</td>\n",
       "      <td>['#James_Theobalds_Esqr']</td>\n",
       "      <td>['Norway']</td>\n",
       "      <td>['#Norway']</td>\n",
       "      <td>1801</td>\n",
       "    </tr>\n",
       "    <tr>\n",
       "      <th>2</th>\n",
       "      <td>Miscellanies.</td>\n",
       "      <td>['Mr. Roberts']</td>\n",
       "      <td>['#Mr_Roberts']</td>\n",
       "      <td>[]</td>\n",
       "      <td>[]</td>\n",
       "      <td>1806</td>\n",
       "    </tr>\n",
       "    <tr>\n",
       "      <th>3</th>\n",
       "      <td>Miscellanies.</td>\n",
       "      <td>['Mr. Mc. Cormick']</td>\n",
       "      <td>['#MrMC']</td>\n",
       "      <td>['Lisbon']</td>\n",
       "      <td>['#Lisbon']</td>\n",
       "      <td>1807</td>\n",
       "    </tr>\n",
       "    <tr>\n",
       "      <th>4</th>\n",
       "      <td>Miscellanies.</td>\n",
       "      <td>[]</td>\n",
       "      <td>[]</td>\n",
       "      <td>['Lisbone']</td>\n",
       "      <td>['#Lisbon']</td>\n",
       "      <td>1808</td>\n",
       "    </tr>\n",
       "  </tbody>\n",
       "</table>\n",
       "</div>"
      ],
      "text/plain": [
       "           label               Person                  Person ID  \\\n",
       "0  Miscellanies.       ['Mr. Amyand']            ['#Mr._Amyand']   \n",
       "1  Miscellanies.    ['Mr. Theobalds']  ['#James_Theobalds_Esqr']   \n",
       "2  Miscellanies.      ['Mr. Roberts']            ['#Mr_Roberts']   \n",
       "3  Miscellanies.  ['Mr. Mc. Cormick']                  ['#MrMC']   \n",
       "4  Miscellanies.                   []                         []   \n",
       "\n",
       "             Place          Place ID catnum  \n",
       "0  ['East Indies']  ['#East_Indies']   1799  \n",
       "1       ['Norway']       ['#Norway']   1801  \n",
       "2               []                []   1806  \n",
       "3       ['Lisbon']       ['#Lisbon']   1807  \n",
       "4      ['Lisbone']       ['#Lisbon']   1808  "
      ]
     },
     "execution_count": 87,
     "metadata": {},
     "output_type": "execute_result"
    }
   ],
   "source": [
    "people_df.head()"
   ]
  },
  {
   "cell_type": "code",
   "execution_count": 88,
   "id": "4e557310-61dc-4cdc-86a0-760cc589fa04",
   "metadata": {},
   "outputs": [],
   "source": [
    "people_df.catnum = people_df.catnum.str.replace('*', '',regex=False)\n",
    "people_df.catnum = people_df.catnum.fillna('0')\n",
    "people_df.catnum = people_df.catnum.astype('int32') \n",
    "people_df = people_df.sort_values(by=['label','catnum'])\n"
   ]
  },
  {
   "cell_type": "code",
   "execution_count": 89,
   "id": "388a1716-6e1d-4974-9054-10739f79d74c",
   "metadata": {},
   "outputs": [],
   "source": [
    "people_df.to_csv('./csv/people_places_revised.csv')"
   ]
  },
  {
   "cell_type": "code",
   "execution_count": 90,
   "id": "1627b9a8-7534-4ddb-9757-80f7a03bd652",
   "metadata": {},
   "outputs": [
    {
     "data": {
      "text/html": [
       "<div>\n",
       "<style scoped>\n",
       "    .dataframe tbody tr th:only-of-type {\n",
       "        vertical-align: middle;\n",
       "    }\n",
       "\n",
       "    .dataframe tbody tr th {\n",
       "        vertical-align: top;\n",
       "    }\n",
       "\n",
       "    .dataframe thead th {\n",
       "        text-align: right;\n",
       "    }\n",
       "</style>\n",
       "<table border=\"1\" class=\"dataframe\">\n",
       "  <thead>\n",
       "    <tr style=\"text-align: right;\">\n",
       "      <th></th>\n",
       "      <th>label</th>\n",
       "      <th>Person</th>\n",
       "      <th>Person ID</th>\n",
       "      <th>Place</th>\n",
       "      <th>Place ID</th>\n",
       "      <th>catnum</th>\n",
       "    </tr>\n",
       "  </thead>\n",
       "  <tbody>\n",
       "    <tr>\n",
       "      <th>1361</th>\n",
       "      <td>Agate cups botles spoons &amp;c.</td>\n",
       "      <td>['Mr. Marlow']</td>\n",
       "      <td>['#Mr._Marlow']</td>\n",
       "      <td>[]</td>\n",
       "      <td>[]</td>\n",
       "      <td>8</td>\n",
       "    </tr>\n",
       "    <tr>\n",
       "      <th>1362</th>\n",
       "      <td>Agate cups botles spoons &amp;c.</td>\n",
       "      <td>['Mr. Marlow']</td>\n",
       "      <td>['#Mr._Marlow']</td>\n",
       "      <td>[]</td>\n",
       "      <td>[]</td>\n",
       "      <td>11</td>\n",
       "    </tr>\n",
       "    <tr>\n",
       "      <th>1363</th>\n",
       "      <td>Agate cups botles spoons &amp;c.</td>\n",
       "      <td>['Mr. Marlow']</td>\n",
       "      <td>['#Mr._Marlow']</td>\n",
       "      <td>[]</td>\n",
       "      <td>[]</td>\n",
       "      <td>13</td>\n",
       "    </tr>\n",
       "    <tr>\n",
       "      <th>1364</th>\n",
       "      <td>Agate cups botles spoons &amp;c.</td>\n",
       "      <td>['King Charles the first']</td>\n",
       "      <td>['#Charles_I']</td>\n",
       "      <td>[]</td>\n",
       "      <td>[]</td>\n",
       "      <td>19</td>\n",
       "    </tr>\n",
       "    <tr>\n",
       "      <th>1365</th>\n",
       "      <td>Agate cups botles spoons &amp;c.</td>\n",
       "      <td>['Mrs. Hayes']</td>\n",
       "      <td>['#Mrs_Hayes']</td>\n",
       "      <td>[]</td>\n",
       "      <td>[]</td>\n",
       "      <td>28</td>\n",
       "    </tr>\n",
       "    <tr>\n",
       "      <th>...</th>\n",
       "      <td>...</td>\n",
       "      <td>...</td>\n",
       "      <td>...</td>\n",
       "      <td>...</td>\n",
       "      <td>...</td>\n",
       "      <td>...</td>\n",
       "    </tr>\n",
       "    <tr>\n",
       "      <th>1332</th>\n",
       "      <td>Pictures &amp;c.</td>\n",
       "      <td>['Mr. Ray', 'Faithorn']</td>\n",
       "      <td>['#John_Ray', '#William_Faithorne']</td>\n",
       "      <td>[]</td>\n",
       "      <td>[]</td>\n",
       "      <td>407</td>\n",
       "    </tr>\n",
       "    <tr>\n",
       "      <th>1333</th>\n",
       "      <td>Pictures &amp;c.</td>\n",
       "      <td>['Mrs. A. Thornburgh']</td>\n",
       "      <td>['#Mrs._Thornburgh']</td>\n",
       "      <td>['antwerp']</td>\n",
       "      <td>['#Antwerp']</td>\n",
       "      <td>468</td>\n",
       "    </tr>\n",
       "    <tr>\n",
       "      <th>1334</th>\n",
       "      <td>Pictures &amp;c.</td>\n",
       "      <td>['Mr. Halett']</td>\n",
       "      <td>['#Mr._Halett']</td>\n",
       "      <td>['Siam']</td>\n",
       "      <td>['#Siam']</td>\n",
       "      <td>469</td>\n",
       "    </tr>\n",
       "    <tr>\n",
       "      <th>1335</th>\n",
       "      <td>Pictures &amp;c.</td>\n",
       "      <td>['Mr. Thomas Briton', 'Woollaston']</td>\n",
       "      <td>['#Thomas_Britton', '#John_Wollaston']</td>\n",
       "      <td>['London']</td>\n",
       "      <td>['#London']</td>\n",
       "      <td>470</td>\n",
       "    </tr>\n",
       "    <tr>\n",
       "      <th>1336</th>\n",
       "      <td>Pictures &amp;c.</td>\n",
       "      <td>['Duke of Cumberland', 'Mr. Jackson']</td>\n",
       "      <td>['#Duke_of_Cumberland', '#Mr_Jackson']</td>\n",
       "      <td>[]</td>\n",
       "      <td>[]</td>\n",
       "      <td>471</td>\n",
       "    </tr>\n",
       "  </tbody>\n",
       "</table>\n",
       "<p>1389 rows × 6 columns</p>\n",
       "</div>"
      ],
      "text/plain": [
       "                             label                                 Person  \\\n",
       "1361  Agate cups botles spoons &c.                         ['Mr. Marlow']   \n",
       "1362  Agate cups botles spoons &c.                         ['Mr. Marlow']   \n",
       "1363  Agate cups botles spoons &c.                         ['Mr. Marlow']   \n",
       "1364  Agate cups botles spoons &c.             ['King Charles the first']   \n",
       "1365  Agate cups botles spoons &c.                         ['Mrs. Hayes']   \n",
       "...                            ...                                    ...   \n",
       "1332                  Pictures &c.                ['Mr. Ray', 'Faithorn']   \n",
       "1333                  Pictures &c.                 ['Mrs. A. Thornburgh']   \n",
       "1334                  Pictures &c.                         ['Mr. Halett']   \n",
       "1335                  Pictures &c.    ['Mr. Thomas Briton', 'Woollaston']   \n",
       "1336                  Pictures &c.  ['Duke of Cumberland', 'Mr. Jackson']   \n",
       "\n",
       "                                   Person ID        Place      Place ID  \\\n",
       "1361                         ['#Mr._Marlow']           []            []   \n",
       "1362                         ['#Mr._Marlow']           []            []   \n",
       "1363                         ['#Mr._Marlow']           []            []   \n",
       "1364                          ['#Charles_I']           []            []   \n",
       "1365                          ['#Mrs_Hayes']           []            []   \n",
       "...                                      ...          ...           ...   \n",
       "1332     ['#John_Ray', '#William_Faithorne']           []            []   \n",
       "1333                    ['#Mrs._Thornburgh']  ['antwerp']  ['#Antwerp']   \n",
       "1334                         ['#Mr._Halett']     ['Siam']     ['#Siam']   \n",
       "1335  ['#Thomas_Britton', '#John_Wollaston']   ['London']   ['#London']   \n",
       "1336  ['#Duke_of_Cumberland', '#Mr_Jackson']           []            []   \n",
       "\n",
       "      catnum  \n",
       "1361       8  \n",
       "1362      11  \n",
       "1363      13  \n",
       "1364      19  \n",
       "1365      28  \n",
       "...      ...  \n",
       "1332     407  \n",
       "1333     468  \n",
       "1334     469  \n",
       "1335     470  \n",
       "1336     471  \n",
       "\n",
       "[1389 rows x 6 columns]"
      ]
     },
     "execution_count": 90,
     "metadata": {},
     "output_type": "execute_result"
    }
   ],
   "source": [
    "people_df"
   ]
  },
  {
   "cell_type": "code",
   "execution_count": 96,
   "id": "f356d7a0-dd3c-45b9-b65b-9a7b055c1f52",
   "metadata": {},
   "outputs": [],
   "source": [
    "merged_df = pd.merge(underlined_df,people_df,on=['label', 'catnum'],how='outer')"
   ]
  },
  {
   "cell_type": "code",
   "execution_count": 97,
   "id": "171db3c8-f991-465f-a2d9-fb50f37ff35d",
   "metadata": {},
   "outputs": [],
   "source": [
    "merged_df.to_csv('./csv/merged_data.csv')"
   ]
  },
  {
   "cell_type": "code",
   "execution_count": 98,
   "id": "2a23aa52-f0a2-4afd-bfc2-e71e6d9b0587",
   "metadata": {},
   "outputs": [],
   "source": [
    "inner_merged_df = pd.merge(underlined_df,people_df,on=['label', 'catnum'])"
   ]
  },
  {
   "cell_type": "code",
   "execution_count": 99,
   "id": "e03ebc3c-3b76-4e77-81e8-b36fefef8180",
   "metadata": {},
   "outputs": [],
   "source": [
    "inner_merged_df.to_csv('./csv/inner_merged_data.csv')"
   ]
  },
  {
   "cell_type": "raw",
   "id": "9437c652-d02f-43b3-9793-e9cc502a5236",
   "metadata": {},
   "source": [
    "MERGING IN 3rd Spreadsheet (Collectors)"
   ]
  },
  {
   "cell_type": "code",
   "execution_count": 100,
   "id": "8e6aab30-1e28-4625-818b-352420d06f58",
   "metadata": {},
   "outputs": [],
   "source": [
    "ea_df = pd.read_csv('csv/revised_EA_names.csv')"
   ]
  },
  {
   "cell_type": "code",
   "execution_count": 102,
   "id": "b0846ef2-9e6f-4175-83cf-8418e37f6483",
   "metadata": {},
   "outputs": [
    {
     "data": {
      "text/plain": [
       "Index(['Unnamed: 0', 'Name', 'Catalogue', 'Catnum', 'Keyword', 'Place',\n",
       "       'Dates', 'Profession'],\n",
       "      dtype='object')"
      ]
     },
     "execution_count": 102,
     "metadata": {},
     "output_type": "execute_result"
    }
   ],
   "source": [
    "ea_df.columns"
   ]
  },
  {
   "cell_type": "code",
   "execution_count": 104,
   "id": "3f6a881f-d1da-4b92-9f90-45e6740e0d9b",
   "metadata": {},
   "outputs": [],
   "source": [
    "ea_df = ea_df.rename(columns={'Catalogue': 'label', 'Catnum': 'catnum'})"
   ]
  },
  {
   "cell_type": "code",
   "execution_count": null,
   "id": "43d96ad2-7480-4c8c-8581-7bbb66cd136b",
   "metadata": {},
   "outputs": [],
   "source": [
    "ea_df.catnum = ea_df.catnum.astype('int32') "
   ]
  },
  {
   "cell_type": "code",
   "execution_count": null,
   "id": "d9211371-af96-4a4a-9091-80bcc9f8fe63",
   "metadata": {},
   "outputs": [],
   "source": [
    "final_merged_df = pd.merge(merged_df,ea_df,on=['label', 'catnum'],how='outer')"
   ]
  },
  {
   "cell_type": "code",
   "execution_count": null,
   "id": "0406eaab-c35e-433d-9405-353313bb52e5",
   "metadata": {},
   "outputs": [],
   "source": []
  }
 ],
 "metadata": {
  "kernelspec": {
   "display_name": "Python 3 (ipykernel)",
   "language": "python",
   "name": "python3"
  },
  "language_info": {
   "codemirror_mode": {
    "name": "ipython",
    "version": 3
   },
   "file_extension": ".py",
   "mimetype": "text/x-python",
   "name": "python",
   "nbconvert_exporter": "python",
   "pygments_lexer": "ipython3",
   "version": "3.10.0"
  }
 },
 "nbformat": 4,
 "nbformat_minor": 5
}
