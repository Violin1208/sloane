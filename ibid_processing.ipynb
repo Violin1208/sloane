{
 "cells": [
  {
   "cell_type": "raw",
   "metadata": {},
   "source": [
    "First iteration of processing different spreadsheet"
   ]
  },
  {
   "cell_type": "code",
   "execution_count": 1,
   "metadata": {},
   "outputs": [],
   "source": [
    "import pandas as pd\n",
    "import os"
   ]
  },
  {
   "cell_type": "code",
   "execution_count": 2,
   "metadata": {},
   "outputs": [
    {
     "name": "stdout",
     "output_type": "stream",
     "text": [
      "['Untitled.ipynb', '29-08-18 EA Name authority list from catalogues.xlsx', 'underlined_july_21.xlsx', '~$29-08-18 EA Name authority list from catalogues.xlsx', '.ipynb_checkpoints', 'people_and_places_manual_object_inspection.xlsx']\n"
     ]
    }
   ],
   "source": [
    "files = os.listdir()\n",
    "print(files)"
   ]
  },
  {
   "cell_type": "code",
   "execution_count": 3,
   "metadata": {},
   "outputs": [],
   "source": [
    "p1 = files[1]\n",
    "p2 = files[2]\n",
    "p3 = files[4]"
   ]
  },
  {
   "cell_type": "code",
   "execution_count": 4,
   "metadata": {},
   "outputs": [
    {
     "name": "stdout",
     "output_type": "stream",
     "text": [
      "29-08-18 EA Name authority list from catalogues.xlsx\n",
      "underlined_july_21.xlsx\n",
      ".ipynb_checkpoints\n"
     ]
    }
   ],
   "source": [
    "print(p1)\n",
    "print(p2)\n",
    "print(p3)"
   ]
  },
  {
   "cell_type": "code",
   "execution_count": 6,
   "metadata": {},
   "outputs": [
    {
     "data": {
      "text/plain": [
       "'29-08-18 EA Name authority list from catalogues.xlsx'"
      ]
     },
     "execution_count": 6,
     "metadata": {},
     "output_type": "execute_result"
    }
   ],
   "source": [
    "p1"
   ]
  },
  {
   "cell_type": "code",
   "execution_count": 14,
   "metadata": {},
   "outputs": [
    {
     "data": {
      "text/plain": [
       "Index(['Name and title (where multiple entries on one page list examples in one row)',\n",
       "       'Folio Number', 'Catalogue', 'Image Number ', 'Catalogue Number',\n",
       "       'Location code? (Roman numeral + pencil number)', 'Catalogue Entry ',\n",
       "       'Keyword', 'Associated place ', 'Dates if known', 'Reference',\n",
       "       'Profession', 'Notes', 'Unnamed: 13'],\n",
       "      dtype='object')"
      ]
     },
     "execution_count": 14,
     "metadata": {},
     "output_type": "execute_result"
    }
   ],
   "source": [
    "df.columns"
   ]
  },
  {
   "cell_type": "code",
   "execution_count": 25,
   "metadata": {},
   "outputs": [],
   "source": [
    "# with open(p1) as f:\n",
    "df = pd.read_excel(p1, sheet_name=1,engine='openpyxl').sort_values(by=['Catalogue', 'Catalogue Number'])\n",
    "df = df.rename(columns={'Name and title (where multiple entries on one page list examples in one row)': 'Name'})\n",
    "df = df.rename(columns={'Catalogue Number': 'Catnum'})\n",
    "df = df.rename(columns={'Dates if known': 'Dates'})\n",
    "df = df.rename(columns={'Associated place ': 'Place'})\n",
    "\n",
    "new_df = df[['Name', 'Catalogue', 'Catnum', 'Keyword', 'Place','Dates', 'Profession']]\n",
    "new_df.to_csv('revised_EA_names.csv')"
   ]
  },
  {
   "cell_type": "code",
   "execution_count": null,
   "metadata": {},
   "outputs": [],
   "source": []
  }
 ],
 "metadata": {
  "kernelspec": {
   "display_name": "Python 3 (ipykernel)",
   "language": "python",
   "name": "python3"
  },
  "language_info": {
   "codemirror_mode": {
    "name": "ipython",
    "version": 3
   },
   "file_extension": ".py",
   "mimetype": "text/x-python",
   "name": "python",
   "nbconvert_exporter": "python",
   "pygments_lexer": "ipython3",
   "version": "3.10.0"
  }
 },
 "nbformat": 4,
 "nbformat_minor": 4
}
