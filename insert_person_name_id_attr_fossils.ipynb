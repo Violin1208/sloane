{
 "cells": [
  {
   "cell_type": "code",
   "execution_count": 1,
   "metadata": {},
   "outputs": [],
   "source": [
    "#Find person names <persName> in <body> that match the list  <listPerson> in the header. Then, fetch the person's xml:id and put the value into <persName> element in the <body>.\n",
    "# eg. <persName ref=\"#Anna_Maria_van_Schurman\">\n",
    "\n",
    "# Create a dictionary with <persName> in the <body> as a key and use xml:id as a value\n",
    "\n",
    "#Insert the value of xml:id into the corresponding persName element. eg. xml:id=\"Duke_Marlborough\", <persName ref=\"#Duke_Marlborough\"\n",
    "\n",
    "#Latest file name Fossils1Ah_MASTER_DL24032021.xml on 24 March 2021\n",
    "\n",
    "#To ignore digits from <add rend=\"del\"> and <add rend=\"pencil\"> \n",
    "#from <catnum>, remove: -; ____; ?; .; and a tick in front of a number.\n",
    "\n",
    "\n",
    "#before output a new XML, ensure nothing is removed or deleted from the original XML.\n",
    "#Last updated 24 March 2021\n",
    "#Fossils corals xml\n",
    "\n",
    "from lxml import etree\n",
    "import re\n",
    "import csv"
   ]
  },
  {
   "cell_type": "code",
   "execution_count": 2,
   "metadata": {},
   "outputs": [],
   "source": [
    "path = '/Users/deborahleem/Documents/1_PhD/Fossils1Ah_MASTER_DL24032021.xml'\n",
    "doc = etree.parse(open(path))\n",
    "mytree = doc.getroot()\n",
    "root = mytree"
   ]
  },
  {
   "cell_type": "code",
   "execution_count": 3,
   "metadata": {},
   "outputs": [
    {
     "data": {
      "text/plain": [
       "'utf-8'"
      ]
     },
     "execution_count": 3,
     "metadata": {},
     "output_type": "execute_result"
    }
   ],
   "source": [
    "doc.docinfo.encoding"
   ]
  },
  {
   "cell_type": "code",
   "execution_count": 5,
   "metadata": {},
   "outputs": [
    {
     "ename": "IndentationError",
     "evalue": "unindent does not match any outer indentation level (<tokenize>, line 16)",
     "output_type": "error",
     "traceback": [
      "\u001b[0;36m  File \u001b[0;32m\"<tokenize>\"\u001b[0;36m, line \u001b[0;32m16\u001b[0m\n\u001b[0;31m    remove_element(e)\u001b[0m\n\u001b[0m    ^\u001b[0m\n\u001b[0;31mIndentationError\u001b[0m\u001b[0;31m:\u001b[0m unindent does not match any outer indentation level\n"
     ]
    }
   ],
   "source": [
    "def remove_element(el):\n",
    "    parent = el.getparent()\n",
    "    if el.tail:\n",
    "        prev = el.getprevious()\n",
    "        if prev:\n",
    "            prev.tail = (prev.tail or '') + el.tail\n",
    "        else:\n",
    "            parent.text = (parent.text or '') + el.tail\n",
    "    parent.remove(el)\n",
    "\n",
    "# Remove every <add rend=\"del\"> and <add rend=\"pencil\"> from document before the rest of analysis. Duke of Monmouth is the only one with deleted name.\n",
    "#Confusing to have these with catnum\n",
    "for e in list(root.iterfind('.//{*}add')):\n",
    "    if ('rend' in e.attrib) and (e.attrib['rend'] == 'del' or e.attrib['rend'] == 'pencil'):\n",
    "            continue\n",
    "        remove_element(e)"
   ]
  },
  {
   "cell_type": "code",
   "execution_count": null,
   "metadata": {},
   "outputs": [],
   "source": [
    "#which persName goes with which ID\n",
    "#viaf map shows viaf number with the corresponding person name\n",
    "# This has nothing to do with the body text\n",
    "idmap = {}\n",
    "viafmap = {}\n",
    "# go through master list person names\n",
    "for x in mytree.findall('.//{http://www.tei-c.org/ns/1.0}listPerson/{http://www.tei-c.org/ns/1.0}person'):\n",
    "    id = x.attrib['{http://www.w3.org/XML/1998/namespace}id']\n",
    "    # do find all on x object for persName\n",
    "    for name in x.findall('{http://www.tei-c.org/ns/1.0}persName'):\n",
    "        text = name.text\n",
    "        # create a mapping of name to person_id        \n",
    "        idmap[text] = '#' + id\n",
    "        idno = x.find(\"{*}idno\")\n",
    "        # if idno is found add to viafmap\n",
    "        if idno is not None:\n",
    "            viafmap[text] = idno.text\n"
   ]
  },
  {
   "cell_type": "code",
   "execution_count": null,
   "metadata": {},
   "outputs": [],
   "source": [
    "#create mapping of persNames (keys) to personIDs (values) using the listperon in the header\n",
    "#which persName goes with which personID\n",
    "#viaf map shows viaf number with the corresponding person name\n",
    "# This has nothing to do with the body text\n",
    "variant_id_map = {}\n",
    "# go through master list person names\n",
    "for x in mytree.findall('.//{http://www.tei-c.org/ns/1.0}listPerson/{http://www.tei-c.org/ns/1.0}person'):\n",
    "    id = x.attrib['{http://www.w3.org/XML/1998/namespace}id']\n",
    "    # do find all on x object for persName\n",
    "    for name in x.findall('{http://www.tei-c.org/ns/1.0}persName'):\n",
    "        text = name.text\n",
    "        # create a mapping of name to person_id\n",
    "#         check if name already exists. Add it to a list of available person_ids\n",
    "        variant_id_map.setdefault(text, []).append(id)\n",
    "#         variant_id_map[text] = '#' + id\n",
    "# print(variant_id_map)\n",
    "# with open('variant_id_map.csv')\n",
    "import json\n",
    "with open('variant_id_map.json', 'w') as fp:\n",
    "    json.dump(variant_id_map, fp)"
   ]
  },
  {
   "cell_type": "code",
   "execution_count": null,
   "metadata": {},
   "outputs": [],
   "source": [
    "len(variant_id_map)"
   ]
  },
  {
   "cell_type": "code",
   "execution_count": null,
   "metadata": {},
   "outputs": [],
   "source": [
    "#This section is not necessary\n",
    "def find_enclosing_div3(element):\n",
    "    while element is not None:\n",
    "        if element.tag == '{http://www.tei-c.org/ns/1.0}div3':\n",
    "            return element\n",
    "        element = element.getparent()\n",
    "    \n",
    "def find_pb_xml_id(element):\n",
    "    element = find_enclosing_div3(element)\n",
    "    while element is not None:\n",
    "#         print(element.tag)\n",
    "        if element.tag == '{http://www.tei-c.org/ns/1.0}pb':\n",
    "            return element.attrib['{http://www.w3.org/XML/1998/namespace}id']\n",
    "        element = element.getprevious()\n",
    "                \n",
    "# for catnum in root.iterfind('.//{*}catnum'):\n",
    "#     print(find_pb_xml_id(catnum))"
   ]
  },
  {
   "cell_type": "code",
   "execution_count": null,
   "metadata": {},
   "outputs": [],
   "source": [
    "#This section is not necessary\n",
    "def find_div2_label(element):\n",
    "    while element is not None:\n",
    "        if element.tag == '{http://www.tei-c.org/ns/1.0}div2':\n",
    "            label = element.find('{*}label')\n",
    "            if label is not None:\n",
    "                return ''.join(label.itertext()).strip()\n",
    "            return\n",
    "        element = element.getparent()"
   ]
  },
  {
   "cell_type": "code",
   "execution_count": null,
   "metadata": {},
   "outputs": [],
   "source": [
    "#Clean up catnum\n",
    "#This section is not necessary\n",
    "\n",
    "def cleanup_catnum(text):\n",
    "    #removing from beginning and end:\n",
    "    # \\s spaces/tabs/newlines\n",
    "    # \\- dashes\n",
    "    # . dots\n",
    "    # ? question marks\n",
    "    # _ underscores\n",
    "    # ✓\n",
    "    text = re.sub(r'^[ ✓\\t\\n.\\-_?]+', \"\", text)\n",
    "    text = re.sub(r'[ ✓\\t\\n.\\-_?]+$', \"\", text)\n",
    "    text = re.sub(r'[ ✓\\t\\n.\\-_?]+\\*', \"*\", text)\n",
    "    text = text.replace('. ', ' ')\n",
    "    return text"
   ]
  },
  {
   "cell_type": "code",
   "execution_count": null,
   "metadata": {},
   "outputs": [],
   "source": [
    "#To clean up person name\n",
    "def cleanup_person_name(name):\n",
    "    # Remove all spaces at start\n",
    "    name = re.sub(r'^\\s+', \"\", name)\n",
    "    # Get rid of all dots\n",
    "    #name = re.sub(r'\\.', '', name)\n",
    "    # Get rid of final 's\n",
    "    #name = re.sub('\\s*\\'s', '', name)\n",
    "    # = means contnued on next line, remove that\n",
    "    name = re.sub('\\s*=[\\s=]*', '', name)\n",
    "    # Remove spaces in \"M r\" etc. when at beginning of any word\n",
    "    name = re.sub(r'\\bM r\\b', 'Mr ', name)\n",
    "    name = re.sub(r'\\bM rs\\b', 'Mrs ', name)\n",
    "    name = re.sub(r'\\bD r\\b', 'Dr ', name)\n",
    "    name = re.sub(r'\\bS r\\b', 'Sr ', name)\n",
    "    name = re.sub(r'\\bCap t\\b', 'Capt ', name)\n",
    "    name = re.sub(r'\\bEsq r\\b', 'Esqr ', name)\n",
    "    name = re.sub(r'\\bW m\\b', 'Wm ', name)\n",
    "\n",
    "    # Clean up multiple spaces again\n",
    "    #name = re.sub(r'\\s+', \" \", name)\n",
    "    \n",
    "    return name"
   ]
  },
  {
   "cell_type": "code",
   "execution_count": null,
   "metadata": {},
   "outputs": [],
   "source": [
    "#Page number\n",
    "def find_pb_xml_id(element):\n",
    "    element = find_enclosing_div3(element)\n",
    "    while element is not None:\n",
    "        if element.tag == '{http://www.tei-c.org/ns/1.0}pb':\n",
    "            return element.attrib['{http://www.w3.org/XML/1998/namespace}id']\n",
    "        element = element.getprevious()"
   ]
  },
  {
   "cell_type": "code",
   "execution_count": null,
   "metadata": {},
   "outputs": [],
   "source": [
    "def lookup_name(name, x, catnums, page):\n",
    "    #     Use the value from our dictionary variant_id_map\n",
    "#     if 'duke' in name.lower():\n",
    "#         import pdb; pdb.set_trace()  \n",
    "    try:\n",
    "        val = str(variant_id_map[name])\n",
    "        val = val.replace('[', '').replace(']', '').replace('\"', '').replace(\"'\", '')\n",
    "        x.set('ref', '#'+val)\n",
    "        return True\n",
    "    except:\n",
    "        print('Issue adding in: ' + name + '\\ncatnum: ' + str(catnums) + '\\npage: ' + str(page) + '\\n')"
   ]
  },
  {
   "cell_type": "code",
   "execution_count": null,
   "metadata": {},
   "outputs": [],
   "source": [
    "path = '/Users/deborahleem/Documents/1_PhD/Fossils1Ah_MASTER_DL24032021.xml'\n",
    "doc = etree.parse(open(path))\n",
    "mytree = doc.getroot()"
   ]
  },
  {
   "cell_type": "code",
   "execution_count": null,
   "metadata": {},
   "outputs": [],
   "source": [
    "def find_catnums_in_div3(div3):\n",
    "    return [cleanup_catnum(''.join(cn.itertext())) for cn in div3.findall(\"{*}catnum\")]\n",
    "\n",
    "#matching names and inserting ID into persName ref\n",
    "matches = {False: 0, True: 0}\n",
    "\n",
    "data = []\n",
    "# This is main body\n",
    "for x in mytree.findall('.//{http://www.tei-c.org/ns/1.0}div3//{http://www.tei-c.org/ns/1.0}persName'):\n",
    "    # All text inside persName tag\n",
    "    name = re.sub(r'\\s+', \" \", ''.join(x.itertext()))\n",
    "    name = cleanup_person_name(name)\n",
    "    \n",
    "    # A few more rules\n",
    "#     if name not in idmap:\n",
    "#         print(\"not match\", name)\n",
    "\n",
    "#     if name in idmap:\n",
    "    div3 = find_enclosing_div3(x)\n",
    "    div3_text = ''.join(div3.itertext()).strip()\n",
    "    catnums = find_catnums_in_div3(div3)\n",
    "    label = find_div2_label(x)\n",
    "    if label.startswith('Index'):\n",
    "        continue\n",
    "    page = find_pb_xml_id(x)\n",
    "#etree.tounicode(div3) to get XML\n",
    "    # Modification to add in new attr to xml based on new requirement\n",
    "    if lookup_name(name, x, catnums, page):\n",
    "        row = [name, idmap.get(name, None), viafmap.get(name, None), catnums, label, page, div3_text, etree.tounicode(div3)]\n",
    "        data.append(row)\n",
    "\n",
    "#         matches[name in idmap] += 1\n",
    "#     if name in idmap:\n",
    "#         x.attrib['ref'] = idmap[name]\n",
    "        \n",
    "#print matches and count non-matches    \n",
    "# print(matches)\n",
    "\n",
    "'''\n",
    "people_match_nonmatch_text.csv' gives the names that match from the header inc normalised names\n",
    "and also the ones do not have their names in the header\n",
    "'''\n",
    "with open('people_match_nonmatch_text_after_attr2.csv', 'w') as file:\n",
    "    writer = csv.writer(file)\n",
    "    for row in data:\n",
    "        writer.writerow(row)"
   ]
  },
  {
   "cell_type": "code",
   "execution_count": null,
   "metadata": {},
   "outputs": [],
   "source": [
    "# save down modified xml to new filename\n",
    "# mydata = etree.tostring(mytree)\n",
    "# myfile = open(\"modified_misc.xml\", \"w\")\n",
    "# myfile.write(str(mydata))\n",
    "\n",
    "doc.write(\"unicode_modified_misc5.xml\", encoding='utf-8')"
   ]
  },
  {
   "cell_type": "code",
   "execution_count": null,
   "metadata": {},
   "outputs": [],
   "source": [
    "!pwd"
   ]
  },
  {
   "cell_type": "code",
   "execution_count": null,
   "metadata": {},
   "outputs": [],
   "source": [
    "dir(doc)\n",
    "type(doc)"
   ]
  },
  {
   "cell_type": "code",
   "execution_count": null,
   "metadata": {},
   "outputs": [],
   "source": [
    "# etree.tostring(doc, encoding='utf-8', xml_declaration=True)"
   ]
  }
 ],
 "metadata": {
  "kernelspec": {
   "display_name": "Python 3",
   "language": "python",
   "name": "python3"
  },
  "language_info": {
   "codemirror_mode": {
    "name": "ipython",
    "version": 3
   },
   "file_extension": ".py",
   "mimetype": "text/x-python",
   "name": "python",
   "nbconvert_exporter": "python",
   "pygments_lexer": "ipython3",
   "version": "3.7.1"
  }
 },
 "nbformat": 4,
 "nbformat_minor": 4
}
