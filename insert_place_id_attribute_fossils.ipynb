{
 "cells": [
  {
   "cell_type": "code",
   "execution_count": null,
   "metadata": {},
   "outputs": [],
   "source": [
    "#Find all place names <placeName> in <body> that match the list  <listPlace> in the header. Then, fetch the place xml:id and some other useful elements.\n",
    "#From only Sloane catnums\n",
    "#Ignore index\n",
    "#FossilsCorals XML file\n",
    "#9 <div2> with only 2 labels within\n",
    "#some <div3> has <p> before <catnum>\n"
   ]
  },
  {
   "cell_type": "code",
   "execution_count": null,
   "metadata": {},
   "outputs": [],
   "source": [
    "from lxml import etree\n",
    "import re\n",
    "import csv\n",
    "import pandas as pd"
   ]
  },
  {
   "cell_type": "code",
   "execution_count": null,
   "metadata": {},
   "outputs": [],
   "source": [
    "#to keep all namespaces correctly\n",
    "#import re\n",
    "#import xml.etree.ElementTree as ET\n",
    "\n",
    "#ET.register_namespace('',\"http://www.tei-c.org/ns/1.0\")\n",
    "#ET.register_namespace('ea',\"http://www.enlightenmentarchitectures.org\")\n",
    "#mytree = ET.parse('/Users/deborahleem/Documents/1_PhD/SloaneDBwork19/Miscellanies5Ah_MASTER_fixed_whitespaceDL-KS_050321 (1).xml')\n",
    "\n",
    "path = '/Users/deborahleem/Documents/1_PhD/Fossils1Ah_MASTER_DL24032021.xml'\n",
    "doc = etree.parse(open(path))\n",
    "mytree = doc.getroot()\n",
    "root = mytree"
   ]
  },
  {
   "cell_type": "code",
   "execution_count": null,
   "metadata": {},
   "outputs": [],
   "source": [
    "def remove_element(el):\n",
    "    parent = el.getparent()\n",
    "    if el.tail:\n",
    "        prev = el.getprevious()\n",
    "        if prev:\n",
    "            prev.tail = (prev.tail or '') + el.tail\n",
    "        else:\n",
    "            parent.text = (parent.text or '') + el.tail\n",
    "    parent.remove(el)\n",
    "\n",
    "# Remove every <add rend=\"del\"> and <add rend=\"pencil\"> from document before the rest of analysis\n",
    "for e in list(root.iterfind('.//{*}add')):\n",
    "    if ('rend' in e.attrib) and (e.attrib['rend'] == 'del' or e.attrib['rend'] == 'pencil'):\n",
    "            continue\n",
    "        remove_element(e)"
   ]
  },
  {
   "cell_type": "code",
   "execution_count": null,
   "metadata": {},
   "outputs": [],
   "source": [
    "def find_div2_label(element):\n",
    "    while element is not None:\n",
    "        if element.tag == '{http://www.tei-c.org/ns/1.0}div2':\n",
    "            label = element.find('{*}label')\n",
    "            if label is not None:\n",
    "                return ''.join(label.itertext()).strip()\n",
    "            return\n",
    "        element = element.getparent()"
   ]
  },
  {
   "cell_type": "code",
   "execution_count": null,
   "metadata": {},
   "outputs": [],
   "source": [
    "def find_enclosing_div3(element):\n",
    "    while element is not None:\n",
    "        if element.tag == '{http://www.tei-c.org/ns/1.0}div3':\n",
    "            return element\n",
    "        element = element.getparent()\n",
    "    \n",
    "def find_pb_xml_id(element):\n",
    "    element = find_enclosing_div3(element)\n",
    "    while element is not None:\n",
    "        if element.tag == '{http://www.tei-c.org/ns/1.0}pb':\n",
    "            return element.attrib['{http://www.w3.org/XML/1998/namespace}id']\n",
    "        element = element.getprevious()"
   ]
  },
  {
   "cell_type": "code",
   "execution_count": null,
   "metadata": {},
   "outputs": [],
   "source": [
    "def cleanup_catnum(text):\n",
    "    #removing from beginning and end:\n",
    "    # \\s spaces/tabs/newlines\n",
    "    # \\- dashes\n",
    "    # . dots\n",
    "    # ? question marks\n",
    "    # _ underscores\n",
    "    # ✓\n",
    "    text = re.sub(r'^[ ✓\\t\\n.\\-_?]+', \"\", text)\n",
    "    text = re.sub(r'[ ✓\\t\\n.\\-_?]+$', \"\", text)\n",
    "    text = re.sub(r'[ ✓\\t\\n.\\-_?]+\\*', \"*\", text)\n",
    "    text = text.replace('. ', ' ')\n",
    "    return text"
   ]
  },
  {
   "cell_type": "code",
   "execution_count": null,
   "metadata": {},
   "outputs": [],
   "source": [
    "#which placeName goes with which ID\n",
    "\n",
    "#viaf map shows viaf number with the corresponding person name\n",
    "# This has nothing to do with the body text as mapping is done with <listPerson> and <listPlace> in the <Header>\n",
    "idmap = {}\n",
    "variant_id_map = {}\n",
    "# go through master list place names\n",
    "for x in mytree.findall('.//{http://www.tei-c.org/ns/1.0}listPlace/{http://www.tei-c.org/ns/1.0}place'):\n",
    "    id = x.attrib['{http://www.w3.org/XML/1998/namespace}id']\n",
    "    # do find all on x object for placeName\n",
    "    for name in x.findall('{http://www.tei-c.org/ns/1.0}placeName'):\n",
    "        text = name.text\n",
    "        # create a mapping of name to place_id        \n",
    "        idmap[text.lower()] = '#' + id\n",
    "        variant_id_map.setdefault(text.lower(), []).append(id)\n",
    "        \n",
    "#         idno = x.find(\"{*}idno\")\n",
    "#         # if idno is found add to viafmap\n",
    "#         if idno is not None:\n",
    "#             viafmap[text] = idno.text\n"
   ]
  },
  {
   "cell_type": "code",
   "execution_count": null,
   "metadata": {},
   "outputs": [],
   "source": [
    "idmap"
   ]
  },
  {
   "cell_type": "code",
   "execution_count": null,
   "metadata": {},
   "outputs": [],
   "source": [
    "# find mappings where there are multiple ids linked to a place name\n",
    "{k:v for (k,v) in variant_id_map.items() if len(v) > 1}"
   ]
  },
  {
   "cell_type": "code",
   "execution_count": null,
   "metadata": {},
   "outputs": [],
   "source": [
    "def lookup_place(name, x):\n",
    "    \"\"\"Lookup in our dictionary created from the master list to obtain place name ID\"\"\"\n",
    "    #     Use the value from our dictionary variant_id_map\n",
    "#     if name == 'Jamaica':\n",
    "#         import pdb; pdb.set_trace()\n",
    "    try:\n",
    "        val = str(idmap[name.lower()])\n",
    "#         val = val.replace('[', '').replace(']', '').replace('\"', '').replace(\"'\", '')\n",
    "        print(name)\n",
    "        print('Adding in:' + val)\n",
    "#         return val\n",
    "#         x.set('key', val)\n",
    "        x.set('ref', val)\n",
    "    except:\n",
    "#           print('Issue adding in: ' + name)\n",
    "        print('Issue adding in: ' + name + '\\ncat num: ' + str('') + '\\npage: ' + str('') + '\\n')"
   ]
  },
  {
   "cell_type": "code",
   "execution_count": null,
   "metadata": {},
   "outputs": [],
   "source": [
    "# We must reload the xml root.This is a duplicate of the first cell.\n",
    "# This is because we don't want to remove things like add_rend.\n",
    "# The lookups above are still in memory.\n",
    "path = '/Users/deborahleem/Documents/1_PhD/Fossils1Ah_MASTER_DL24032021.xml'\n",
    "doc = etree.parse(open(path))\n",
    "mytree = doc.getroot()\n",
    "root = mytree"
   ]
  },
  {
   "cell_type": "code",
   "execution_count": null,
   "metadata": {},
   "outputs": [],
   "source": [
    "place_csv_data = []\n",
    "\n",
    "# labels = set()\n",
    "\n",
    "# for div3 in root.iter(\"{*}div3\"):\n",
    "for x in mytree.findall('.//{http://www.tei-c.org/ns/1.0}div3//{http://www.tei-c.org/ns/1.0}placeName'):\n",
    "    name = re.sub(r'\\s+', \" \", ''.join(x.itertext()))\n",
    "    name = re.sub(r'^\\s+', '', name)\n",
    "    name = re.sub(r'\\s+$', '', name)   \n",
    "    lookup_place(name, x)"
   ]
  },
  {
   "cell_type": "code",
   "execution_count": null,
   "metadata": {},
   "outputs": [],
   "source": [
    "# save down the xml\n",
    "doc.write(\"fossils_output_person_place_misc.xml\", encoding='utf-8')"
   ]
  },
  {
   "cell_type": "code",
   "execution_count": null,
   "metadata": {},
   "outputs": [],
   "source": [
    "from pprint import pprint as pp\n",
    "# Place names from body\n",
    "pp(place_csv_data)"
   ]
  },
  {
   "cell_type": "code",
   "execution_count": null,
   "metadata": {},
   "outputs": [],
   "source": [
    "# Create the dataframe and populate based on the dictionary\n",
    "\n",
    "df = pd.DataFrame({'div2_label': [], 'place': [], 'place_ids': [], 'catnum': []})\n",
    "for row in place_csv_data:\n",
    "    df = df.append({'div2_label': row['div2_label'], 'place': str(row['place']), 'place_ids': str(row['place_ids']), 'catnum': str(row['catnum'])}, ignore_index=True)\n",
    "df.head()"
   ]
  },
  {
   "cell_type": "code",
   "execution_count": null,
   "metadata": {},
   "outputs": [],
   "source": [
    "df[df.place_ids != '[None]'].to_csv('places_with_found_name_from_master_list.csv')\n"
   ]
  },
  {
   "cell_type": "code",
   "execution_count": null,
   "metadata": {},
   "outputs": [],
   "source": [
    "len(df[df.place_ids != '[None]'])"
   ]
  },
  {
   "cell_type": "code",
   "execution_count": null,
   "metadata": {},
   "outputs": [],
   "source": [
    "df[df.place_ids == '[None]'].to_csv('places_with_missing_name_from_master_list.csv')"
   ]
  },
  {
   "cell_type": "code",
   "execution_count": null,
   "metadata": {},
   "outputs": [],
   "source": [
    "len(df[df.place_ids == '[None]'])"
   ]
  }
 ],
 "metadata": {
  "kernelspec": {
   "display_name": "Python 3",
   "language": "python",
   "name": "python3"
  },
  "language_info": {
   "codemirror_mode": {
    "name": "ipython",
    "version": 3
   },
   "file_extension": ".py",
   "mimetype": "text/x-python",
   "name": "python",
   "nbconvert_exporter": "python",
   "pygments_lexer": "ipython3",
   "version": "3.7.1"
  }
 },
 "nbformat": 4,
 "nbformat_minor": 4
}
